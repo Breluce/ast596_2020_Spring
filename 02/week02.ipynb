{
 "cells": [
  {
   "cell_type": "code",
   "execution_count": 1,
   "metadata": {
    "slideshow": {
     "slide_type": "skip"
    }
   },
   "outputs": [
    {
     "data": {
      "text/plain": [
       "{'width': 1920, 'height': 1080, 'scroll': True}"
      ]
     },
     "execution_count": 1,
     "metadata": {},
     "output_type": "execute_result"
    }
   ],
   "source": [
    "from notebook.services.config import ConfigManager\n",
    "cm = ConfigManager()\n",
    "cm.update('livereveal', {\n",
    "        'width': 1920,\n",
    "        'height': 1080,\n",
    "        'scroll': True,\n",
    "})"
   ]
  },
  {
   "cell_type": "markdown",
   "metadata": {
    "slideshow": {
     "slide_type": "slide"
    }
   },
   "source": [
    "# Week 02, ASTR 596: Fundamentals of Data Science\n",
    "\n",
    "### Gautham Narayan \n",
    "##### <gsn@illinois.edu>\n",
    "\n",
    "\n",
    "##### With contributions totally ripped of from Zjelko Ivezic and Mario Juric (UW), Gordon Richards (Drexel), Federica Bianco (U. Del) and Maria Suveges (EPFL)\n",
    "\n"
   ]
  },
  {
   "cell_type": "markdown",
   "metadata": {
    "slideshow": {
     "slide_type": "slide"
    }
   },
   "source": [
    "## Recap\n",
    "\n",
    "* We've done an overview of \"descriptive\" statistics (as opposed to inferential statistics)\n",
    "* Random variables (discrete and continuous), sample estimators, covariance\n",
    "    * Bayes' rule and how it follows from the axioms of probability\n",
    "    * conditional probability, marginalization"
   ]
  },
  {
   "cell_type": "markdown",
   "metadata": {
    "slideshow": {
     "slide_type": "subslide"
    }
   },
   "source": [
    "* Distributions (univariate and multivariate), moments, common distributions, PDFs, CDFs\n",
    "* Random variables as samples from a distribution \n",
    "* Why you should look at the samples, not just moments/summary statistics\n",
    "* Comparing samples to a normal distribution (the QQ plot), identifying skewness, outliers"
   ]
  },
  {
   "cell_type": "markdown",
   "metadata": {
    "slideshow": {
     "slide_type": "subslide"
    }
   },
   "source": [
    "* The central limit theorem\n",
    "* Basic visualizations of multivariate data\n",
    "* Dealing with basic astronomical data types"
   ]
  },
  {
   "cell_type": "markdown",
   "metadata": {
    "slideshow": {
     "slide_type": "slide"
    }
   },
   "source": [
    "### <center> Remember the goal is to get to <i>P(H|D).</i> </center>\n",
    "\n",
    "### <center> What questions do you have? </center>"
   ]
  },
  {
   "cell_type": "markdown",
   "metadata": {
    "slideshow": {
     "slide_type": "slide"
    }
   },
   "source": [
    "## The Method of Moments and Hypothesis Testing \n",
    "\n",
    "\n",
    "### The Method of Moments (Chebyshev, 1887)\n",
    "We know how to estimate moments if we have an underlying description of the population - the PDF\n",
    "\n",
    "### <center> $\\mu_{n} = \\int_{-\\infty}^{\\infty} (x-c)^{n} \\cdot p(x) \\cdot dx $ </center>"
   ]
  },
  {
   "cell_type": "markdown",
   "metadata": {
    "slideshow": {
     "slide_type": "subslide"
    }
   },
   "source": [
    "Generally, we do not have the PDF but have some random samples that are drawn from it."
   ]
  },
  {
   "cell_type": "markdown",
   "metadata": {
    "slideshow": {
     "slide_type": "subslide"
    }
   },
   "source": [
    "We have been equating sample moments with population moments already\n",
    "\n",
    "* the KDE plot with multivariate data\n",
    "* estimating parameters from a multivariate sample by eye and constructing a multivariate Gaussian\n",
    "* your homework..."
   ]
  },
  {
   "cell_type": "markdown",
   "metadata": {
    "slideshow": {
     "slide_type": "subslide"
    }
   },
   "source": [
    "This works when the data is simple enough to be described by some simple model. You also know when this isn't the case:\n",
    "\n",
    "<img src=\"./figures/DataDino-600x455.gif\" width=\"200\">"
   ]
  },
  {
   "cell_type": "markdown",
   "metadata": {
    "slideshow": {
     "slide_type": "slide"
    }
   },
   "source": [
    "But if it is the case...\n",
    "\n",
    "* Assume a form for the empirical PDF $f(x; \\theta)$\n",
    "* Equate the sample moments with the empirical moments"
   ]
  },
  {
   "cell_type": "code",
   "execution_count": 2,
   "metadata": {
    "slideshow": {
     "slide_type": "skip"
    }
   },
   "outputs": [
    {
     "name": "stdout",
     "output_type": "stream",
     "text": [
      "Using matplotlib backend: MacOSX\n",
      "Populating the interactive namespace from numpy and matplotlib\n"
     ]
    },
    {
     "name": "stderr",
     "output_type": "stream",
     "text": [
      "/Users/gnarayan/miniconda3/envs/fds/lib/python3.7/site-packages/IPython/core/magics/pylab.py:160: UserWarning: pylab import has clobbered these variables: ['cm']\n",
      "`%matplotlib` prevents importing * from pylab and numpy\n",
      "  \"\\n`%matplotlib` prevents importing * from pylab and numpy\"\n"
     ]
    }
   ],
   "source": [
    "# here's a quick demo of the method of moments works with some simulated data\n",
    "# the process we're simulating is a Poisson process\n",
    "# The statistics of sources that you detect with devices like CCDs that count photons will follow a Poisson process\n",
    "# Remember from Week 1 that astronomers don't report measurements in number of photons detected\n",
    "# or number of counts measured more accurately\n",
    "# but rather they take -2.5*log_10(counts) and add a constant to scale\n",
    "# Also remember that if you have a Poisson process with mean lambda, then the variance is also lambda\n",
    "# so the standard deviation is the sqrt of lambda \n",
    "\n",
    "\n",
    "# RUN THIS CELL\n",
    "%pylab\n",
    "%matplotlib inline\n",
    "import scipy.stats as st\n",
    "from astropy.visualization import hist as ahist\n",
    "import statsmodels.api as sm\n",
    "\n",
    "# you can change this number and execute the cell below \n",
    "samp_size = 1000\n",
    "\n",
    "# and this number\n",
    "true_flux = 2000\n",
    "\n",
    "# simulate something like the magnitudes you might measure on a detector\n",
    "samp = -2.5*np.log10(st.poisson.rvs(true_flux, size=samp_size)) + 25\n",
    "\n",
    "# true moments are straightforward - remember change of variables for the standard deviation\n",
    "mu_true = -2.5*np.log10(true_flux) + 25\n",
    "sig_true = np.log10(e)*2.5*np.sqrt(true_flux)/true_flux\n",
    "\n",
    "# sample moments are also easy \n",
    "mu_samp = samp.mean()\n",
    "sig_samp = samp.std()"
   ]
  },
  {
   "cell_type": "code",
   "execution_count": 3,
   "metadata": {
    "slideshow": {
     "slide_type": "slide"
    }
   },
   "outputs": [
    {
     "data": {
      "image/png": "[encoded data removed]",
      "text/plain": [
       "<Figure size 576x288 with 2 Axes>"
      ]
     },
     "metadata": {
      "needs_background": "light"
     },
     "output_type": "display_data"
    }
   ],
   "source": [
    "fig = figure(figsize=(8, 4))\n",
    "ax1 = fig.add_subplot(1,2,1)\n",
    "ax2 = fig.add_subplot(1,2,2)\n",
    "\n",
    "# let's histogram the sample we have \n",
    "ahist(samp, bins='freedman', density=True, ax=ax1,\\\n",
    "      label=fr'True $\\mu=${mu_true:.3f}, $\\sigma$={sig_true:.3f}')\n",
    "xmin, xmax = ax1.get_xlim()\n",
    "xval = np.arange(xmin, xmax+0.01, 0.001)\n",
    "\n",
    "# and overplot the PDF we estimate using the method of moments\n",
    "estpdf  = st.norm.pdf(xval, loc=mu_samp, scale=sig_samp)\n",
    "ax1.plot(xval, estpdf, color='C1', lw=2, label=fr'Est $\\mu=${mu_samp:.3f}, $\\sigma$={sig_samp:.3f}')\n",
    "ax1.legend(frameon=False)\n",
    "\n",
    "# we know that in the limit of large lambda, the Poisson process should look like a Gaussian process\n",
    "sm.qqplot(samp, line='r', ax=ax2)\n",
    "tight_layout()"
   ]
  },
  {
   "cell_type": "markdown",
   "metadata": {
    "slideshow": {
     "slide_type": "slide"
    }
   },
   "source": [
    "This is closely related to the **Null Hypothesis Rejection Test** (NHRT)\n",
    "\n",
    "* You have data drawn from some unknown population\n",
    "* Assume a model for that population\n",
    "    * This allows you to make a prediction for the data you have\n",
    "    * \"Under the null hypothesis\" = if the model is a good description of the data\n",
    "        * then the data should be highly probable\n",
    "    * Define a test such that some observation has a very low probability of happening"
   ]
  },
  {
   "cell_type": "markdown",
   "metadata": {
    "slideshow": {
     "slide_type": "subslide"
    }
   },
   "source": [
    "* Given your data, if the low probability happened, then you can reject your model\n",
    "* If it hasn't happened, your model still holds\n",
    "    * but that doesn't tell you it's a good description of the data"
   ]
  },
  {
   "cell_type": "markdown",
   "metadata": {
    "slideshow": {
     "slide_type": "subslide"
    }
   },
   "source": [
    "<center> <img src='./figures/nhrt.png'> </center>\n",
    "(credit: Federica Bianco, U. Delaware)"
   ]
  },
  {
   "cell_type": "markdown",
   "metadata": {
    "slideshow": {
     "slide_type": "subslide"
    }
   },
   "source": [
    "So when you hear \"$x$ is a 2-$\\sigma$ detection!\"\n",
    "\n",
    "* 2-$\\sigma$: confidence level\n",
    "* 0.05: p-value\n",
    "* 95%: threshold\n",
    "\n",
    "\n",
    "Unstated here is that there is an assumption of some model, typically a Gaussian.\n",
    "\n",
    "**Nothing** here states that the model is a good description of the data at all."
   ]
  },
  {
   "cell_type": "markdown",
   "metadata": {
    "slideshow": {
     "slide_type": "subslide"
    }
   },
   "source": [
    "Consider this from Kang et al. \"Early-type Host Galaxies of Type Ia Supernovae. II. Evidence for Luminosity Evolution in Supernova Cosmology\", 2020, ApJ, 889, Issue 1, id. 8\n",
    "\n",
    "[ADS Link](https://ui.adsabs.harvard.edu/abs/2020ApJ...889....8K/abstract)\n",
    "or \n",
    "[ArXiv](https://arxiv.org/abs/1912.04903)\n",
    "\n",
    "  <center> <img src =\"./figures/kang_sne_evol.png\" width=\"800\"> </center>"
   ]
  },
  {
   "cell_type": "markdown",
   "metadata": {
    "slideshow": {
     "slide_type": "subslide"
    }
   },
   "source": [
    "### Staistical sins\n",
    "\n",
    "- hypotheses suggested by non-representative data\n",
    "    - you almost always have to deal with this in real data\n",
    "- looking for patterns in your data is legitimate\n",
    "    - applying a hypothesis test to the same data from which a pattern emerges is not\n",
    "        - randomized out-of-sample tests/cross-validation\n",
    "- p is not the probability that the hypothesis is false! (remember what you are given here is the hypothesis)\n",
    "- p-hacking: only reporting the hypothesis with a significant p-value but not reporting the ones without\n",
    "\n",
    "#### Read Cohen 1994 \"The Earth is Round (p < .05)\" included in the directory for all the issues with hypothesis testing\n",
    "    "
   ]
  },
  {
   "cell_type": "markdown",
   "metadata": {
    "slideshow": {
     "slide_type": "subslide"
    }
   },
   "source": [
    "If your sample is indeed drawn from a random distribution:\n",
    "\n",
    "### <center> $ \\left| x - \\mu \\right| > 3\\sigma$ implies $X$ is more extreme than the distribution 0.27% of the time </center>"
   ]
  },
  {
   "cell_type": "markdown",
   "metadata": {
    "slideshow": {
     "slide_type": "slide"
    }
   },
   "source": [
    "## In class exercise 1\n",
    "### NRHT when the model isn't normal\n",
    "\n",
    "The Universe has many processes that throw outliers into your nice curated data\n",
    "(I hope you are enjoying your homework)\n",
    "\n",
    "If you model a sample as normal, but the underlying population isn't then you are liable to flag something as significant when it isn't. \n",
    "\n",
    "See what difference it makes when you go from a Gaussian to a Student's t-distribution with 8 degrees of freedom:"
   ]
  },
  {
   "cell_type": "code",
   "execution_count": 4,
   "metadata": {
    "slideshow": {
     "slide_type": "slide"
    }
   },
   "outputs": [
    {
     "name": "stdout",
     "output_type": "stream",
     "text": [
      "Total probability of being between +/- 3 sigma for N(0,1) 0.9973002039367398\n",
      "Therefore probability of being a 3 sigma outlier for N(0,1) 0.002699796063260207\n",
      "Total probability of being between +/- 3 sigma for t8 0.9829283187662174\n",
      "Therefore probability of being a 3 sigma outlier for t8 0.017071681233782554\n",
      "0.997 probability intervals for N(0,1) (-2.999976992703389, 2.9999769927034015)\n",
      "0.997 probability intervals for t8 (-4.276576799570991, 4.276576799571021)\n"
     ]
    },
    {
     "data": {
      "image/png": "[encoded data removed]",
      "text/plain": [
       "<Figure size 720x360 with 2 Axes>"
      ]
     },
     "metadata": {
      "needs_background": "light"
     },
     "output_type": "display_data"
    }
   ],
   "source": [
    "# You can evaluate what P(X > x) is with the survival function i.e. (1 -  CDF(X))\n",
    "fig = figure(figsize=(10, 5))\n",
    "x = np.arange(-3, 3.01, 0.01)\n",
    "pdf = st.norm.pdf(x)\n",
    "sf = st.norm.sf(x)\n",
    "\n",
    "ax1 = fig.add_subplot(121)\n",
    "ax2 = fig.add_subplot(122)\n",
    "ax1.plot(x, pdf)\n",
    "ax2.plot(x, sf)\n",
    "\n",
    "ax1.set_xlabel('x')\n",
    "ax1.set_ylabel('p(x)')\n",
    "\n",
    "ax2.set_xlabel('x')\n",
    "ax2.set_ylabel('SF(x)')\n",
    "\n",
    "# DO THIS FOR A T-DISTRIBUTION WITH Nu=8\n",
    "# your code goes here\n",
    "pdf2 = st.t.pdf(x, 8)\n",
    "sf2 = st.t.sf(x, 8)\n",
    "\n",
    "ax1.plot(x, pdf2, color='C1')\n",
    "ax2.plot(x, sf2, color='C1')\n",
    "\n",
    "# If you have just a few samples, you might not be able to tell that your data is t-distributed\n",
    "# rather than normally distributed - the PDFs are pretty similar\n",
    "# but if you look at the tails of the distribution, the t-clearly has more outliers\n",
    "\n",
    "# whereas for a Normal distribution 3 sigma corresponds to 99.7% of the data\n",
    "print(\"Total probability of being between +/- 3 sigma for N(0,1)\", st.norm.cdf(3) - st.norm.cdf(-3))\n",
    "print(\"Therefore probability of being a 3 sigma outlier for N(0,1)\" , 1- (st.norm.cdf(3) - st.norm.cdf(-3)))\n",
    "print(\"Total probability of being between +/- 3 sigma for t8\", st.t.cdf(3, 8) - st.t.cdf(-3, 8))\n",
    "print(\"Therefore probability of being a 3 sigma outlier for t8\" , 1- (st.t.cdf(3, 8) - st.t.cdf(-3, 8)))\n",
    "\n",
    "# i.e. an order of magnitude more likely to get an outlier with a t8.\n",
    "\n",
    "\n",
    "# another thing you can try is the interval function to ask what interval encloses % of the total probability\n",
    "# this is better for assymetric distributions\n",
    "print(\"0.997 probability intervals for N(0,1)\", st.norm.interval(0.9973))\n",
    "print(\"0.997 probability intervals for t8\", st.t.interval(0.9973, 8))"
   ]
  },
  {
   "cell_type": "markdown",
   "metadata": {
    "slideshow": {
     "slide_type": "slide"
    }
   },
   "source": [
    "The issue with the method of moments and classical hypothesis testing is they are not very **robust** to outliers in the data.\n",
    "\n",
    "Particularly if the outlier fraction is significant relative to the total sample size."
   ]
  },
  {
   "cell_type": "code",
   "execution_count": 5,
   "metadata": {
    "slideshow": {
     "slide_type": "skip"
    }
   },
   "outputs": [],
   "source": [
    "# Run this cell \n",
    "\n",
    "samp_size = 200\n",
    "\n",
    "# you can control the outlier fraction\n",
    "outlier_fraction1 = 0.1\n",
    "outlier_fraction2 = 0.05\n",
    "\n",
    "# simulate something like the magnitudes you might measure on a detector\n",
    "samp1 = -2.5*np.log10(st.poisson.rvs(2000, size=samp_size)) + 25\n",
    "\n",
    "# except now we're going to add a small distribution on the wings - if this was magnitudes\n",
    "# maybe this is a second fainter source in a close binary\n",
    "samp2 = -2.5*np.log10(st.poisson.rvs(1850, size=max(int(outlier_fraction1*samp_size), 1))) + 25\n",
    "\n",
    "# and we'll add some large, easy to see outliers - these might be cosmic rays\n",
    "samp3 = -2.5*np.log10(st.poisson.rvs(3700, size=max(int(outlier_fraction2*samp_size), 1))) + 25\n",
    "\n",
    "# let's combine all three samples together\n",
    "samp = np.concatenate((samp1, samp2, samp3), axis=-1)\n",
    "\n",
    "# and shuffle our measurements, so you can't do outlier rejection 4\n",
    "# by simply clipping the first/last N elements of the array\n",
    "np.random.shuffle(samp)"
   ]
  },
  {
   "cell_type": "code",
   "execution_count": 6,
   "metadata": {
    "slideshow": {
     "slide_type": "slide"
    }
   },
   "outputs": [
    {
     "data": {
      "image/png": "[encoded data removed]",
      "text/plain": [
       "<Figure size 576x288 with 2 Axes>"
      ]
     },
     "metadata": {
      "needs_background": "light"
     },
     "output_type": "display_data"
    }
   ],
   "source": [
    "# sample moments\n",
    "mu_samp = samp.mean()\n",
    "sig_samp = samp.std()\n",
    "\n",
    "fig = figure(figsize=(8, 4))\n",
    "ax1 = fig.add_subplot(1,2,1)\n",
    "ax2 = fig.add_subplot(1,2,2)\n",
    "\n",
    "# histogram the sample \n",
    "ahist(samp, bins='freedman', density=True, ax=ax1)\n",
    "xmin, xmax = ax1.get_xlim()\n",
    "xval = np.arange(xmin, xmax+0.01, 0.001)\n",
    "\n",
    "# plot the methods of moments estimator assuming a normal distribtuion\n",
    "estpdf  = st.norm.pdf(xval, loc=mu_samp, scale=sig_samp)\n",
    "ax1.plot(xval, estpdf, color='r', lw=2, label=fr'Est $\\mu=${mu_samp:.3f}, $\\sigma$={sig_samp:.3f}')\n",
    "ax1.legend(frameon=False)\n",
    "\n",
    "# and make a QQ plot of the sample \n",
    "sm.qqplot(samp, line='r', ax=ax2, marker='.')\n",
    "\n",
    "# note that all the regression line (i.e. the line = \"r\" option is doing) above is doing\n",
    "# is computing the sample mean and standard deviation\n",
    "# and plotting Y = mean + sigma*X\n",
    "\n",
    "# you can verify this by plotting the same line yourself\n",
    "qq = np.arange(-3, 3, 0.01)\n",
    "y = mu_samp + sig_samp*qq\n",
    "ax2.plot(qq, y, 'g-.')\n",
    "\n",
    "\n",
    "# this is cosmetic and just tidies up the plot\n",
    "tight_layout()"
   ]
  },
  {
   "cell_type": "markdown",
   "metadata": {
    "slideshow": {
     "slide_type": "slide"
    }
   },
   "source": [
    "## In class exercise 2\n",
    "### Robust Statistics - Alternative 1: Eliminating Outliers (i.e. clean your data)\n",
    "\n",
    "In your homework, you have encountered one way to cleanup your data, using the QQ-plot.\n",
    "* using a line defined through some quartiles\n",
    "* using $Y = \\mu + \\sigma\\cdot x$ \n",
    "\n",
    "Both of these methods are fundamentally assuming the data is normally distributed."
   ]
  },
  {
   "cell_type": "markdown",
   "metadata": {
    "slideshow": {
     "slide_type": "subslide"
    }
   },
   "source": [
    "astropy.stats has a sigma_clip method that also assumes the data is normally distributed, but you can control around where. In particular you can use the median.\n",
    "\n",
    "Try eliminating the outliers with it, and check if the method of moments estimator gives you something reasonable."
   ]
  },
  {
   "cell_type": "code",
   "execution_count": 7,
   "metadata": {
    "slideshow": {
     "slide_type": "fragment"
    }
   },
   "outputs": [
    {
     "name": "stdout",
     "output_type": "stream",
     "text": [
      "Done\n"
     ]
    },
    {
     "data": {
      "image/png": "[encoded data removed]",
      "text/plain": [
       "<Figure size 576x288 with 2 Axes>"
      ]
     },
     "metadata": {
      "needs_background": "light"
     },
     "output_type": "display_data"
    }
   ],
   "source": [
    "from astropy.stats import sigma_clip\n",
    "# your code goes here - don't overwrite samp\n",
    "\n",
    "# you can change the threshold for sigma clipping - note that sigma is fairly large \n",
    "# with the methods of moments estimator, so you might have to make this small \n",
    "\n",
    "# the method is a bit ad hoc because of this threshold that you can tune\n",
    "# at 4-5 sigma, you may not see much of an effect at all\n",
    "# at 2-3 sigma, you might be clipping useful data\n",
    "clipped_samp = sigma_clip(samp, sigma=3, stdfunc='std', masked=False)\n",
    "\n",
    "fig = figure(figsize=(8, 4))\n",
    "ax1 = fig.add_subplot(1,2,1)\n",
    "ax2 = fig.add_subplot(1,2,2)\n",
    "\n",
    "# plot the sample and the sigma-clipped sample\n",
    "ahist(samp, bins='freedman', density=True, ax=ax1)\n",
    "ahist(clipped_samp, bins='freedman', density=True, ax=ax1, color='C1', alpha=0.5)\n",
    "\n",
    "# and the QQ plots\n",
    "sm.qqplot(samp, marker='.', color='C0', ax=ax2)\n",
    "sm.qqplot(clipped_samp, marker='.', color='C1', ax=ax2, alpha=0.5)\n",
    "\n",
    "print(\"Done\") # this is just to suppress Jupyter from making two plots "
   ]
  },
  {
   "cell_type": "markdown",
   "metadata": {
    "slideshow": {
     "slide_type": "slide"
    }
   },
   "source": [
    "$\\sigma$-clipping is probably the most widely used outlier rejection method in the astronomy literature.\n",
    "\n",
    "However it is *ad hoc* - $\\sigma$ itself is changing each clipping iteration, but you cannot know how unless you know the underlying PDF that the sample was drawn from, including the outliers.\n",
    "\n",
    "It's also painfully slow with large quantities of data. "
   ]
  },
  {
   "cell_type": "markdown",
   "metadata": {
    "slideshow": {
     "slide_type": "slide"
    }
   },
   "source": [
    "## Alternative 2: L-estimators\n",
    "\n",
    "It's useful to have some summary statistics that describe distributions, which are robust to outliers, and can be computed fast.\n",
    "\n",
    "We assumed a form for the empirical PDF $f(x; \\theta)$, and used some moments as estimators. But there are other quantities that you can get from the empirical PDF that are more robust. "
   ]
  },
  {
   "cell_type": "markdown",
   "metadata": {
    "slideshow": {
     "slide_type": "subslide"
    }
   },
   "source": [
    "The quantile estimators we looked at in week 1 already have this behavior.\n",
    "\n",
    "### $$ p = \\int_{-\\infty}^{x_p} f(x) dx $$\n",
    "\n",
    "### and the median: $$ \\frac{1}{2} = \\int_{-\\infty}^{x_{\\frac{1}{2}} } f(x) dx $$"
   ]
  },
  {
   "cell_type": "markdown",
   "metadata": {
    "slideshow": {
     "slide_type": "subslide"
    }
   },
   "source": [
    "You can also define measures of the variance of the data. This was one - you've used it on your homework implicitly.\n",
    "\n",
    "### <center> $ \\text{IQR} = x_{\\frac{3}{4}} - x_{\\frac{1}{4}} $</center>\n",
    "\n",
    "For a normal distribution, $\\sigma = \\text{IQR}/2\\sqrt{2}\\cdot\\text{erf}^{-1}(\\frac{1}{2}) \\;\\; (\\approx1.349)$. This is another common L-estimator called the **Median Absolute Deviation**\n",
    "\n",
    "### <center> $ \\text{MAD}  = \\left| x_i - x_{\\frac{1}{2}} \\right| $ </center>\n",
    "\n",
    "For a normal distribution, $\\sigma = 1.4826\\cdot\\text{MAD}$\n"
   ]
  },
  {
   "cell_type": "code",
   "execution_count": 8,
   "metadata": {
    "slideshow": {
     "slide_type": "slide"
    }
   },
   "outputs": [
    {
     "data": {
      "image/png": "[encoded data removed]",
      "text/plain": [
       "<Figure size 576x288 with 2 Axes>"
      ]
     },
     "metadata": {
      "needs_background": "light"
     },
     "output_type": "display_data"
    }
   ],
   "source": [
    "# if we repeat the exercise with robust estimators\n",
    "\n",
    "# these are just the robust estimators we discussed above in functional form\n",
    "# you can write your own functions from scratch if you like, but scipy.stats already has them\n",
    "# you should remember how to call MAD at least - it'll be something you use a lot\n",
    "median = np.median(samp)\n",
    "sig_robust = 1.4826*st.median_absolute_deviation(samp)\n",
    "sig_robust2 = st.iqr(samp)/1.349\n",
    "\n",
    "\n",
    "# same sort of plots we've been making\n",
    "fig = figure(figsize=(8, 4))\n",
    "ax1 = fig.add_subplot(1,2,1)\n",
    "ax2 = fig.add_subplot(1,2,2)\n",
    "\n",
    "# sample\n",
    "ahist(samp, bins='freedman', density=True, ax=ax1, alpha=0.5)\n",
    "xmin, xmax = ax1.get_xlim()\n",
    "xval = np.arange(xmin, xmax+0.01, 0.001)\n",
    "\n",
    "# this time, instead of applying the method of moments using the sample moments, we're using the L-estimators\n",
    "estpdf  = st.norm.pdf(xval, loc=median, scale=sig_robust)\n",
    "estpdf2  = st.norm.pdf(xval, loc=median, scale=sig_robust2)\n",
    "\n",
    "# overplot the estimated PDFs\n",
    "ax1.plot(xval, estpdf, color='C1', lw=2, label=fr'Est $\\mu=${median:.3f}, $\\sigma$ MAD={sig_robust:.3f}')\n",
    "ax1.plot(xval, estpdf2, color='C2', lw=2, label=fr'Est $\\mu=${median:.3f}, $\\sigma$ IQR={sig_robust2:.3f}')\n",
    "ax1.legend(frameon=False)\n",
    "\n",
    "# and the QQ plot\n",
    "sm.qqplot(samp, line='r', ax=ax2, marker='.')\n",
    "\n",
    "# and the trend lines\n",
    "nmin, nmax = ax2.get_xlim()\n",
    "nvals = np.arange(nmin, nmax+0.01, 0.01)\n",
    "y = median + sig_robust*nvals\n",
    "y2 = median + sig_robust2*nvals\n",
    "ax2.plot(nvals, y, '--', color='C1', lw=2, label='Using MAD')\n",
    "ax2.plot(nvals, y2, '-.', color='C2', lw=2, label='Using IQR')\n",
    "\n",
    "\n",
    "ax2.legend(frameon=False)\n",
    "tight_layout()"
   ]
  },
  {
   "cell_type": "markdown",
   "metadata": {
    "slideshow": {
     "slide_type": "slide"
    }
   },
   "source": [
    "L-estimators work well when:\n",
    "   * the data has outliers\n",
    "   * the data has no (or at least very small) uncertainties associated with it\n",
    "       * notice that we computed them from the sample, but made no mention/use of sample uncertainties"
   ]
  },
  {
   "cell_type": "markdown",
   "metadata": {
    "slideshow": {
     "slide_type": "slide"
    }
   },
   "source": [
    "## Alternative 3: M-estimators\n",
    "\n",
    "* As before, assume a form for the empirical PDF $f(x; \\theta)$\n",
    "* Define a **loss function** $\\rho(u)$ for some quantity $u$ e.g. $x - \\mu$\n",
    "* Minimize this loss over the sample\n",
    "    * $\\sum_{i=1}^{N} \\rho(u_i) $ "
   ]
  },
  {
   "cell_type": "markdown",
   "metadata": {
    "slideshow": {
     "slide_type": "slide"
    }
   },
   "source": [
    "### OK, so what the heck is a loss function now?\n",
    "\n",
    "If $(x_1, x_2..., x_N)$ is a set of i.i.d random variables from some distribution p(x) which we don't know, but want to estimate. \n",
    "\n",
    "What we're trying to do is to build an estimator for moments out of the sample.\n",
    "\n",
    "If we define\n",
    "\n",
    "## <center> $ \\rho(x, \\theta=\\mu) = \\frac{(x - \\mu)^2}{2} $ </center>\n",
    "\n",
    "How do you go about minimizing this with respect to $\\theta$?"
   ]
  },
  {
   "cell_type": "markdown",
   "metadata": {
    "slideshow": {
     "slide_type": "subslide"
    }
   },
   "source": [
    "For $u = x-\\mu$, there's several potential cost functions:\n",
    "\n",
    "## <center> $\\rho(u) = u^2$ </center>\n",
    "    \n",
    "is an old friend to all of you. It's the **sum of squared residuals** or what we sometimes call the $L_2$ norm.\n",
    "\n",
    "Of the loss functions, this is the nicest behaved - it's **convex** and **differentiable**"
   ]
  },
  {
   "cell_type": "markdown",
   "metadata": {
    "slideshow": {
     "slide_type": "slide"
    }
   },
   "source": [
    "### In class exercise\n",
    "\n",
    "Let's use the sum of least squares M-estimator to evaluate the mean of our sample in the previous section\n",
    "\n",
    "If you are starting here on Thursday, make sure you execute previous cells in the notebook (might be easiest to \"Restart and Run All\" from the Kernel menu)"
   ]
  },
  {
   "cell_type": "code",
   "execution_count": 9,
   "metadata": {
    "slideshow": {
     "slide_type": "subslide"
    }
   },
   "outputs": [],
   "source": [
    "# first we need to define a the loss function that returns the sum of squared residuals for some value of theta=mu\n",
    "\n",
    "def sum_of_squared_residuals(mu):\n",
    "        \"\"\"\n",
    "        This is a simple sum of squared residuals function\n",
    "        \"\"\"\n",
    "        # samp is in the Namespace for this function\n",
    "        # we could make a more general function by passing the data in as an argument\n",
    "\n",
    "        residual = samp - mu\n",
    "        return np.sum(residual**2.)"
   ]
  },
  {
   "cell_type": "code",
   "execution_count": 10,
   "metadata": {
    "slideshow": {
     "slide_type": "subslide"
    }
   },
   "outputs": [],
   "source": [
    "# next lets evaluate this function over the range of the sample\n",
    "# there are numerical ways to do this, but we'll brute force it\n",
    "\n",
    "\n",
    "# we'll create a grid of points in x and evaluate the loss function at each position\n",
    "# we can get the limits from the plot in the previous section\n",
    "xmin, xmax = ax1.get_xlim()\n",
    "x_grid = np.arange(xmin, xmax, 0.01)\n",
    "\n",
    "# and then we want to evaluate the loss function\n",
    "ssr = [sum_of_squared_residuals(x) for x in x_grid]"
   ]
  },
  {
   "cell_type": "code",
   "execution_count": 23,
   "metadata": {
    "slideshow": {
     "slide_type": "subslide"
    }
   },
   "outputs": [
    {
     "data": {
      "text/plain": [
       "<matplotlib.lines.Line2D at 0x1c24c6e450>"
      ]
     },
     "execution_count": 23,
     "metadata": {},
     "output_type": "execute_result"
    },
    {
     "data": {
      "image/png": "[encoded data removed]",
      "text/plain": [
       "<Figure size 576x576 with 2 Axes>"
      ]
     },
     "metadata": {
      "needs_background": "light"
     },
     "output_type": "display_data"
    }
   ],
   "source": [
    "# finally histogram the sample and overplot the loss function and sample\n",
    "\n",
    "# the sample is easy - we've done that a bunch already\n",
    "fig = figure(figsize=(8,8))\n",
    "ax1 = fig.add_subplot(111)\n",
    "ahist(samp, ax=ax1, bins=\"freedman\")\n",
    "ax1.set_xlabel('x')\n",
    "ax1.set_ylabel('#')\n",
    "\n",
    "# if you have a matplotlib axis, you can create a twin axis with the same x axis but a different y axis with\n",
    "ax2 = ax1.twinx()\n",
    "ax2.set_ylabel('Sum of Squared Residuals')\n",
    "\n",
    "# Now plot the loss function you evaluated as a function of x - use a different color than the default\n",
    "# YOUR CODE GOES HERE:\n",
    "ssr = np.array(ssr)\n",
    "ax2.plot(x_grid, ssr, color='C1')\n",
    "\n",
    "# find the minimum of the LOSS FUNCTION and plot a vertical line at the location of the minimum\n",
    "# use the came color as above\n",
    "# YOUR CODE GOES HERE:\n",
    "\n",
    "mu_M = x_grid[ssr.argmin()]\n",
    "ax2.axvline(mu_M, color='C1', linestyle='--')"
   ]
  },
  {
   "cell_type": "markdown",
   "metadata": {
    "slideshow": {
     "slide_type": "subslide"
    }
   },
   "source": [
    "**Differentiability implies continuity. Continuity does not guarantee differentiability.**\n",
    "\n",
    "Most M-estimators aren't nicely differentiable, but often have other properties - such as resistance to outliers.\n",
    "\n",
    "You've already seen another loss function:\n",
    "\n",
    "### <center> $\\rho(u) = \\left|u \\right|$ </center>\n",
    "\n",
    "This is the sum of absolute residuals and is related directly to the MAD. You might see it called the $L_1$ norm, particularly in machine learning literature. "
   ]
  },
  {
   "cell_type": "markdown",
   "metadata": {
    "slideshow": {
     "slide_type": "subslide"
    }
   },
   "source": [
    "### Other loss functions you'll see\n",
    "\n",
    "<center> <img src=\"./figures/loss_functions.jpg\"> </center>"
   ]
  },
  {
   "cell_type": "markdown",
   "metadata": {
    "slideshow": {
     "slide_type": "slide"
    }
   },
   "source": [
    "### M-estimators and The Likelihood Function\n",
    "\n",
    "If we know the distribution from which our data were drawn (or make a hypothesis about it), then we can compute the **probability** of our data being generated.\n",
    "\n",
    "For example, for the Gaussian distribution probablity of getting a specific value of $x$ is given by:\n",
    "\n",
    "## $$p(x|\\mu,\\sigma) = \\frac{1}{\\sigma\\sqrt{2\\pi}} \\exp\\left(\\frac{-(x-\\mu)^2}{2\\sigma^2}\\right).$$"
   ]
  },
  {
   "cell_type": "markdown",
   "metadata": {
    "slideshow": {
     "slide_type": "subslide"
    }
   },
   "source": [
    "### The Likelihood Function\n",
    "\n",
    "If we want to know the total probability of our *entire* data set (as opposed to one measurement) then we must compute the *product* of all the individual probabilities:\n",
    "\n",
    "## $$L \\equiv p(\\{x_i\\}|H(\\theta)) = \\prod_{i=1}^n p(x_i|H(\\theta)),$$\n",
    "\n",
    "where $H$ refers to the *hypothesis* and $\\theta$ refers collectively to the $k$ parameters of the model, which can generally be multi-dimensional. \n",
    "\n",
    "\n",
    "In words, this is ***the probability of the data given the model parameters***. "
   ]
  },
  {
   "cell_type": "markdown",
   "metadata": {
    "slideshow": {
     "slide_type": "skip"
    }
   },
   "source": [
    "Note that this implicitly assumes that the measurements in your sample are, as always, i.i.d\n",
    "\n",
    "\n",
    "Recall (from the axioms of probability) that:\n",
    "\n",
    "## $$ P(A \\cap B)  = P(A|B)\\cdot P(B) = P(B|A)\\cdot P(A)$$\n",
    "and iff:\n",
    "## $$ P(A \\cap B) = P(A) \\cdot P(B) $$ then $A$ and $B$ are **independent**.\n"
   ]
  },
  {
   "cell_type": "markdown",
   "metadata": {
    "slideshow": {
     "slide_type": "subslide"
    }
   },
   "source": [
    "\n",
    "We can write this out as:\n",
    "### $$L = \\prod_{i=1}^n \\frac{1}{\\sigma\\sqrt{2\\pi}} \\exp\\left(\\frac{-(x_i-\\mu)^2}{2\\sigma^2}\\right),$$\n",
    "\n",
    "This can simplify to\n",
    "### $$L = \\left( \\prod_{i=1}^n \\frac{1}{\\sigma\\sqrt{2\\pi}} \\right) \\exp\\left( -\\frac{1}{2} \\sum \\left[\\frac{-(x_i-\\mu)}{\\sigma} \\right]^2 \\right),$$\n",
    "\n",
    "where we have written the product of the exponentials as the exponential of the sum of the arguments, which will make things easier to deal with later.\n",
    "\n",
    "i.e. we have done this: \n",
    "### $$\\prod_{i=1}^n A_i \\exp(-B_i) = (A_iA_{i+1}\\ldots A_n) \\exp[-(B_i+B_{i+1}+\\ldots+B_n)]$$"
   ]
  },
  {
   "cell_type": "markdown",
   "metadata": {
    "slideshow": {
     "slide_type": "subslide"
    }
   },
   "source": [
    "The argument of the exponential is just\n",
    "\n",
    "### $$\\exp \\left(-\\frac{\\chi^2}{2}\\right).$$\n",
    "\n",
    "where, for our Gaussian distribution\n",
    "### $$\\chi^2 = \\sum_{i=1}^n \\left ( \\frac{x_i-\\mu}{\\sigma}\\right)^2.$$"
   ]
  },
  {
   "cell_type": "markdown",
   "metadata": {
    "slideshow": {
     "slide_type": "subslide"
    }
   },
   "source": [
    "At some specific values of the model parameters, $\\theta$, we can evaluate the likelihood of our data, given the model (you did this with the sum of squared residuals) i.e \n",
    "\n",
    "### $$p(D | \\theta)$$"
   ]
  },
  {
   "cell_type": "markdown",
   "metadata": {
    "slideshow": {
     "slide_type": "skip"
    }
   },
   "source": [
    "**Note**\n",
    "\n",
    "For multidimensional distributions, as we will see later in the course, the uncertainties come in the form of a covariance matrix where there uncertainties can be correlated. This still assumes Gaussianity\n",
    "\n",
    "## $$ L = p(D\\; | \\;  \\pmb \\theta\\;) =  \\prod_{k=1}^{n} \\; \\frac{1}{(2\\pi)^{d/2} \\; |\\Sigma|^{1/2}} exp \\bigg[ -\\frac{1}{2}(\\pmb x - \\pmb \\mu)^t \\Sigma^{-1}(\\pmb x - \\pmb \\mu) \\bigg]$$\n",
    "\n",
    "where $\\Sigma$ is the covariance matrix and $d$ is the dimensionality"
   ]
  },
  {
   "cell_type": "markdown",
   "metadata": {
    "slideshow": {
     "slide_type": "subslide"
    }
   },
   "source": [
    "For practical reasons, it's better to work with the natural logarithm of the likelihood (we'll get to why in a few slides)\n",
    "\n",
    "We define the *log-likelihood function* as ${\\rm lnL} = \\ln[L(\\theta)]$.  The maximum of this function happens at the same place as the maximum of $L$. Given all that, we have:\n",
    "\n",
    "## $${\\rm lnL} = {\\rm constant} - \\sum_{i=1}^N \\frac{(x_i - \\mu)^2}{2\\sigma^2}.$$"
   ]
  },
  {
   "cell_type": "markdown",
   "metadata": {
    "slideshow": {
     "slide_type": "subslide"
    }
   },
   "source": [
    "We then determine the maximum in the same way that we always do.  It is the parameter set for which the derivative of ${\\rm lnL}$ is zero:\n",
    "\n",
    "$$\\frac{d\\;{\\rm lnL}(\\mu)}{d\\mu}\\Biggr\\rvert_{\\hat \\mu} \\equiv 0.$$\n",
    "\n",
    "That gives $$ \\sum_{i=1}^N \\frac{(x_i - \\hat \\mu)}{\\sigma^2} = 0.$$\n",
    "\n",
    "(note: we should also check that the $2^{\\rm nd}$ derivative is negative, to ensure this is the *maximum* of $L$)\n",
    "\n",
    "(also note: any constants in $\\ln L$ disappear when differentiated, so constant terms can typically be ignored.)"
   ]
  },
  {
   "cell_type": "markdown",
   "metadata": {
    "slideshow": {
     "slide_type": "subslide"
    }
   },
   "source": [
    "So, maximizing the likelihood is the same as minimizing $\\chi^2$:\n",
    "\n",
    "Maximizing the likelihood is solving for the extremum of:\n",
    "### $$ L \\sim \\exp \\left(-\\frac{\\chi^2}{2}\\right).$$\n",
    "\n",
    "is the same as Maximizing the natural logarithm of the likelihood:\n",
    "(because the log is a monotonically increasing function)\n",
    "\n",
    "### $$ \\ln (L) \\sim -\\frac{\\chi^2}{2}$$\n",
    "\n",
    "and therefore is the same as **minimizing** the negative log likelihood:\n",
    "\n",
    "### $$ -\\ln(L) \\sim \\frac{\\chi^2}{2}$$\n",
    "\n",
    "\n",
    "i.e. maximum likelihood estimation - and $\\chi^2$ minimization are just a special case of M-estimators. "
   ]
  },
  {
   "cell_type": "markdown",
   "metadata": {
    "slideshow": {
     "slide_type": "subslide"
    }
   },
   "source": [
    "Since $\\sigma = {\\rm constant}$, that says \n",
    "## $$\\sum_{i=1}^N x_i = \\sum_{i=1}^N \\hat \\mu = N \\hat \\mu.$$\n",
    "\n",
    "Thus we find that\n",
    "## $$\\hat \\mu = \\frac{1}{N}\\sum_{i=1}^N x_i,$$\n",
    "which is just the arithmetic mean of all the measurements."
   ]
  },
  {
   "cell_type": "markdown",
   "metadata": {
    "slideshow": {
     "slide_type": "subslide"
    }
   },
   "source": [
    "## This is how we started the week with the method of moments.\n"
   ]
  },
  {
   "cell_type": "markdown",
   "metadata": {
    "slideshow": {
     "slide_type": "subslide"
    }
   },
   "source": [
    "### The Sample Mean is an ML Estimator\n",
    "\n",
    "The mean of observations drawn from a $N(\\mu, \\sigma=const)$ distribution is a maximum-likelihood estimator of the distribution's $\\mu$ parameter.\n",
    "\n",
    "We'd used this and guessed this intuitively, but this derivation clarifies our choice: as an estimator of the real value of $\\mu$, we adopt the value $\\hat \\mu$ with which it's maximally likely for the measured data set to occur.\n",
    "\n",
    "It also exposes the ***assumptions*** behind this conclusion; namely homoscedasticity and gaussianity of uncertainties. For example, if our uncertainties were Cauchy-distributed the mean (or any higher moment) is not define"
   ]
  },
  {
   "cell_type": "markdown",
   "metadata": {
    "slideshow": {
     "slide_type": "subslide"
    }
   },
   "source": [
    "## The Core Idea Behind Maximum Likelihood Estimators\n",
    "\n",
    "Let's say that we know that some data were drawn from a Gaussian distribution, but we don't know the $\\theta = (\\mu,\\sigma)$ values of that distribution (i.e., the parameters).\n",
    "\n",
    "Then Maximum Likelihood Estimation method tells us to think of the likelihood as a ***function of the unknown model parameters***, and ***find those that maximize the value of $L$***. Those will be our Maximum Likelihood Estimators for for the true values of the model."
   ]
  },
  {
   "cell_type": "markdown",
   "metadata": {
    "slideshow": {
     "slide_type": "subslide"
    }
   },
   "source": [
    "**NOTE**\n",
    "\n",
    "The Likelihood function is the joint **probability density** of all measurements. \n",
    "\n",
    "For each measurment we have a probablity density. These probability densities have **units**. \n",
    "\n",
    "They are the reciprical of the units of the measurement (as the integrated probability does not have units but the interval over which we are integrating does)."
   ]
  },
  {
   "cell_type": "markdown",
   "metadata": {
    "slideshow": {
     "slide_type": "subslide"
    }
   },
   "source": [
    "You will generally see people minimizing the negative log likelihood rather than maximizing the likelihood directly\n",
    "\n",
    "The reason is fairly simple:\n",
    "\n",
    "While the components of $L$ may be normalized pdfs, their *product* is not. \n",
    "\n",
    "The PDFs often yield verys small numbers, which you are then multiplying together, making even smaller numbers.\n",
    "\n",
    "### $$10^{-24}$$ is pretty small\n",
    "\n",
    "### $$ \\log_{10}(10^{-24}) = -24$$ is not!"
   ]
  },
  {
   "cell_type": "markdown",
   "metadata": {
    "slideshow": {
     "slide_type": "subslide"
    }
   },
   "source": [
    "### Properties of ML Estimators\n",
    "\n",
    "Assuming the data truly are drawn from the model, ML estimators have the following useful properties:\n",
    "\n",
    "* **They are consistent estimators**; that is, they can be proven to converge to the true parameter value as the number of data points increases.\n",
    "\n",
    "* **They are asymptotically normal estimators**. The distribution of the parameter estimate, as the number of data points increases to infinity, approaches a normal distribution, centered at the MLE, with a certain spread. \n",
    "\n",
    "* **This spread can often be easily calculated and used as a confidence band around the estimate**"
   ]
  },
  {
   "cell_type": "markdown",
   "metadata": {
    "slideshow": {
     "slide_type": "subslide"
    }
   },
   "source": [
    "Estimators (L-, M-, and the special case of MLE) are themselves random variables \n",
    "\n",
    "They can only be determined given the data after all and the observations are themselves random variables\n",
    "\n",
    "So it's reasonable to ask how confident we are in our estimate - what is the uncertainty."
   ]
  },
  {
   "cell_type": "markdown",
   "metadata": {
    "slideshow": {
     "slide_type": "subslide"
    }
   },
   "source": [
    "## Quantifying Estimate Uncertainty\n",
    "\n",
    "We *define* the uncertainty on our MLEs using the second (partial) derivatives of log-likelihood:\n",
    "\n",
    "## $$\\sigma_{jk} = \\left( - \\frac{d^2}{d\\theta_j} \\frac{\\ln L}{d\\theta_k} \\Biggr\\rvert_{\\theta=\\hat \\theta}\\right)^{-1/2}.$$\n",
    "\n",
    "Taken together, these entries (more accurately, their squares) are know as the **covariance matrix**. We'd defined this in terms on samples from a bivariate distribution last week. Now we're redefining it in terms of the likelihood!\n",
    "\n",
    "This is also called the **Fisher-information matrix, $I(\\theta)$** \n",
    "\n",
    "The marginal error bars for each parameter, $\\theta_i$ are given by the diagonal elements, $\\sigma_{ii}$. These are the \"error bars\" that are typically quoted with each measurement. Off diagonal elements, $\\sigma_{ij}$, arise from any correlation between the parameters in the model."
   ]
  },
  {
   "cell_type": "markdown",
   "metadata": {
    "slideshow": {
     "slide_type": "subslide"
    }
   },
   "source": [
    "In our example with Gaussian likelihoods, the uncertainly on the mean is \n",
    "## $$\\sigma_{\\mu} = \\left( - \\frac{d^2\\ln L(\\mu)}{d\\mu^2}\\Biggr\\rvert_{\\hat \\mu}\\right)^{-1/2}$$\n",
    "\n",
    "We find\n",
    "## $$\\frac{d^2\\ln L(\\mu)}{d\\mu^2}\\Biggr\\rvert_{\\hat \\mu} = - \\sum_{i=1}^N\\frac{1}{\\sigma^2} = -\\frac{N}{\\sigma^2},$$\n",
    "since, again, $\\sigma = {\\rm constant}$.  \n",
    "\n",
    "Then \n",
    "## $$\\sigma_{\\mu} = \\frac{\\sigma}{\\sqrt{N}}.$$\n",
    "\n",
    "So, our estimator of $\\mu$ is $\\overline{x}\\pm\\frac{\\sigma}{\\sqrt{N}}$, which is a result that you should be familiar with."
   ]
  },
  {
   "cell_type": "markdown",
   "metadata": {
    "slideshow": {
     "slide_type": "subslide"
    }
   },
   "source": [
    "### Connecting Uncertainty back to Geometry\n",
    "\n",
    "OK, so we're happy with the second derivative of the log likelihood at the MLE looking like an uncertainty for a Gaussian.\n",
    "\n",
    "\n",
    "But it's reasonable to ask why this works for any general likelihood function?\n",
    "\n",
    "The result for $\\sigma_{\\mu}$ has been derived by expanding $\\ln L$ in a Taylor series and retaining terms up to second order (essentially, $\\ln L$ is approximated by a parabola, or an ellipsoidal surface in multidimensional cases, around its maximum)."
   ]
  },
  {
   "cell_type": "markdown",
   "metadata": {
    "slideshow": {
     "slide_type": "subslide"
    }
   },
   "source": [
    "If this expansion is exact (as is the case for a Gaussian error distribution), then we've completely captured the error information.\n",
    "\n",
    "In general, this is not the case and the likelihood surface can significantly deviate from a smooth elliptical surface. \n",
    "\n",
    "Furthermore, it often happens in practice that the likelihood surface is multimodal. \n",
    "\n",
    "It is always a good idea to visualize the likelihood surface when in doubt.\n",
    "\n",
    "### i.e. LOOK AT YOUR DATA"
   ]
  },
  {
   "cell_type": "markdown",
   "metadata": {
    "slideshow": {
     "slide_type": "subslide"
    }
   },
   "source": [
    "### The Cramer-Rao bound\n",
    "\n",
    "If you have an unbiased estimator of a parameter $T(\\theta)$, such as a ML estimator with a large number of samples, this estimator has a minimum possible uncertainty.\n",
    "\n",
    "That variance of the estimator is bounded by \n",
    "\n",
    "## $$ \\text{Var}(T(\\theta)) \\geq \\frac{1}{I(\\theta)} $$\n",
    "\n",
    "where $I(\\theta)$ is the Fisher information matrix."
   ]
  },
  {
   "cell_type": "markdown",
   "metadata": {
    "slideshow": {
     "slide_type": "subslide"
    }
   },
   "source": [
    "### This is why the Fisher information is used in error analysis\n",
    "\n",
    "* If you have an estimate of the likelihood (assuming some model) of the data, you can compute the maximum.\n",
    "\n",
    "* If you can compute the maximum, you can also compute how the likelihood changes near the maximum, approximating it with a parabola/n-dimensional ellipsoid.\n",
    "\n",
    "* This lets you compute the Fisher information.\n",
    "\n",
    "* The Cramer-Rao bound says that this is the best case you can do if your estimator is unbiased. \n",
    "\n",
    "* If your estimator actually attains this limit, it is said to be *efficient*"
   ]
  },
  {
   "cell_type": "markdown",
   "metadata": {
    "slideshow": {
     "slide_type": "subslide"
    }
   },
   "source": [
    "## Goodness of Fit\n",
    "\n",
    "The MLE approach tells us what the \"best\" model parameters are, but not how good the fit actually is.  \n",
    "(You already know the MLE estimate can be poor if there are outliers).\n",
    "\n",
    "If the model is wrong, \"best\" might not be particularly revealing!  \n",
    "\n",
    "We can describe the **goodness of fit** as whether or not it is likely to have obtained $\\ln L_0$ by randomly drawing from the data.  That means that we need to know the *distribution* of $\\ln L$. "
   ]
  },
  {
   "cell_type": "markdown",
   "metadata": {
    "slideshow": {
     "slide_type": "subslide"
    }
   },
   "source": [
    "## Goodness of Fit\n",
    "\n",
    "For the Gaussian case, we can write\n",
    "\n",
    "### $$z_i = (x_i-\\mu)/\\sigma,$$ \n",
    "then\n",
    "### $$\\ln L = {\\rm constant} - \\frac{1}{2}\\sum_{i=1}^N z^2 = {\\rm constant} - \\frac{1}{2}\\chi^2.$$\n",
    "\n",
    "So **$\\ln L$ is distributed as $\\chi^2$ (with $N-k$ degrees of freedom).**"
   ]
  },
  {
   "cell_type": "markdown",
   "metadata": {
    "slideshow": {
     "slide_type": "subslide"
    }
   },
   "source": [
    "## Goodness of Fit\n",
    "\n",
    "\n",
    "The expectation value for the $\\chi^2$ distribution is $N − k$ and its standard deviation is $\\sqrt{2(N − k)}$. We typically have $N \\gg k$ (where $N$ is the number of data points, and $k$ is the number of parameters in the model). When that holds, it becomes useful to define **$\\chi^2$ per degree of freedom, $\\chi^2_{dof}$**, as:\n",
    "\n",
    "## $$\\chi^2_{dof} = \\frac{1}{N-k}\\sum_{i=1}^N z^2_i.$$\n",
    "\n",
    "Therefore, for a good fit we would expect that $\\chi^2_{dof}\\approx 1$ (the expectation value).  If $\\chi^2_{dof}$ is significantly larger than 1, then it is likely that we are not using the correct model.\n",
    "\n",
    "We can also get overly high or low values of $\\chi^2_{dof}$ if our uncertainties are under- or over-estimated. This is particularly interesting when we have correlated uncertainties"
   ]
  },
  {
   "cell_type": "markdown",
   "metadata": {
    "slideshow": {
     "slide_type": "subslide"
    }
   },
   "source": [
    "\n",
    "![Ivezic, Figure 4.1](http://www.astroml.org/_images/fig_chi2_eval_1.png)"
   ]
  },
  {
   "cell_type": "code",
   "execution_count": 12,
   "metadata": {},
   "outputs": [],
   "source": [
    "sigma_clip?"
   ]
  },
  {
   "cell_type": "code",
   "execution_count": 13,
   "metadata": {},
   "outputs": [
    {
     "data": {
      "text/plain": [
       "array([16.74905484, 16.76328344, 16.77046828, 16.73447373, 16.75177666,\n",
       "       16.76053265, 16.78329758, 16.72805557, 16.76659361, 16.82797024,\n",
       "       16.73393743, 16.72167512, 16.81460538, 16.78217595, 16.75177666,\n",
       "       16.73019074, 16.83972711, 16.84803333, 16.74417268, 16.72805557,\n",
       "       16.84387228, 16.75450533, 16.778818  , 16.78723243, 16.77491347,\n",
       "       16.70850174, 16.77380047, 16.73931237, 16.74851129, 16.76825249,\n",
       "       16.72326672, 16.83618666, 16.77380047, 16.75614583, 16.73447373,\n",
       "       16.73823525, 16.74146982, 16.8510153 , 16.74742501, 16.82738573,\n",
       "       16.74688228, 16.74255016, 16.7371592 , 16.72752243, 16.75232185,\n",
       "       16.82972568, 16.75177666, 16.7754704 , 16.76714629, 16.72645694,\n",
       "       16.72061535, 16.74688228, 16.74742501, 16.77491347, 16.74851129,\n",
       "       16.74146982, 16.76659361, 16.73931237, 16.75286731, 16.71744222,\n",
       "       16.75614583, 16.69963428, 16.72061535, 16.74146982, 16.77491347,\n",
       "       16.7211451 , 16.73179488, 16.73072519, 16.73019074, 16.73072519,\n",
       "       16.78385883, 16.72379777, 16.71007414, 16.75014275, 16.76935982,\n",
       "       16.72698955, 16.74309073, 16.77046828, 16.71744222, 16.8128742 ,\n",
       "       16.73393743, 16.74851129, 16.75888551, 16.71955661, 16.7754704 ,\n",
       "       16.78610673, 16.74417268, 16.75395905, 16.73179488, 16.70745475,\n",
       "       16.74959866, 16.74255016, 16.73501029, 16.78105548, 16.7654891 ,\n",
       "       16.8510153 , 16.75286731, 16.74200986, 16.75395905, 16.73823525,\n",
       "       16.75614583, 16.78385883, 16.74959866, 16.72326672, 16.77825935,\n",
       "       16.75559872, 16.83089754, 16.71955661, 16.78217595, 16.76604122,\n",
       "       16.76328344, 16.79287849, 16.75177666, 16.84565363, 16.74796801,\n",
       "       16.72698955, 16.71902763, 16.75450533, 16.75014275, 16.71269986,\n",
       "       16.7376971 , 16.79571257, 16.73823525, 16.77714291, 16.71269986,\n",
       "       16.76328344, 16.84803333, 16.72326672, 16.72965655, 16.72486066,\n",
       "       16.72539249, 16.75450533, 16.77602762, 16.73985133, 16.71691427,\n",
       "       16.76438571, 16.76991391, 16.74039056, 16.73233012, 16.79741658,\n",
       "       16.74851129, 16.79514517, 16.79174693, 16.74417268, 16.78892317,\n",
       "       16.72220539, 16.77435683, 16.78666943, 16.73286563, 16.75559872,\n",
       "       16.84624807, 16.76383443, 16.73393743, 16.77102294, 16.70902562,\n",
       "       16.68877942, 16.74796801, 16.81633932, 16.69341822, 16.75450533,\n",
       "       16.70797812, 16.68775126, 16.77324439, 16.74851129, 16.81923539,\n",
       "       16.75998333, 16.71638657, 16.70379819, 16.77714291, 16.78049568,\n",
       "       16.82855507, 16.70275571, 16.72326672, 16.7376971 , 16.75341304,\n",
       "       16.77324439, 16.81749682, 16.75943428, 16.74742501, 16.76714629,\n",
       "       16.75177666, 16.73125991, 16.74579763, 16.75778881, 16.76328344,\n",
       "       16.71955661, 16.73286563, 16.75286731, 16.79457805, 16.74093006,\n",
       "       16.77157787, 16.74146982, 16.77658512, 16.77102294, 16.75286731,\n",
       "       16.70171424, 16.81114578, 16.82797024, 16.75669321, 16.79231256,\n",
       "       16.76163213, 16.71744222, 16.73823525, 16.76659361, 16.72432908,\n",
       "       16.74688228, 16.75123175, 16.7371592 , 16.75505189, 16.74633982,\n",
       "       16.71164881, 16.74688228, 16.76825249, 16.74146982, 16.75341304,\n",
       "       16.73286563, 16.75998333, 16.72061535])"
      ]
     },
     "execution_count": 13,
     "metadata": {},
     "output_type": "execute_result"
    }
   ],
   "source": [
    "clipped_samp"
   ]
  },
  {
   "cell_type": "code",
   "execution_count": 15,
   "metadata": {},
   "outputs": [],
   "source": [
    "var = sigma_clip(samp, sigma=3, stdfunc='std', masked=True)"
   ]
  },
  {
   "cell_type": "code",
   "execution_count": 17,
   "metadata": {},
   "outputs": [
    {
     "data": {
      "text/plain": [
       "(230,)"
      ]
     },
     "execution_count": 17,
     "metadata": {},
     "output_type": "execute_result"
    }
   ],
   "source": [
    "var.mask.shape"
   ]
  },
  {
   "cell_type": "code",
   "execution_count": 18,
   "metadata": {},
   "outputs": [
    {
     "data": {
      "text/plain": [
       "(230,)"
      ]
     },
     "execution_count": 18,
     "metadata": {},
     "output_type": "execute_result"
    }
   ],
   "source": [
    "samp.shape"
   ]
  },
  {
   "cell_type": "code",
   "execution_count": 20,
   "metadata": {},
   "outputs": [
    {
     "data": {
      "text/plain": [
       "array([16.74905484, 16.76328344, 16.77046828, 16.73447373, 16.75177666,\n",
       "       16.76053265, 16.78329758, 16.72805557, 16.76659361, 16.82797024,\n",
       "       16.73393743, 16.72167512, 16.81460538, 16.78217595, 16.75177666,\n",
       "       16.73019074, 16.83972711, 16.84803333, 16.74417268, 16.72805557,\n",
       "       16.84387228, 16.75450533, 16.778818  , 16.78723243, 16.77491347,\n",
       "       16.70850174, 16.77380047, 16.73931237, 16.74851129, 16.76825249,\n",
       "       16.72326672, 16.83618666, 16.77380047, 16.75614583, 16.73447373,\n",
       "       16.73823525, 16.74146982, 16.8510153 , 16.74742501, 16.82738573,\n",
       "       16.74688228, 16.74255016, 16.7371592 , 16.72752243, 16.75232185,\n",
       "       16.82972568, 16.75177666, 16.7754704 , 16.76714629, 16.72645694,\n",
       "       16.72061535, 16.74688228, 16.74742501, 16.77491347, 16.74851129,\n",
       "       16.74146982, 16.76659361, 16.73931237, 16.75286731, 16.71744222,\n",
       "       16.75614583, 16.69963428, 16.72061535, 16.74146982, 16.77491347,\n",
       "       16.7211451 , 16.73179488, 16.73072519, 16.73019074, 16.73072519,\n",
       "       16.78385883, 16.72379777, 16.71007414, 16.75014275, 16.76935982,\n",
       "       16.72698955, 16.74309073, 16.77046828, 16.71744222, 16.8128742 ,\n",
       "       16.73393743, 16.74851129, 16.75888551, 16.71955661, 16.7754704 ,\n",
       "       16.78610673, 16.74417268, 16.75395905, 16.73179488, 16.70745475,\n",
       "       16.74959866, 16.74255016, 16.73501029, 16.78105548, 16.7654891 ,\n",
       "       16.8510153 , 16.75286731, 16.74200986, 16.75395905, 16.73823525,\n",
       "       16.75614583, 16.78385883, 16.74959866, 16.72326672, 16.77825935,\n",
       "       16.75559872, 16.83089754, 16.71955661, 16.78217595, 16.76604122,\n",
       "       16.76328344, 16.79287849, 16.75177666, 16.84565363, 16.74796801,\n",
       "       16.72698955, 16.71902763, 16.75450533, 16.75014275, 16.71269986,\n",
       "       16.7376971 , 16.79571257, 16.73823525, 16.77714291, 16.71269986,\n",
       "       16.76328344, 16.84803333, 16.72326672, 16.72965655, 16.72486066,\n",
       "       16.72539249, 16.75450533, 16.77602762, 16.73985133, 16.71691427,\n",
       "       16.76438571, 16.76991391, 16.74039056, 16.73233012, 16.79741658,\n",
       "       16.74851129, 16.79514517, 16.79174693, 16.74417268, 16.78892317,\n",
       "       16.72220539, 16.77435683, 16.78666943, 16.73286563, 16.75559872,\n",
       "       16.84624807, 16.76383443, 16.73393743, 16.77102294, 16.70902562,\n",
       "       16.68877942, 16.74796801, 16.81633932, 16.69341822, 16.75450533,\n",
       "       16.70797812, 16.68775126, 16.77324439, 16.74851129, 16.81923539,\n",
       "       16.75998333, 16.71638657, 16.70379819, 16.77714291, 16.78049568,\n",
       "       16.82855507, 16.70275571, 16.72326672, 16.7376971 , 16.75341304,\n",
       "       16.77324439, 16.81749682, 16.75943428, 16.74742501, 16.76714629,\n",
       "       16.75177666, 16.73125991, 16.74579763, 16.75778881, 16.76328344,\n",
       "       16.71955661, 16.73286563, 16.75286731, 16.79457805, 16.74093006,\n",
       "       16.77157787, 16.74146982, 16.77658512, 16.77102294, 16.75286731,\n",
       "       16.70171424, 16.81114578, 16.82797024, 16.75669321, 16.79231256,\n",
       "       16.76163213, 16.71744222, 16.73823525, 16.76659361, 16.72432908,\n",
       "       16.74688228, 16.75123175, 16.7371592 , 16.75505189, 16.74633982,\n",
       "       16.71164881, 16.74688228, 16.76825249, 16.74146982, 16.75341304,\n",
       "       16.73286563, 16.75998333, 16.72061535])"
      ]
     },
     "execution_count": 20,
     "metadata": {},
     "output_type": "execute_result"
    }
   ],
   "source": [
    "samp[~var.mask]"
   ]
  },
  {
   "cell_type": "code",
   "execution_count": null,
   "metadata": {},
   "outputs": [],
   "source": []
  }
 ],
 "metadata": {
  "celltoolbar": "Slideshow",
  "kernelspec": {
   "display_name": "Python [conda env:fds] *",
   "language": "python",
   "name": "conda-env-fds-py"
  },
  "language_info": {
   "codemirror_mode": {
    "name": "ipython",
    "version": 3
   },
   "file_extension": ".py",
   "mimetype": "text/x-python",
   "name": "python",
   "nbconvert_exporter": "python",
   "pygments_lexer": "ipython3",
   "version": "3.7.6"
  }
 },
 "nbformat": 4,
 "nbformat_minor": 2
}
