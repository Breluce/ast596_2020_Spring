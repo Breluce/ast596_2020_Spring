{
 "cells": [
  {
   "cell_type": "code",
   "execution_count": 1,
   "metadata": {
    "slideshow": {
     "slide_type": "skip"
    }
   },
   "outputs": [
    {
     "data": {
      "text/plain": [
       "{'width': 1920, 'height': 1080, 'scroll': True}"
      ]
     },
     "execution_count": 1,
     "metadata": {},
     "output_type": "execute_result"
    }
   ],
   "source": [
    "from notebook.services.config import ConfigManager\n",
    "cm = ConfigManager()\n",
    "cm.update('livereveal', {\n",
    "        'width': 1920,\n",
    "        'height': 1080,\n",
    "        'scroll': True,\n",
    "})"
   ]
  },
  {
   "cell_type": "markdown",
   "metadata": {
    "slideshow": {
     "slide_type": "slide"
    }
   },
   "source": [
    "# Week 02, ASTR 596: Fundamentals of Data Science\n",
    "\n",
    "### Gautham Narayan \n",
    "##### <gsn@illinois.edu>\n",
    "\n",
    "\n",
    "##### With contributions totally ripped of from Zjelko Ivezic and Mario Juric (UW), Gordon Richards (Drexel), Federica Bianco (U. Del) and Maria Suveges (EPFL)\n",
    "\n"
   ]
  },
  {
   "cell_type": "markdown",
   "metadata": {
    "slideshow": {
     "slide_type": "slide"
    }
   },
   "source": [
    "## Recap\n",
    "\n",
    "* We've done an overview of \"descriptive\" statistics (as opposed to inferential statistics)\n",
    "* Random variables (discrete and continuous), sample estimators, covariance\n",
    "    * Bayes' rule and how it follows from the axioms of probability\n",
    "    * conditional probability, marginalization"
   ]
  },
  {
   "cell_type": "markdown",
   "metadata": {
    "slideshow": {
     "slide_type": "subslide"
    }
   },
   "source": [
    "* Distributions (univariate and multivariate), moments, common distributions, PDFs, CDFs\n",
    "* Random variables as samples from a distribution \n",
    "* Why you should look at the samples, not just moments/summary statistics\n",
    "* Comparing samples to a normal distribution (the QQ plot), identifying skewness, outliers"
   ]
  },
  {
   "cell_type": "markdown",
   "metadata": {
    "slideshow": {
     "slide_type": "subslide"
    }
   },
   "source": [
    "* The central limit theorem\n",
    "* Basic visualizations of multivariate data\n",
    "* Dealing with basic astronomical data types"
   ]
  },
  {
   "cell_type": "markdown",
   "metadata": {
    "slideshow": {
     "slide_type": "slide"
    }
   },
   "source": [
    "### <center> Remember the goal is to get to <i>P(H|D).</i> </center>\n",
    "\n",
    "### <center> What questions do you have? </center>"
   ]
  },
  {
   "cell_type": "markdown",
   "metadata": {
    "slideshow": {
     "slide_type": "slide"
    }
   },
   "source": [
    "## The Method of Moments and Hypothesis Testing \n",
    "\n",
    "\n",
    "### The Method of Moments (Chebyshev, 1887)\n",
    "We know how to estimate moments if we have an underlying description of the population - the PDF\n",
    "\n",
    "### <center> $\\mu_{n} = \\int_{-\\infty}^{\\infty} (x-c)^{n} \\cdot p(x) \\cdot dx $ </center>"
   ]
  },
  {
   "cell_type": "markdown",
   "metadata": {
    "slideshow": {
     "slide_type": "subslide"
    }
   },
   "source": [
    "Generally, we do not have the PDF but have some random samples that are drawn from it."
   ]
  },
  {
   "cell_type": "markdown",
   "metadata": {
    "slideshow": {
     "slide_type": "subslide"
    }
   },
   "source": [
    "We have been equating sample moments with population moments already\n",
    "\n",
    "* the KDE plot with multivariate data\n",
    "* estimating parameters from a multivariate sample by eye and constructing a multivariate Gaussian\n",
    "* your homework..."
   ]
  },
  {
   "cell_type": "markdown",
   "metadata": {
    "slideshow": {
     "slide_type": "subslide"
    }
   },
   "source": [
    "This works when the data is simple enough to be described by some simple model. You also know when this isn't the case:\n",
    "\n",
    "<img src=\"./figures/DataDino-600x455.gif\" width=\"200\">"
   ]
  },
  {
   "cell_type": "markdown",
   "metadata": {
    "slideshow": {
     "slide_type": "slide"
    }
   },
   "source": [
    "But if it is the case...\n",
    "\n",
    "* Assume a form for the empirical PDF $f(x; \\theta)$\n",
    "* Equate the sample moments with the empirical moments"
   ]
  },
  {
   "cell_type": "code",
   "execution_count": 2,
   "metadata": {
    "slideshow": {
     "slide_type": "skip"
    }
   },
   "outputs": [
    {
     "name": "stdout",
     "output_type": "stream",
     "text": [
      "Using matplotlib backend: MacOSX\n",
      "Populating the interactive namespace from numpy and matplotlib\n"
     ]
    },
    {
     "name": "stderr",
     "output_type": "stream",
     "text": [
      "/Users/Chadwick/Applications/miniconda3/envs/fds/lib/python3.7/site-packages/IPython/core/magics/pylab.py:160: UserWarning: pylab import has clobbered these variables: ['cm']\n",
      "`%matplotlib` prevents importing * from pylab and numpy\n",
      "  \"\\n`%matplotlib` prevents importing * from pylab and numpy\"\n"
     ]
    }
   ],
   "source": [
    "# here's a quick demo of the method of moments works with some simulated data\n",
    "# the process we're simulating is a Poisson process\n",
    "# The statistics of sources that you detect with devices like CCDs that count photons will follow a Poisson process\n",
    "# Remember from Week 1 that astronomers don't report measurements in number of photons detected\n",
    "# or number of counts measured more accurately\n",
    "# but rather they take -2.5*log_10(counts) and add a constant to scale\n",
    "# Also remember that if you have a Poisson process with mean lambda, then the variance is also lambda\n",
    "# so the standard deviation is the sqrt of lambda \n",
    "\n",
    "\n",
    "# RUN THIS CELL\n",
    "%pylab\n",
    "%matplotlib inline\n",
    "import scipy.stats as st\n",
    "from astropy.visualization import hist as ahist\n",
    "import statsmodels.api as sm\n",
    "\n",
    "# you can change this number and execute the cell below \n",
    "samp_size = 1000\n",
    "\n",
    "# and this number\n",
    "true_flux = 2000\n",
    "\n",
    "# simulate something like the magnitudes you might measure on a detector\n",
    "samp = -2.5*np.log10(st.poisson.rvs(true_flux, size=samp_size)) + 25\n",
    "\n",
    "# true moments are straightforward - remember change of variables for the standard deviation\n",
    "mu_true = -2.5*np.log10(true_flux) + 25\n",
    "sig_true = np.log10(e)*2.5*np.sqrt(true_flux)/true_flux\n",
    "\n",
    "# sample moments are also easy \n",
    "mu_samp = samp.mean()\n",
    "sig_samp = samp.std()"
   ]
  },
  {
   "cell_type": "code",
   "execution_count": 3,
   "metadata": {
    "slideshow": {
     "slide_type": "slide"
    }
   },
   "outputs": [
    {
     "data": {
      "image/png": "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\n",
      "text/plain": [
       "<Figure size 576x288 with 2 Axes>"
      ]
     },
     "metadata": {
      "needs_background": "light"
     },
     "output_type": "display_data"
    }
   ],
   "source": [
    "fig = figure(figsize=(8, 4))\n",
    "ax1 = fig.add_subplot(1,2,1)\n",
    "ax2 = fig.add_subplot(1,2,2)\n",
    "\n",
    "# let's histogram the sample we have \n",
    "ahist(samp, bins='freedman', density=True, ax=ax1,\\\n",
    "      label=fr'True $\\mu=${mu_true:.3f}, $\\sigma$={sig_true:.3f}')\n",
    "xmin, xmax = ax1.get_xlim()\n",
    "xval = np.arange(xmin, xmax+0.01, 0.001)\n",
    "\n",
    "# and overplot the PDF we estimate using the method of moments\n",
    "estpdf  = st.norm.pdf(xval, loc=mu_samp, scale=sig_samp)\n",
    "ax1.plot(xval, estpdf, color='C1', lw=2, label=fr'Est $\\mu=${mu_samp:.3f}, $\\sigma$={sig_samp:.3f}')\n",
    "ax1.legend(frameon=False)\n",
    "\n",
    "# we know that in the limit of large lambda, the Poisson process should look like a Gaussian process\n",
    "sm.qqplot(samp, line='r', ax=ax2)\n",
    "tight_layout()"
   ]
  },
  {
   "cell_type": "markdown",
   "metadata": {
    "slideshow": {
     "slide_type": "slide"
    }
   },
   "source": [
    "This is closely related to the **Null Hypothesis Rejection Test** (NHRT)\n",
    "\n",
    "* You have data drawn from some unknown population\n",
    "* Assume a model for that population\n",
    "    * This allows you to make a prediction for the data you have\n",
    "    * \"Under the null hypothesis\" = if the model is a good description of the data\n",
    "        * then the data should be highly probable\n",
    "    * Define a test such that some observation has a very low probability of happening"
   ]
  },
  {
   "cell_type": "markdown",
   "metadata": {
    "slideshow": {
     "slide_type": "subslide"
    }
   },
   "source": [
    "* Given your data, if the low probability happened, then you can reject your model\n",
    "* If it hasn't happened, your model still holds\n",
    "    * but that doesn't tell you it's a good description of the data"
   ]
  },
  {
   "cell_type": "markdown",
   "metadata": {
    "slideshow": {
     "slide_type": "subslide"
    }
   },
   "source": [
    "<center> <img src='./figures/nhrt.png'> </center>\n",
    "(credit: Federica Bianco, U. Delaware)"
   ]
  },
  {
   "cell_type": "markdown",
   "metadata": {
    "slideshow": {
     "slide_type": "subslide"
    }
   },
   "source": [
    "So when you hear \"$x$ is a 2-$\\sigma$ detection!\"\n",
    "\n",
    "* 2-$\\sigma$: confidence level\n",
    "* 0.05: p-value\n",
    "* 95%: threshold\n",
    "\n",
    "\n",
    "Unstated here is that there is an assumption of some model, typically a Gaussian.\n",
    "\n",
    "**Nothing** here states that the model is a good description of the data at all."
   ]
  },
  {
   "cell_type": "markdown",
   "metadata": {
    "slideshow": {
     "slide_type": "subslide"
    }
   },
   "source": [
    "Consider this from Kang et al. \"Early-type Host Galaxies of Type Ia Supernovae. II. Evidence for Luminosity Evolution in Supernova Cosmology\", 2020, ApJ, 889, Issue 1, id. 8\n",
    "\n",
    "[ADS Link](https://ui.adsabs.harvard.edu/abs/2020ApJ...889....8K/abstract)\n",
    "or \n",
    "[ArXiv](https://arxiv.org/abs/1912.04903)\n",
    "\n",
    "  <center> <img src =\"./figures/kang_sne_evol.png\" width=\"800\"> </center>"
   ]
  },
  {
   "cell_type": "markdown",
   "metadata": {
    "slideshow": {
     "slide_type": "subslide"
    }
   },
   "source": [
    "### Staistical sins\n",
    "\n",
    "- hypotheses suggested by non-representative data\n",
    "    - you almost always have to deal with this in real data\n",
    "- looking for patterns in your data is legitimate\n",
    "    - applying a hypothesis test to the same data from which a pattern emerges is not\n",
    "        - randomized out-of-sample tests/cross-validation\n",
    "- p is not the probability that the hypothesis is false! (remember what you are given here is the hypothesis)\n",
    "- p-hacking: only reporting the hypothesis with a significant p-value but not reporting the ones without\n",
    "\n",
    "#### Read Cohen 1994 \"The Earth is Round (p < .05)\" included in the directory for all the issues with hypothesis testing\n",
    "    "
   ]
  },
  {
   "cell_type": "markdown",
   "metadata": {
    "slideshow": {
     "slide_type": "subslide"
    }
   },
   "source": [
    "If your sample is indeed drawn from a random distribution:\n",
    "\n",
    "### <center> $ \\left| x - \\mu \\right| > 3\\sigma$ implies $X$ is more extreme than the distribution 0.27% of the time </center>"
   ]
  },
  {
   "cell_type": "markdown",
   "metadata": {
    "slideshow": {
     "slide_type": "slide"
    }
   },
   "source": [
    "## In class exercise 1\n",
    "### NRHT when the model isn't normal\n",
    "\n",
    "The Universe has many processes that throw outliers into your nice curated data\n",
    "(I hope you are enjoying your homework)\n",
    "\n",
    "If you model a sample as normal, but the underlying population isn't then you are liable to flag something as significant when it isn't. \n",
    "\n",
    "See what difference it makes when you go from a Gaussian to a Student's t-distribution with 8 degrees of freedom:"
   ]
  },
  {
   "cell_type": "code",
   "execution_count": 4,
   "metadata": {
    "slideshow": {
     "slide_type": "slide"
    }
   },
   "outputs": [
    {
     "name": "stdout",
     "output_type": "stream",
     "text": [
      "Total probability of being between +/- 3 sigma for N(0,1) 0.9973002039367398\n",
      "Therefore probability of being a 3 sigma outlier for N(0,1) 0.002699796063260207\n",
      "Total probability of being between +/- 3 sigma for t8 0.9829283187662174\n",
      "Therefore probability of being a 3 sigma outlier for t8 0.017071681233782554\n",
      "0.997 probability intervals for N(0,1) (-2.999976992703389, 2.9999769927034015)\n",
      "0.997 probability intervals for t8 (-4.276576799570991, 4.276576799571021)\n"
     ]
    },
    {
     "data": {
<<<<<<< HEAD
      "image/png": "iVBORw0KGgoAAAANSUhEUgAAAmcAAAE9CAYAAABOT8UdAAAABHNCSVQICAgIfAhkiAAAAAlwSFlzAAALEgAACxIB0t1+/AAAADh0RVh0U29mdHdhcmUAbWF0cGxvdGxpYiB2ZXJzaW9uMy4xLjEsIGh0dHA6Ly9tYXRwbG90bGliLm9yZy8QZhcZAAAgAElEQVR4nOzdeXjcZ3nv//c9o122LEvWYkleZVuWbHlVbGfBcVacBBJKgSZAC+e0pPQQaAvtr1B6aA+Uq5SW0lNOKAQKlLZJCKSQAAkhZCUkTmzHu2zZkrxIlizJ1r5LM8/vjxk5iu3Ykq2Z78zo87ouXdF8Z76jjyEZ33qe534ec84hIiIiIrHB53UAEREREXmDijMRERGRGKLiTERERCSGqDgTERERiSEqzkRERERiiIozERERkRiS5HWAqTJnzhy3cOFCr2OISBTt3LnztHMuz+scU0GfYSLTy8U+vxKmOFu4cCE7duzwOoaIRJGZHfc6w1TRZ5jI9HKxzy9Na4qIiIjEEBVnIiIiIjFExZmIiIhIDFFxJiIiIhJDVJyJiIiIxBAVZyIiIiIxJKLFmZltNbMaM6s1s09f5HXvMTNnZlXjrn0mfF+Nmb09kjlFREREYkXEijMz8wP3A7cBFcA9ZlZxgdfNBD4BvDruWgVwN7AC2Ap8Pfx+IiKeMrPvmFmrme1/i+fNzP4l/MvlXjNbF+2MIhLfIjlytgGodc7VO+eGgYeBuy7wui8AXwYGx127C3jYOTfknDsK1IbfT0TEa98j9EvjW7kNWBr+uhf41yhkEpEEEskTAoqBhnGPG4GN419gZmuBec65n5nZn51z77Zz7i2OVFCJT4GgY1v9Gdp6hqhaOJuS2RleR5JpwDn3opktvMhL7gK+75xzwDYzyzazuc655qn4+Ufraqg/tBt8fpyFvjAfzucHknA+3xvXfX6wJBi75vND+PrYa5w/BcyHAWZgGJz9PvTPEDt7LfS8jfv+jXv9PiM1yUdqsj/0z3O+z0hJwu8zROStRbI4u9B/fe7sk2Y+4KvAhyd777j3uJfQb6bMnz//skJKfDrZOcC939/BgaZuAJJ8xp/cvJSP3bAEM33wi6cu9ItpMXBecXY5n2GtOx/jpuovXnnKcYZcEkOkMERy6MslM0QKgyQz5N643kcaPS6dbjLpcen0kEGPy6CHDLpdBmfIotVlM0jqW/4sM8hKSyY7I5ns9GSyM1LIzUyhZHY6JbMzKJmdzvzcDIqz0/XfskxbkSzOGoF54x6XAE3jHs8EVgLPh/8DLAQeN7M7J3AvAM65B4AHAKqqqs4r3iQxdfQN84FvbeNM3zD//DtrKCucydefr+Mff3mYZL+PP7y+1OuIMr1N6JdLuLzPsMqb38+ZFRswF8C5AARGwQXABXGBEQgGwQWw8HNu7PtgABcM/fPsYxfAAsP4RgchMETy6BApgUGyRoewwCA2OoQFhvCNDmKBXnwjLfiGe/APd2Mu+JYZR5NnMJw2h8HUOQykzqEntYjOtGLOpBTT7J9LY2A2HYNBOvpH6Owf5khLD6e6BwmO+19gZloSFXOzWFE0i6qFs7mmNJfsjJSJ/E8kEvciWZxtB5aa2SLgJKEF/u8fe9I51wXMGXtsZs8Df+ac22FmA8CDZvZPQBGhtRuvRTCrxJH//dh+TnYO8PC9m1i/IAeAf7l7DcGg4+9/cYgNi3JYO3+2xyllGpvQL5eXKyOnhIyckql6u8vjHAz3wVA3DHbDYFfoq68NeltI6m0lqbeFjN4W6DkMp56FwPAb9/uSIa8MCiuhfBUUVjJSUMWpwWQaOvo5erqP6qZuDjR18+Brx/nOb45iBpXFs7ilvIA71xSxIDfTuz+/SIRFrDhzzo2a2X3AU4Af+I5z7oCZfR7Y4Zx7/CL3HjCzR4BqYBT4mHMuEKmsEj9eOnKan+1t5lO3LDtbmEFo/cvfv2cVO46389ePH+An/+tafFrXIt54HLjPzB4mtM62a6rWm8UMM0idEfrKKrr064MB6D4J7Ueh4yi010PLAah7FvY8BECy+ZlXtIZ5C67lmoVvg7XXQUoGI4Egexs7+fWR07x4uI2vPH2Yrzx9mHXzs/nQNQu5vXIuyX5t2SmJxUJrVuNfVVWV27Fjh9cxJIKcc/zW11+mtXuQ5/58C6lJ5++u8uNdjfzpD/bw9Q+s4/bKuR6klGgys53OuapLv3JKf+ZDwBZCI/8twF8DyQDOuW9YaJ3G/yPU0dkP/A/n3CU/nKbtZ1hPC5zaCye2wfHfQOMOCI5AUjosuQmWvwOW3w5ps4DQetOf7mnike0N1J/uo2hWGn94fSnv3zhfRZrElYt9fqk4k7jxfE0rH/7udv7u3ZXcs+HCi6cDQcdNX3merPRkHvvYtVpQnOC8KM4iRZ9hYcP9cOIVqHkSDv0cepogKQ0q3gXrfhcWXAtmBIOOZw+18sCL9bx2rJ3FczL5y9vLubmiwOs/gciEXOzzS79mSNz4z23HmTMjhd9e99brbfw+4yObF7O3sYtXj7ZHMZ2ITImUjNCI2R3/CH96AP7gGVjzfqh5Ar53B/zrNbD3EXwuwM0VBfzgDzfxbx+qwgz+4Ps7+MRDu+joG770zxGJYSrOJC6c7Bzg2UOt/M5V80hJCv9r27gTfvC78G+3wvNfCi1QBn57XQkz05L4wfaGi7yjiMQ8nw9KquAdX4VP1cBdXwcXhP/+CHxtLex5GHOOm8oL+MWfbOZTtyzjyf3N3PrPL7L9mH45k/il4kziwg93NODgjenMAz+B79wKx18OdY49/3fwvXfAUA9pyX7eubqIJ/c30z044mluEZkiKRmw9gPwR6/A3Q9Beg78+A/hWzfA8VdI9vv4+E1L+cnHrmVGahL3PLCN779yzOvUIpdFxZnEhZ/vbWbDwpzQKQAt1fDjj0Lxevj4TviDp+HuB6F5Nzx2HzjHe9eXMDgS5Im9idUkJzLt+XyhBoGPPAe/9UBo+47vboUn/hyGellRNIuffOxarl+Wx+ceO8CXnjxEoqytlulDxZnEvMMtPRxp7eUdq+aGRsl++seQkgnv+w9Izw69aPkdcOP/huqfQM2TrJmXzYLcDJ7cf8rb8CISGT4frP4duG87bPwjeO1bofVoJ15lVnoy3/q9Kj64aT7feKGOv/zxfoJBFWgSP1ScScz72d5mfAZvX1kYKr4aX4Ob/wZmntOVdc3HIW85/PKzWDDArRUFvFx3WlObIoksJRNu+xL8jydD+69973Z49Zv4DL5w10o+dkMpD712gv/z0wMaQZO4oeJMYt4T+5rZsCiH/Bmp8NI/Q+4SWPOB81/oT4Yb/yq0weXBx3n7ikJGAo7nDrVGP7SIRNeCq+HeF2DJLfDk/wc//igWGOHPbi3j3s2L+fdXjvMvz9R6nVJkQlScSUxr7OintrWXWyoKQxtUNu+Gqz8WmtK4kLI7QsXby19j3fzZzJmRyi8PtEQ3tIh4Iz07tP50y1/C3ofhwfdhw7185rblvGd9CV/91WF+tLPR65Qil6TiTGLai4dPA3D9sjzY/u1Qh9bqe976Bp8PNtwLTa/jaz3AzeX5vHC4jdHAWx/SLCIJxOeDLX8Bd90PR1+E770DG+zkS++u5JrSXP7yx/vY19jldUqRi1JxJjHthcOtFGenUzpzFA49AZXvgeT0i99U+V7wp8Du/2Lzsjx6h0bZ09gZncAiEhvWfhDueQhaq+E/3k3SSC9fu2cteTNS+eh/7uRM75DXCUXekooziVkjgSC/qT3D5mV52MHHITAEq+6+9I0ZOVB2G+z9AdcszMIMfn3kdOQDi0hsWfZ2eN/3Q2d3/td7yU0Z5RsfXE9bzxCf+e99ahCQmKXiTGLWrhOd9A6NhqY09/0otJaseN3Ebq58L/SfIfv0TlYVz1JxJjJdld0Gv/1voS7vRz9CZdFM/uzty/hldYvWn0nMUnEmMeulI234fcY1JUmhZoDyd4Za5Sei9MbQYcmHfs51S+ewu6FTW2qITFcr3gVv/zuo+Tk88zf8/nWL2bgoh//z02oa2vu9TidyHhVnErNePdrOiqIsshqeh+AolN0+8ZtTMkMF2qGfc13pHAJBx3YdhC4yfW38Q6j6ffjN/8W/9yG+8r7VOOf43GP7Nb0pMUfFmcSkodEAuxo62bAwB2qehIw5oeOaJmP5HdDVwLrUBpL9xvZjHZEJKyKxzwxu+3tYtBl+9klKRo7zp7cs47maNp7SdjsSY1ScSUza19jF8GiQDQtmQu3TsGwr+PyTe5NlWwEjtf5pKotnseOYRs5EpjV/Mrz725A6A374YT58VT7LC2fy+Z8eoG9o1Ot0ImepOJOY9Gp4CnJT6nEY7IKlt0z+TTLnwNxVUP8CVy3MYW9jF4MjgSlOKiJxZWYBvPtb0FZD0tOf5W/ftZKmrkH+9fk6r5OJnKXiTGLS9mPtLM2fQVbzK6ELizZf3hst3gINr7KxJI3hQJC92nxSREpvCJ3Fu/N7VAV2c+fqIr79Uj0t3YNeJxMBVJxJDAoEHTuPdXDVohw49iIUVob2Lrsci7dAcISrfIeAUNEnIsINn4XcpfD4J/jzLcUEgo5//tVhr1OJACrOJAYdbumhZ2iUjfMy4MSrsOj6y3+z+VeDP5WZJ19iWcEMFWciEpKcFjriqauRea//PR/YuIAfbG+gtrXX62QiKs4k9uxpCB21tCGpLnQqwOVOaULoqKd5G+DoC6xfkMOuE51qmxeRkPkbQ1tsbP83/mRFPxkpSXz1aY2eifciWpyZ2VYzqzGzWjP79AWe/6iZ7TOz3Wb2kplVhK8vNLOB8PXdZvaNSOaU2LKnsZNZ6ckUnnkVzB8a/boSC66BlgOsL0yia2CE42e06aSIhG35DGTkkv38Z/m9TfN5Yn+zRs/EcxErzszMD9wP3AZUAPeMFV/jPOicq3TOrQG+DPzTuOfqnHNrwl8fjVROiT27G7pYPS8bO/4yFK2BtKwre8N5G8EF2ZAc6sbSIegiclZ6Ntz8N9DwKn+Us4PUJJ86N8VzkRw52wDUOufqnXPDwMPAXeNf4JzrHvcwE9B80zTXPzzK4ZYe1hVlQtOuUGF1pUquAvNR0r2HtGQfexrUsSki46z5ABSvZ+av/5YPVRXwk90ndayTeCqSxVkx0DDucWP42puY2cfMrI7QyNknxj21yMx2mdkLZva2COaUGLL/ZDeBoOOamc0wOhAqrK5UWhYUrMDX+Cori2Zp5ExE3szng1u+AL2nuG/Gc/jN+OaLGj0T70SyOLvQCdXnjYw55+53zpUCfwH8VfhyMzDfObcW+CTwoJmdN7dlZvea2Q4z29HW1jaF0cUrY80AFYGa0IV5G6bmjedfDY07WFMygwNNXYwEglPzviKSGBZeC0tuZuaOr3H3qiwe3XmSrv4Rr1PJNBXJ4qwRmDfucQnQdJHXPwy8C8A5N+ScOxP+fidQByw79wbn3APOuSrnXFVeXt6UBRfv7G7spGR2OjNaX4eZRTCrZGreeN5GGOnjupmnGBwJcrilZ2reV0QSx43/GwY6+Hj6UwyMBHh4+wmvE8k0FcnibDuw1MwWmVkKcDfw+PgXmNnScQ/vAI6Er+eFGwows8XAUqA+glklRuxp6GT1vGxofA1KqqbujedvAqAyENqMVicFiMh5itZAxbvI2/dtblng4/uvHGdUo+zigYgVZ865UeA+4CngIPCIc+6AmX3ezO4Mv+w+MztgZrsJTV9+KHx9M7DXzPYAPwI+6pzT7qEJrrN/mMaOATbMGYHOE1M3pQmQVQwzCsjpPsCs9OSz06ciIm9yw1/CSD+fznmRk50DPF3d4nUimYaSIvnmzrkngCfOufa5cd//8Vvc9yjwaCSzSeypbg41716VFF6IWzKFxZkZFK3FTu5iVcn/ZH+TRs5E5ALyymD5HSw++l8szb6O7/7mGLdVzvU6lUwzOiFAYkZ1U6g4WzhYDb5kmLt6an9A0To4fZg1+X4On+pVU4CIXNh1n8QGu/h88XZeO9ZObavWqEp0qTiTmFHd3E1BVioZp/dBwYrQ2XdTqXgd4NiY1sBwIEhdm3YBF5ELKFkPizazoeUhMnyj/GB7w6XvEZlCKs4kZlQ3dVNROBOadk/9qBlA0VoAyoK1ABxs7r7Yq0VkOrvuT/H3nuIzJXt59PWTDI9qpF2iR8WZxITBkQC1rb1syu2Dwc7IFGeZc2DWfHK7DpCS5Ds7jSoicp7FN0DBSn5r+Ge09w3xq4NqDJDoUXEmMaG2tZfRoKMqNTx9MHdNZH5Q8Vp8Ta+zvHDm2QYEEZHzmMGGjzCj8xBbZx7V1KZElYoziQljo1ilI7Vg/tCas0goWgedx6nKC1Ld1I1zOs5VRN5C5fsgbRZ/mvU8Lx5p42TngNeJZJpQcSYx4UBTF5kpfmZ1VkN++dQ3A4wJrzu7OqORjv4RTnUPRubniEj8S8mAtb/Lso7nyXftPLb7pNeJZJpQcSYxobq5m/LCmVhzhJoBxhRWArDcjod+rtadicjFXPUHWDDAp3Jf5rFdFzuBUGTqqDgTzwWDjoPNPWzKG4L+05FbbwaQkQNZxRT2hzo2VZyJyEXlLIKlt/KO0aepbenk0Cl9ZkjkqTgTzzV09NM7NMqGtLFmgAiOnAEUVpLcdoCFuRlqChCRS1v3e2QMtbHFv5efaPRMokDFmXjuYHNo9+1lwXowHxSujOwPLFgJpw+zMj+NmlPa+Vsmz8y2mlmNmdWa2acv8Px8M3vOzHaZ2V4zu92LnDJFlr0dMvP4o1mv8NM9TQSDaiSSyFJxJp473BIqkOb01UDuEkjJjOwPLKwEF2BTVivHzvQxOBKI7M+ThGJmfuB+4DagArjHzCrOedlfAY8459YCdwNfj25KmVL+ZFj1O6wb2MZAZws7jnd4nUgSnIoz8VxNSw/zczJIOn0Y8pZH/geGmwIq/Q0EXWiPNZFJ2ADUOufqnXPDwMPAXee8xgFZ4e9nAZoLi3drP4jPjfK+lJd5fI+6NiWyVJyJ54609FCRlwIdR0PbaETa7EWQnMmCkTrgjZE7kQkqBsbvSNoYvjbe3wAfNLNG4Ang49GJJhGTXw7FVfxe2os8tf+UpjYlolSciaeGR4PUt/WxKesMuGB0Rs58PihYQVbXIVL8PmpUnMnk2AWunfs39T3A95xzJcDtwH+Y2Xmft2Z2r5ntMLMdbW1tEYgqU2rtBygaPkZ+Xw07T2hqUyJHxZl46ujpPkaDjsqU8KxPNIozgMKV+FoOsHhOBofVFCCT0wjMG/e4hPOnLX8feATAOfcKkAbMOfeNnHMPOOeqnHNVeXl5EYorU6biXThfEr+V9Aq/2H/K6zSSwFSciafGphTnBxrAlxRqCIiGwkoY6mJTbh+HW7TmTCZlO7DUzBaZWQqhBf+Pn/OaE8BNAGZWTqg409BYvMvIwUpv4t0pr/LUviYd/yYRo+JMPHW4pQe/z8jpr4ecUkhKic4PLgg1BWxIb+Jk5wA9gyPR+bkS95xzo8B9wFPAQUJdmQfM7PNmdmf4ZZ8CPmJme4CHgA87/U2eGCrfQ06gjaLu3ew72eV1GklQSV4HkOmt5lQPC3Mz8J8+dLaLMioKKgCjjGPAXI609rJu/uzo/XyJa865Jwgt9B9/7XPjvq8Gro12LomCsttxSencFXiFJ/e/g1Ul2V4nkgSkkTPx1JHWXlbkpUD70eitN4PQXmo5i5g7dBRA685EZGJSZ2Blt3Fn8ms8va9RU5sSESrOxDODIwGOneljw8wzgItucQaQV0565xHSk/3q2BSRiat8DzOD3ZR0vMoR7ZMoEaDiTDxT29qLc7AypTl0IRp7nI2XX46dqaUiP1V7nYnIxC25mWDqLN7pf4VnD7V6nUYSUESLswmcP/dRM9tnZrvN7KXxR6CY2WfC99WY2dsjmVO88Uan5vFQp2ZOaXQD5JeDC3B1doc6NkVk4pJS8S2/nVuTXueFah3+IFMvYsXZBM+fe9A5V+mcWwN8Gfin8L0VhNrTVwBbga+H308SSE1LDyl+H9m9ddHt1BwTHqlbl9pMW88Q7X3D0f35IhK/lr+Dma6PpIbf0Nmvzw6ZWpEcObvk+XPOue5xDzN5Y5ftu4CHnXNDzrmjQG34/SSBHD7Vw+K8THxthyA/yuvNAHKXgi+JUgudxFOjpgARmajSGwkkpXOrbzsvHNYWdjK1IlmcTeT8OczsY2ZWR2jk7BOTuVfi2+GWXlbmp0DHMciL8nozCI3U5ZSSPxDq2Kxt09SmiExQSga+pbewNWknz1brtACZWpEsziZy/hzOufudc6XAXwB/NZl7dS5d/OobGuVk5wBVM9oA583IGUB+OWkdNWSm+KlT15WITIKVv5M8Ojhz+GVGA0Gv40gCiWRxNpHz58Z7GHjXZO7VuXTxq76tD4By/9iZmh6MnAHkV2AdxyjPS6JWxZmITMbSWwlaMm8bfYWdx3UQukydSBZnlzx/zsyWjnt4B3Ak/P3jwN1mlmpmi4ClwGsRzCpRVheeQpw3OtapudibIPnLAcc1M8+oOBORyUnPJrhoM1v9O3j2YIvXaSSBRKw4m+D5c/eZ2QEz2w18EvhQ+N4DwCNANfAL4GPOuUCkskr01bX14vcZs/rqQ4edR7tTc0x+qIF4VWoTp7oH6R0a9SaHiMSlpIp3ssBaqK/e7nUUSSARPVtzAufP/fFF7v0i8MXIpRMv1bX1Mj8nA3/bIZi72rsgsxeBP4XFrgFYRl1rL6vn6aw8EZmgZVsBWNL5Mk2d76MoO93jQJIIdEKAeKKutY/y3KRQp2a0TwYYz58Ec8ooGAx3bGpqU0QmI2sug3MqudH/Or8+osY0mRoqziTqAkHH0dN9VM0Md2rmlXkbKL+cjM4aknym7TREZNJSK7ayzlfLzkN1XkeRBKHiTKKusaOf4UCQiqTwmZpedWqOyV+OdZ+kItc0ciYik2bLbsNPEH/9swSC5+36JDJpKs4k6sY6NRcEToAvGXKjfKbmucJNAddmtZ3NJiIyYUVrGUzNZdPoDvaf7PI6jSQAFWcSdWOjU3P6w52a/mRvA+WFNsBdk9rM8TP9DI9qM0kRmQSfD5bcwvW+Pfy6ptnrNJIAVJxJ1NW19jFnRgrJ7TXerzcDyF4AyRmUcoJA0HH8TJ/XiUQkzqRV3Ea29dFa/ZLXUSQBqDiTqKtr62X5nCToOO5tp+YYnw/mLKNg8Bigjk0RuQylNxAwP8VtL9IzOOJ1GolzKs4k6uraetk44wyhTk2PztQ8V345md21gIozEbkMabPoLdjA9baLbfXtXqeROKfiTKKqvW+Yjv4RKlPCZ2rGwsgZQN5yfL2nKJsVVFOAiFyWzJW3sdzXwK791V5HkTin4kyiaqzwWeQaQp2aXp2pea7wCN512W3a60xELkvSkpsACNY+43ESiXcqziSq6sJThvkDR2OjU3NM/ljH5inqWvsIaq8iEZmsghX0p+RSPrCTps4Br9NIHFNxJlFV19ZLapKPtK4jZwuimDBrPiRnsNQaGRgJ0NSlD1YRmSQzhhds4TrfPl6p1VFOcvlUnElU1bX1sTzXj3Uc9/5kgPHCHZtzh48BagoQkcuTteJWcq2HE9XbvI4icUzFmURVXVsvV88Kd2rG0sgZQH45M3tCZ+PVtWmvMxGZPF/pDQCknXgB57Q8Qi6PijOJmsGRAA3t/axJPRW6ECvbaIwJd2zOSx/WyJmIXJ6ZBbTPLGP10Os0tGt5hFweFWcSNcfP9BN0UEpjbHVqjgkXi9fPPn22cUFEZLKsdAvrfYd5teaE11EkTqk4k6gZ20ajcOgozFkaO52aY8LTrGvTW7TXmYhctuyVW0m1Uc5UP+91FIlTKs4kasZGozK7a2NvShPOdmwus5Oc6Rumo2/Y60QiEodswdUMWwpZTb/WujO5LCrOJGrq2nopnWX4Oo/HZnEW7tgsHjkGQP1pjZ6JyGVITudMbhVVo7s0Ci+XRcWZRE1dWx/XZZ8JPYi1Ts0x+eVk9dYDUNeqjk0RuTypZTezzHeSPQd0lJNMnooziQrnHHVtvaxJbwldiKU9zsbLW05S3ylykwZ0jJOIXLbZK28GoPvgsx4nkXik4kyiorlrkP7hAMssRjs1x4SnWzdnn1HHpohcNiuopM+fxezWV3UcnExaRIszM9tqZjVmVmtmn77A8580s2oz22tmz5jZgnHPBcxsd/jr8UjmlMgbW3dRNHws3KmZ5G2gtxKebq3KUMemiFwBn4/OvA1UuX0cOtXjdRqJMxErzszMD9wP3AZUAPeYWcU5L9sFVDnnVgE/Ar487rkB59ya8Nedkcop0TE2CpXVE6OdmmPCHZvl/pOcaO9naDTgdSIRiVOZ5TdSYqc5UL3X6ygSZyI5crYBqHXO1TvnhoGHgbvGv8A595xzrj/8cBtQEsE84qG6tj7y00bxdzdAfoyuN4OzHZsloycIutDGuSIilyO7/CYABg8/53ESiTeRLM6KgYZxjxvD197K7wNPjnucZmY7zGybmb0rEgEleuraenlbdnvoQSyPnAHklzO7L3TGpo5xEpHLlldGtz+H3LZXtd+ZTEokizO7wLUL/ttpZh8EqoB/GHd5vnOuCng/8M9mVnqB++4NF3A72trapiKzREhdWy9VGWOdmjFenOUtJ7m/hSz61BQgIpfPjI6CjawP7tNniUxKJIuzRmDeuMclQNO5LzKzm4HPAnc654bGrjvnmsL/rAeeB9aee69z7gHnXJVzriovL29q08uU6RkcoaV7iOX+k+BPid1OzTHh4vHqrNNqChCRK5JZdiMF1snB/a97HUXiSCSLs+3AUjNbZGYpwN3Am7ouzWwt8E1ChVnruOuzzSw1/P0c4FpAO/nFqfq20GauJaMnIDeGOzXHhDs2N2S2UNemjWjlfJfqRA+/5n3hbvQDZvZgtDNKbMhdqXVnMnkR+1vSOTdqZvcBTwF+4DvOuQNm9nlgh3PucULTmDOAH5oZwIlwZ2Y58E0zCxIqIL/knFNxFqfGRp+ye+tgwQaP00xAuGNzRXITXznVi3OO8L+fIuM70W8hNEOw3cweH/8ZZWZLgc8A1zrnOsws35u04jXLWUx7Uj454XVn+tpRKKsAACAASURBVCyRiYjoEIZz7gngiXOufW7c9ze/xX0vA5WRzCbRU9fWS5ZviOSeBsj7kNdxLi3csTl/uIH+4QDNXYMUZad7nUpix9lOdAAzG+tEH/8L5EeA+51zHQDjZwZkmjGjI38ja04+T2N7H/NyZ3idSOKATgiQiKtrHXemZl6Zt2EmKr+cOf3hMza17kzebCKd6MuAZWb2m3DH+daopZOYk152A7nWw6G9r3kdReKEijOJuLq2Xq7KDA8cxPIeZ+PlLSdlQB2bckET6URPApYCW4B7gG+bWfZ5b6SO82mhcNUtAAzUaN2ZTIyKM4mo0UCQY2f6qEhqCnVqzl7kdaSJCXdsrko7paYAOddEOtEbgceccyPOuaNADaFi7U3UcT49+GbPpzWpiJy2V72OInFCxZlEVEPHACMBx/zACZizLPY7NceEOzavmdmmaU051yU70YGfADfA2Y7zZUB9VFNKTGnP20jl6D5au3TqiFyaijOJqLEpwZz+uvhZbwZnOzZXJjepOJM3cc6NAmOd6AeBR8Y60c1s7Bzgp4AzZlYNPAf8uXPujDeJJRZkLN3MLOvn4F6NnsmlxckwhsSrurZeMhgktfck5MXJejM427G5aLCRlu4hugdHyEpL9jqVxIgJdKI74JPhLxGK1twEL0JvzfPwthu8jiMxTiNnElG1rb1clRle6Jwf48c2nSu/nLyB0ExUvdadicgVSMpZQJu/gKyW7V5HkTig4kwiqq6tl40zxs7UjKORM4C8MtIGW9WxKSJT4nRuFeXD++jsG7r0i2VaU3EmEeOco66tj8qU5nCn5kKvI01OuJgs82vdmYhcudTS65hj3VTv2+l1FIlxKs4kYs70DdM1MMKiYJx1ao4JT8NePbNVxZmIXLHiNaFDcboOPe9tEIl5Ks4kYsamAucMHju7b1hcCXdsrko9Ra2mNUXkCqXmL6Xdl0NGszo25eJUnEnE1IY7NdP6TsZfMwCc7dgspYHjZ/oZCQS9TiQi8cyMltnrKBvcS//QiNdpJIapOJOIqWvtY2Vyc+hBPI6cAeSXUzh0jNGg40S7No8UkSvjX3QdhdZOdfU+r6NIDFNxJhFT19bL1VnhMzXjrVNzTF4Z6erYFJEpUrw6tO7s9AGdsylvTcWZRExdWy+rUk+BPxVy4uRMzXOFi8oldlJnbIrIFcssWUmXZZF28hWvo0gMU3EmETEwHOBk5wClriHUqenzex3p8oTXylVlqClARKaAGU1Za1ncv4fhUa1jlQtTcSYRUX+6F+egYPAo5MfplCac7dhck9ai7TQSjJmVmNmfmdljZrbdzF40s6+b2R1mps9GiRi34BrmWys1Rw55HUVilD6AJCLq2vqYQT/pA83x2ak5JtyxuczXSF1bL6EjEyXemdl3ge8Aw8DfA/cA/wv4FbAVeMnMNnuXUBLZ3FWhdWet+571OInEqkntCmpmmcCgcy4QoTySIOpaeynzNYYe5Fd4G+ZK5Zczt/1X9AyO0tY7RP7MNK8TyZX7inNu/wWu7wf+28xSgPlRziTTxOzFa+klk6SGl4H7vI4jMeiiI2dm5jOz95vZz82sFTgENJvZATP7BzNbGp2YEm/q2nrZNCPcqRnP05oAeWVkDrWFOzbVFJAIxgozM8s/9zkzK3PODTvnaqOfTKYFn5+GmauY17ObYFCj8XK+S01rPgeUAp8BCp1z85xz+cDbgG3Al8zsgxHOKHGotrWXNamnIDkjtG4rno3r2KzVurNE82sze9/YAzP7FPBjD/PINDFScjWLOUn9saNeR5EYdKlpzZudc+dtY+ycawceBR41s+SIJJO4FQg6jp7uY0nOidDms744X9oYXjO3MrlJe50lni3AA2b2XqAAOAhs8DSRTAv5K2+Cg//Eyb3PsGTxYq/jSIy56N+aY4WZmd187nNm9qHxr7kQM9tqZjVmVmtmn77A8580s2oz22tmz5jZgvHvb2ZHwl8fmswfSrzV1DnA0GiQwqFj8T+lCWc7NtdnqGMz0TjnmoFfAFcDC4HvO+f0f7JEXEHZBgZIhWMvex1FYtBEhzQ+Z2b/amaZZlZgZj8F3nmxG8zMD9wP3AZUAPeY2bkrw3cBVc65VcCPgC+H780B/hrYSOi32L82s9kT/UOJt2rbeplNN+lDpxOjOAt3bJb5TlKvjWgTipk9TehzZiVwO/BVM/tHb1PJdGBJKRzPWElR1051gct5JlqcXQ/UAbuBl4AHnXPvucQ9G4Ba51y9c24YeBi4a/wLnHPPOefGDizcBpSEv3878LRzrt051wE8Tai9XeJAXWsvy+xk6EEiFGcA+eWUjJ7gZOcA/cOjXqeRqXO/c+73nHOd4SaBa4Aur0PJ9DBQtInS4Amampu8jiIxZqLF2WxCv13WAUPAAjOzS9xTDDSMe9wYvvZWfh948jLvlRhS19bLmrSxA88TpDjLK2PGcOiMTY2exb+xzy/n3E/GX3fOjTrnvjD+NSKRMrt8Cz5zHN/1jNdRJMZMtDjbBjzpnNsKXAUUAb+5xD0X+mC74NhtuOOzCviHydxrZvea2Q4z29HW1naJOBItda19rEtrhtRZkFXkdZyp8aYzNrUkKQE8Z2YfN7M3tRKbWYqZ3Whm/w5oratE1PzKtzFEMoGjL3kdRWLMRDehvdk5dwLAOTcAfGICu2c3AvPGPS4Bzhu7DTcbfBa43jk3NO7eLefc+/y59zrnHgAeAKiqqtKkfYyoa+tlWWpjaEozUQYfwh2by3wn1bGZGLYC/xN4yMwWAZ1AGuAHfgl81Tm328N8Mg34UtI5llpOXvtOr6NIjLnUJrQLAcYKs/Gccy9aSMm5z4VtB5aa2aLwbtt3A4+f8/5rgW8CdzrnWsc99RRwq5nNDjcC3Bq+JjGuo2+YM31DzB0+Ft/HNp1rrGMz/RR1mtaMe865Qefc151z1wILgJuAdc65Bc65j6gwk2jpKdzI0kAdZ86c9jqKxJBLTWv+g5k9ama/Z2YrzCzfzOaHh/2/QGhq84KLipxzo4TOpXiK0N5BjzjnDpjZ583szrH3B2YAPzSz3Wb2ePjeduALhAq87cDnw9ckxtWf7iWPTtJGu+L/2Kbxwh2bFUlNmtZMAGb27nEPZzjnmp1znZ4Fkmkra/kW/OY4+rrWnckbLjqt6Zx7b3j7iw8QmgIoBAYIFVtPAF90zg1e5P4nwq8bf+1z474/b/+0cc99h9DBxBJHalt7WXb2TM0EaQYYk7eceaefof50H4Ggw+9LkCnb6emvgP8Of/8MsM7DLDKNLVyzhZFf+Bmq/TXc8jtex5EYccmGAOdcNfC3wE8JFWVHCY1m/ehihZlMT3VtfVT4w9toJEqn5pj85WSNtJE22kNjR/+lXy+xzN7ie5GoSkmfwdGUZeSe2e51FIkhE+3W/HdC05f/Anwt/P33IxVK4ldday/r05shYw7MyPM6ztRSx2YiSTeztWa2Hkgzs3Xjv7wOJ9NLZ/4GSkeO0NujLfYkZKLdmmXOudXjHj9nZnsiEUjiW21bL8t8JxNvShMgrwyApb6T1LX2cWMC9TtMQ83AVwiNmp0Czj0V4MaoJ5JpK2PZZpJP/jsHdz3Hqs3v8jqOxICJjpztMrNNYw/MbCOX3udMppmB4QAN7b2UjBxLzOIsewEkZ7AqRU0BCeAvgA84525wzt1AaHagF9gPXOr0E5EptWjtTQSc0Xf4Ba+jSIyYaHG2EXjZzI6Z2THgFeB6M9tnZnsjlk7iSl1bLyW0kRLoh4KVXseZeuGOzZXJzSrO4t83CJ12QnjPxr8jVKB1Ed47USRaMrNmU5+8hFmtr3kdRWLERKc1da6lXNKR1h7KLbwlXiIWZwB5y1l4+hlqtRFtvPOP257nd4AHnHOPAo+amfY4k6g7nVvF+lM/ZGiwj9S0TK/jiMcmNHLmnDt+sa9Ih5T4cLillxX+EzjzJea0JkD+cmaNtBHo76S9b9jrNHL5/GY29svpTcCz456b6C+tIlMmpXQzKTbK0d2a2pSJT2uKXNKRll7Wp57EckohJcPrOJGhjs1E8RDwgpk9Rmjvxl8DmNkSQlObIlG1aN1NBJ3Rfeh5r6NIDFBxJlPmSGsPZRyHwgSd0oRzOjZVnMUr59wXgU8B3wOuc86Nnc3rAz7uVS6ZvnLmFFDvX8iMU696HUVigIbvZUoMDAdobz/NnNRmKFjhdZzIyV6AS86gPNiokbM455zbdoFrh73IIgLQMns96848TmBkCH9yqtdxxEMaOZMpUdfWyzIaQg8KKr0NE0k+H5ZfzpqUk2oKEJEplbT4OtIZ5sQ+7VQ13ak4kylxpLWHcl+4UzORpzUBCitZGjzKkZYer5OISAKZt+YmANqrn/M4iXhNxZlMicMtvaz0ncClzYKsYq/jRFZhJZnBHlxnA71Do16nEZEEUVQ8n3qbR3rTK15HEY+pOJMpcaSlh9UpDVhBJViCnyNdGDrJrMJ3nMMaPRORKdQ0ax0L+vfhAiNeRxEPqTiTKVHX0sXi4InEn9IEKKjAYVTYcQ6fUnEmIlPHLbiWTAY5VaPTAqYzFWdyxQaGA9B5jFQ3mLgnA4yXkglzlrIq6Tg1GjkTkSlUtDq07qx13zMeJxEvqTiTK1bX1styxo5tSuBtNMaxwkpW+k9oWnOaMrOtZlZjZrVm9umLvO49ZubMrCqa+SR+LVpYynHmktygdWfTmYozuWKhTs3jiX1s07kKKykIttLc3OR1EokyM/MD9wO3ARXAPWZWcYHXzQQ+AWhXUZkwn884PmMt83t3QzDgdRzxiIozuWKHW3pZ4TsBuUshOd3rONFRuAqAgoFaTvcOeRxGomwDUOucq3fODQMPA3dd4HVfAL4MDEYznMS/wPxrmEE/7Ud3eR1FPKLiTK7YkZYeVvuPYXNXex0legpDG+1WmDo2p6FiGNtxGYDG8LWzzGwtMM8597NoBpPEkF95IwDNe7TubLpScSZX7PSpBua4diha43WU6JmRTyCzgArfMXVsTj8X2ivGnX3SzAd8ldDZnRd/I7N7zWyHme1oa2ubwogSz5YtK6fR5eE7rpMCpisVZ3JFeodGye6qDj2YTiNngK9oNZX+E9S06BinaaYRmDfucQkwfvHhTGAl8LyZHQM2AY9fqCnAOfeAc67KOVeVl5cXwcgST5L9Puoz11DUvQuCQa/jiAciWpxdqqPJzDab2etmNmpm7znnuYCZ7Q5/PR7JnHL5ak71UGlHQw/C67CmCyuspJRG6ptPex1Foms7sNTMFplZCnA3cPYzyjnX5Zyb45xb6JxbCGwD7nTO7fAmrsSjweKrmeW66W3c53UU8UDEirMJdjSdAD4MPHiBtxhwzq0Jf90ZqZxyZQ6d6qbSd5SR7FJIy/I6TnQVrsJPENd6COfcpV8vCcE5NwrcBzwFHAQecc4dMLPPm5k+q2RK5Ky8BYDmXb/wOIl4IZIjZ5fsaHLOHXPO7QU0bhunDjX3UOk7RlLJWq+jRF+4KWDxaC1NXWrIm06cc08455Y550qdc18MX/ucc+68UX7n3BaNmslkrShfwTFXiB190eso4oFIFmeX7Gi6hLTwQtltZvauqY0mU6Wp6QRz7Qw2nZoBxuQsZjQli1VWr6YAEZlS6Sl+DqWvpahrJwRGvY4jURbJ4uyiHU0TMN85VwW8H/hnMys97weo08lTzjmSW8LrIaZZMwAAZri5a1nlq9cxTiIy5QaKryXDDTDUoIHX6SaSxdmlOpouyjnXFP5nPfA8cN68mTqdvHWyc4DS0drQg+lYnAHJ89az3NdAXZOaAkRkas1ecTMArbt/6XESibZIFmcX7Wi6GDObbWap4e/nANcC1RFLKpflUHMPK31HGZy5ENJmeR3HG8XrSCLAyMk9XicRkQSzZnkp1cEF2NEXvI4iURax4mwiHU1mdpWZNQLvBb5pZgfCt5cDO8xsD/Ac8CXnnIqzGDPWqemfjs0AY4pCf/bZXQcYHlVfi4hMneyMFA6mrSW/aw+MDHgdR6IoKZJv7px7AnjinGufG/f9dkLTnefe9zJQGclscuVOnGykxE7DdC7OsooZTJ3Dyv46jrT2sKJomo4gikhE9JVcS0r9TwgcfxX/ki1ex5Eo0QkBctmsKXwo7zRdbwaAGYG5a1hl9VQ3dXudRkQSTG75Fkacn/b9Wnc2nag4k8syOBKgsOcADoOidV7H8VT6gqsotSZqG5u9jiIiCWbdsnnscaVQr3Vn04mKM7ksR1p6WWNH6M1aMv1OBjiHr2Q9PnMMn3jd6ygikmDmzkpnf8pqcrurYbDL6zgSJSrO5LIcbOpija8OV3zeWc7TT3jkcEb7Ph3jJCJTbnDe2/ARJHD0Ja+jSJSoOJPL0nz0ALOtlxmlm7yO4r3MXHrTiykL1NLYoY4qEZlaxSs3M+BSaN/3tNdRJEpUnMllsZOhHat9867yOElsGClcw2qro7pZTQEiMrU2LStie7AM/7HnvY4iUaLiTCYtEHTkdu5jyJcBecu9jhMTZizexDxfG8eO1XsdRUQSTN7MVA5mbiCn/yh0Nlz6Bol7Ks5k0o6e7qWSw3TNXgk+v9dxYkLywqsBCJx41eMkIpKIRhffCMDIYU1tTgcqzmTSqk+0Um4n8M/XlOZZc1cxYslkn97ldRIRSUBlK6o46XLp3v+U11EkClScyaR11L5GsgXIXnqN11FiR1Iqp7NWUDZSTVf/iNdpRCTBbCzN5aXgKmac/DUE9BmT6FScyaT5mkL7efnVDPAmo0UbWGlHqW5s9TqKiCSYmWnJHJt9NamBPmjc4XUciTAVZzIpzjnmdu+mPWUuzCzwOk5MyS67jlQbpeXgNq+jiEgCyii7iVHnY6hGRzklOhVnMikNZ/pZ4w7RladRs3PNXBKa5nUNagoQkalXtXwRr7ulDB1UcZboVJzJpByt2c0c6yZ50bVeR4k9M/JoTS4mt2O310lEJAGtW5DNy6wmq2M/9LZ5HUciSMWZTMpA7a8ByK/c4m2QGNWRu5aK0YO09w55HUVEEkxqkp/2uZtDD+qf8zaMRJSKM5mUGS3b6bBsUvLLvI4Sk5IWbGKOdXPk0B6vo4hIApq7fBNn3EwGDmpLjUSm4kwmLBh0LOrfQ2PWGjDzOk5MKqy8AYDemhc8TiIiiWhzWT4vBldhdc9CMOh1HIkQFWcyYSeOHaaYNkaLN3odJWZlFq+gw2aR0aSOTRGZehVzs9iZchVpw+1wcqfXcSRCVJzJhLXuC61xyKnY4m2QWGbGsRnrWNy3C5zzOo2IJBgzw5bewig+god+7nUciRAVZzJxDa/Q69IpWb7B6yQxbaD4ago4Q9uJQ15HEZEEtKF8Ma8FljN0QMVZolJxJhNW0LGL2rQV+JOSvI4S07LKQwcUt+79lcdJRCQRvW3pHJ5x60nvPAzt9V7HkQhQcSYTMtjRxILAcToKNnkdJeYtKV9Lq8vGjr/kdRQRSUDZGSk05W8JPaj5hadZJDIiWpyZ2VYzqzGzWjP79AWe32xmr5vZqJm955znPmRmR8JfH4pkTrm05l2htu3UZTd6nCT2paUkcTB1FYXt27XuTEQiYnnFamqCJYxUa2ozEUWsODMzP3A/cBtQAdxjZhXnvOwE8GHgwXPuzQH+GtgIbAD+2sxmRyqrXNrIkWfpcDNYUnm111HiQnfBRnKCZxhtq/U6iogkoC1lefwquA5/4ysw0OF1HJlikRw52wDUOufqnXPDwMPAXeNf4Jw75pzbC5y7Wcvbgaedc+3OuQ7gaWBrBLPKxTjHnLZt7PJXkj8rw+s0cSFj2RYAWvY+7W0QEUlIlcWzeC1lEz4XgCNa35poIlmcFQMN4x43hq9F+l6ZamfqyBltpTlX680mqmzFWppdDiNHdMSKiEw9n8+YvXQTZ5iFq3nC6zgyxSJZnF1oC/mJLsCZ0L1mdq+Z7TCzHW1tOgQ2UnoOhn4r85de73GS+FE8O4Pt/rXkt70MgVGv44hIAtqyvJCnRtcRrHkKRga8jiNTKJLFWSMwb9zjEqBpKu91zj3gnKtyzlXl5eVddlC5uL6Dv6LRzWFZ+Wqvo8QNM6M1/zoygr3axVtEImJLWR5PuU34R/ug9hmv48gUimRxth1YamaLzCwFuBt4fIL3PgXcamazw40At4avSbQFRpnVso1tbiUri7O9ThNXUstuIuCM3gNqdReRqZedkUJg/nV020yo/onXcWQKRaw4c86NAvcRKqoOAo845w6Y2efN7E4AM7vKzBqB9wLfNLMD4XvbgS8QKvC2A58PX5Noa3yN9EAPDbnXkZKkbfEmY9WSBexySxk9rKYAEYmMG1cU88TIeoKHnoSRQa/jyBSJ6N+2zrknnHPLnHOlzrkvhq99zjn3ePj77c65EudcpnMu1zm3Yty933HOLQl/fTeSOeWtDR98khHnJ3mp9jebrIqiLH7DamZ17Ie+017HEZEEdEtFAU8EN+Ib6YW6Z72OI1NEQyFyUSMHf8H2YBmrl873OkrcSfb7OJV3HYaDOnVtisjUm5eTwZm8TfRoajOhqDiTt9bZQGbXYZ5za1k7X3sAX46cpRtodzMZOfxLr6OISIK6cUUxT46uJ3joCRgd8jqOTAEVZ/LWjoR6MBrnvI0ZqTrs/HJsKs3jheAq3JGnIRjwOo6IJKBbKgr4eWAjvuEeqNWGtIlAxZm8pWDNU5xw+cxdvMrrKHGrakEOz7oqUoY6oOFVr+PIFJnAucGfNLNqM9trZs+Y2QIvcsr0UFk8i9rM9XT7smHvD7yOI1NAxZlc2HAf7uiLPBNYy4bFuV6niVvpKX46izYzTDIc/JnXcWQKTPDc4F1AlXNuFfAj4MvRTSnTiZlx44pifjK6CVfzpM7aTAAqzuTCan+FPzDIr4JVXF2q4uxKrF0yj5cCKwke/Bm4iR6SITFsIucGP+ec6w8/3EZoI22RiLlj1VweGbkOCwzDATUGxDsVZ3Jh1Y/TZVn0F21iVnqy12ni2qbSXJ4KVuHrOg4t+72OI1dusmf//j7wZEQTybR31cIcWjOX05Q8X1ObCUDFmZxvZBB3+El+Mbqea5bme50m7q2bP5sXbT0Og0M/9zqOXLkJnxtsZh8EqoB/eIvndT6wTAm/z7h9VREPDV4DJ16B9qNeR5IroOJMzlf/HDbcx88DG7i2dI7XaeJeWrKfBfMXciCpXOvOEsOEzv41s5uBzwJ3OucuuL+BzgeWqXTHqrk8OnJN6MHeR7wNI1dExZmcr/oxBvwzed1XyboF2t9sKlxTOodHB9dDyz5oO+x1HLkylzw32MzWAt8kVJi1epBRpqH182cTzCrhUNoa2PMgBINeR5LLpOJM3mx0GGqe4CXfVaxZmE9ast/rRAnh+mV5/Gx0Ew4f7P+R13HkCkzk3GBC05gzgB+a2W4ze/wt3k5kyvh8xu2Vc/lW73XQcQyOvuB1JLlMKs7kzWqfhsEuHuxbz7VLNKU5VSqLZxHMLOBwxhrY90N1bca5CZwbfLNzrsA5tyb8defF31Fkatyxai4/G61iKDkbdupY6nil4kzebM9DDKbk8GJwFZuXqTibKj6fsXlZHg8NbIT2emh63etIIpKA1s3PpjA3m1+l3BhqQOrVrHo8UnEmb+hvh8NP8Zv0G8jLyqRibpbXiRLKlrI8/ntgHUFfCuzT1KaITD0z47fXlfCV9msgOAq7/tPrSHIZVJzJGw78GALDfKPzKm5YnofZhXYMkMv1tqV59FgmddnXwP5HITDqdSQRSUC/tbaYeldE46z1sPN7agyIQyrO5A17f0DfrKVsH5rHjcsLvE6TcHIyU1hdks0PR6+D3hY48kuvI4lIApqXk8HVi3P5t8EboPN4aC2xxBUVZxJyuhYaXmXbjFtISfJz7RId2RQJW8ry+G7bMoKZ+fD6v3sdR0QS1G+vL+E/ulYxnDEXXvl/XseRSVJxJiE7vgO+JL7esYFNi3PJSEnyOlFCurWikBGXxMHCO0MjZ10nvY4kIgnotpWFpKSk8qusd8HRF6F5r9eRZBJUnAmMDMDu/6Jn0W3sbE/h5nId2RQp5XNnsiA3g+8MbAYXhN3/5XUkEUlAmalJ3LZyLl9o3oBLzoRtX/c6kkyCijOB/f8Ng508lX4HZrB1RaHXiRKWmbF1RSGPHUtmZMH18Pp/QDDgdSwRSUAf2DSf5qFUaoruCnWIdzd7HUkmSMWZwPZvw5wyvnWiiKsW5JCfleZ1ooS2dWUho0HHzrx3QdcJqHnS60gikoDWzstmRVEWX2q/AecCsO1+ryPJBKk4m+5O7oSm12lb/gFqWnu5vVKjZpG2uiSbubPS+O6ZFZA9X4t1RSQizIzf3bSA59syaV/0Ttj+b9Db5nUsmYCIFmdmttXMasys1sw+fYHnU83sB+HnXzWzheHrC81sIHwm3W4z+0Ykc05rv/m/kDqLRwObAdi6cq7HgRKfz2e8fUUhzx9pZ2j9H8KJV6Bxp9exRCQB3bmmiJlpSfxr8N2h9cWvfM3rSP9/e3ceHlV973H8/Z2ZzIRkskLClhBCwo4gBhBEC+KG4lKu4r7UDbXY1laftuqtz9XWW+/V2tLeutelVsENr2jrRRGrVEV2RCBAwpawhBCWbMwkM/O7f5xBQiAhLJMzM/m+nmeemTnnDPlk4Tvf+Z1zfke1QcSaMxFxAn8GLgQGAdeIyKBmm90K7DHGFAK/B/6rybrSJteluzNSOTu0qlJYPRsz8lb+d00NRXkZdEvTXZrtYdLQ7vgDIeZ4zgNPqu5uUEpFRJLbxZSiXF5Z78Y34Puw8AWoq7I7ljqKSI6cjQJKjDEbjDENwEzgsmbbXAYcmOzpbeAc0Wnp28+XfwSnm+K86yjeUcP3h/e0O1GHMSIvg9zMTry1ci8U3QSr/hf2bLI7llIqDt0wJo9AyPCa5yporLdqv4pqkWzOegJlTZ6Xh5cdcRtjTADYBxyYWaaKmAAAGB9JREFU/TRfRJaJyGcictaRvoCITBWRxSKyuLJS96Mfk5oKWD4DTr2WN4v9uJ0OLhmquzTbi4gweXgO/yrZxc7Bt4HDBZ8/bncspVQcyu+SzMTB3Zi+wkHjoMvh62d1jsUoF8nm7EgjYKaN22wHehljhgM/A14XkcOuwm2Mec4YM8IYMyIrK+uEA3co838HoQANp/+I95Zv49xB2aQnue1O1aH82/CeGAOzSoIw4harWa4qtTuWUioO3TmugGpfgLfTbgYThHm/tjuSakUkm7NyILfJ8xxgW0vbiIgLSAN2G2P8xpgqAGPMEqAU6BfBrB3Lnk3WFQFOu8E6i6eugctPy7E7VYfTu0syRXkZzFpajjnzHnC64fMn7I6llIpDw3LTGd0nk+lL/ARH3QErZsC25XbHUi2IZHO2COgrIvki4gauBmY322Y2cFP48RXAPGOMEZGs8AkFiEgfoC+wIYJZO5Z/PgYOJ4z7BW8uLqeL1833+unIox2uKMphXUUtS6rcMPJW+GYmVK61O5ZSKg7dOa6AHdU+ZqdcA50y4aN/B9N8h5aKBhFrzsLHkN0NzAHWAG8aY1aJyCMicml4s78AnUWkBGv35YHpNr4HfCMiK7BOFLjTGLM7Ulk7lIrVsGImjLqdskA684oruGpkLglOnfLODpeFT3N/dcFmOPOn4PbCnAftjqWUikPj+mUxpGcqv5tfQWDc/bBpPnz7jt2x1BFE9B3ZGPMPY0w/Y0yBMebR8LKHjDGzw499xpgpxphCY8woY8yG8PJ3jDGDjTHDjDGnGWPej2TODsMY+PDnkJgGZ/6M177eAsB1p+fZHKzjSnK7uKIoh3+s3E5lKAXG/QJKPoZ1H9kdTSkVZ0SEe8/vT/me/cw050KP0+D/fgn1OvYRbXS4pCP59h3rk9I5D+FLSOONRVs4f1A3eqR3sjtZh3b96Dwag4Y3Fm2BUVOhcyHMeQACDXZHU0rFmfH9shiRl8GfPt2A/6I/WI3Zxw/ZHUs1o81ZR+GrtnaXdT8Vin7A7BXb2FPfyE1n9LY7WYdXkOXlzMIuvLpgM36ccMFvoWo9fDnd7mhKqTgjItx3QX8qqv28XOqFMdNg2auw4TO7o6kmtDnrKD55GGorYNKTBHHwzGelDOyeyug+mXYnU8Ad4/pQUe3n3aVbod/5MHgyfPbfsLPY7mhKqTgzuk9nxvfP4k/zStg54qfWaP27d+ruzSiizVlHUDIXFr1gfULKKeLDb7ezobKOH00oRC/IEB3OLOzC0Jw0nv6slEAwBBc+bp0c8N40CAXtjqeUijO/ungQ/kCQxz8pg8tfgLpKeP/HevZmlNDmLN7t3wPv3Q1ZA2DCrwiFDP8zr4TCbC8TB3ezO50KExF+OL6QzVX1/H3ldvBmwUWPw9bFMP9Ju+MppeJMQZaXW8bm89aScpYH8+GcX8Ga92HJy3ZHU2hzFt9CIasxq6uEyc9CQiIfrd5B8Y4app1dgMOho2bR5PxBXemb7WX63PU0BkMw5HI45Ur453/Cxvl2x1NKxZm7JxSSleLhwXdX0nj6NCiYYJ3RX7bQ7mgdnjZn8eyL30PxB3D+b6DHqTQEQjz2YTGF2V4uGdrD7nSqGYdD+PnEAWzYVcfMRWUgAhf/HjIL4J1boXan3RGVUnEkJTGBX182mFXbqnnms41w+V8gtSfMvE6vvWkzbc7iVclc+OTXcMoUOP1OAP62YDObqup58KKBuHTS2ah07sBsRuVnMn3uOmr9AfB44cpXrLNtZ14LjfvtjqiUiiMTh3Tn4qHd+eO89RRXu+CaGVadmXmNVXeULfQdOh5tWwZv3gRdh8Al00GEvfUN/HHees7q24Xx/fVSTdFKRHjgooHsqm3gT/PWWwu7DobLn4fyxTBrqrW7WimlTpKHLx1MamIC98xcji+jH1zxIuz4FmZcox8IbaLNWbypKoW/XWFdN+26t8CdDMAjH6ym1hfgwUkD9QzNKHdqbjpXjsjhhfkbWbVtn7Vw4CXW7uk1s61jQvSMKqXUSdLZ6+HxKUMp3lHDw++vsqbzmfwsbP4C3vqBTohtA23O4smuEnjlEjAhuGEWpHYH4NO1O5m1dCt3jS9gQLdUm0OqtnjgooFkJLm5f9ZKa2oNsKZCOeNHsOh565Ir2qAppU6SCQO6ctf4AmYsLGPW0nIYOgUmPQHr/s86pKKh3u6IHYo2Z/GiYjW8dCEE/HDTbOjSF4C99Q08OGslfbO93D2h0OaQqq3Sk9w8fOlgvinfx1P/LLUWisB5v4bR0+DrZ+CDn0IwYG9QpVTcuPe8fozKz+SXs1ayZPNuGHmbdWhM6Sfw6vetqZlUu9DmLB6UzIUXJ4I44OZ/QLdTAAiFDPe+uYLKWj9PTBmGx+W0Oag6Fhed0o3Jw3vyh7nr+Kq0ylooAhc8CmPvgSUvWQft+mvtDaqUigsup4Nnri+iR1oit72ymA2VtVD0A5jysnUs8wvnQuVau2N2CNqcxTJj4Kun4LUpkJ4Lt30MWf2/W/3M56V8UryTf580iGG56TYGVcdDRPjN94fQu0syP565jIpq34EVcN7DMOnJg435rhJ7wyql4kJmspuXbx6FiHDjiwsp31MPgy6DG98D3z54fgKsnm13zLinzVmsqq20zqSZcz/0vwhumQPpvb5b/cE323h8zlouHtqdG8fk2RhUnYhkj4unrjuNen+AH7y0iBpf48GVI2+Fa9+C6nJ4bhyseMO+oEqpuNG7SzIv3zyS6v2NXPXsArZU1UPeGTD1M+jSD968wbq0nE61ETHanMUaY+Dbd+DpMVA6DyY+Ble+as2HFfZFyS5+9sYKRuZl8sSUYXp2Zowb0C2Vp64vYn1FDXf9bSm+xibX2ux7Ltz5hbUr+92pMONa2FduX1ilVFwYmpPO67ePptYf4Mpnv7LOHE/raQ0EnHUvLH8dnj4D1s2xO2pc0uYsluxcA3+9FN6+BVJ7wNRPYfRd4Dj4a5xXXMEtLy8iv0syz984gsQEPc4sHozrl8V/XT6UL0p3cfNLi6jzNzkRIK0n3PQBnPuw1bD/+XT4YrrOT6SUOiFDeqYxc+poRGDKM18xZ9UOcLnhnIfglo/AlQivX2lN31S5zu64cUWbs1hQuRbevhWeGgPbv4FJv4PbP7UmJ23ircVlTP3rEvp1TeH1208nLSnBpsAqEi4vyuHJK4excNNurn1+ATv2+Q6udLrgzHvgh19BrzHw8UPwx9Ng8UvWGbxKKXUcBnZP5b1pY+nbNYU7Xl3CI++vtkbvc0fCXV/C+Y9C2dfw1Onwzu16wsBJIiZO5koaMWKEWbx4sd0xTp5QCDZ8CotfhOK/Q0ISjLoNzvgJJHc+ZFNfY5BHPljN619vYWxhZ565voiURG3M4tXHqyv4ycxlJLld/Oma4Ywp6Hz4Rhs/ty7fVb4QvF1hxK0w4hbwxtfVIURkiTFmhN05Toa4q2Eqrvgagzz2YTEvf7mJ/l1TeHTyEEb0zrRW1lbCl9Nh0YvQWA/9L7TqTcEEcOjem5a0Vr+0OYs2O4utWeCXvwZ7NkFSZ+tU5tHTDmvKABZsqOKBd1eyobKOO8cVcN/5/fS6mR3A+ooa7nh1CRt21XHjmDx+PnEAXo/r0I2MsRr8BU/D+o/AkQCF51qTS/a7ENxJ9oQ/ibQ5U6p9fVq8kwfeXcn2fT4mD+/JfRf0p2d6J2tlXRV8/TQseRnqKiEtF4ZdA4MutS4nqMc/H0Kbs2jWUG8NCW/83Boh27UWEMgbCyNuti7b4/Ic9rKSnTVM/6SE91dso1dmEo9OHsJZfeNrVES1rr4hwBNz1vHSlxvp4vVw99mFXD0q98jz2e1aD0tfgZVvQ812ayQ2/3tWs9b3PMjo3e75TwZtzpRqf/UNAf78aQnPf76RkDFMHt6TO8b1oTA7xdog0ABr/2E1aRs/s65ak5EPAyZBn/HWoRdNTmLrqLQ5ixbGwJ6NsH2FdStbZO12CjaAw2X9wQ66zGrIUrod9vJgyDB/fSUzFm7ho9UVdEpwcsvYfKadXUgntw4dd1TLtuzhtx8Ws3DjbrqlJnL1qFyuHtmLbmmJh28cCsKmf1mjs+s/hr2breVpuZAz8uAte2BMFE9tzpSyz7a9+3nu8w3MWLgFfyBEUV4GU4pyOH9wNzKT3dZGtZWw9u/W3Gib5h98v+tZZNWa7qdCj1Mhs+CQk9s6AtuaMxGZCEwHnMALxpjHmq33AH8FioAq4CpjzKbwuvuBW4Eg8GNjTKvn60ZNYQuFoL7KmnuqqhR2b4TdG2B3qbXL0h++kLUjAboNgd5nQf446DX6iG+G1b5GFm/azdw1O/lkTQUV1X4yk91cNTKX287Mp7P38FE11fEYY5i/fhcv/Gsjn6+rxCEwIi+TcwdlM65fNn2zvTgc0vxF1t9oyVwoW2B9WKhuMg1HWi9rUuPsAZDZx3qenms1clGyS9Su5uxEaltLoqaGKXWMdtX6mbW0nDcWlVFaWYcInNYrg/H9sijqncGwnHSSPa5D9xRtmm+d4BYMn7DkTrEuO9i5MHwrsOpOag9IzorLY9dsac5ExAmsA84DyoFFwDXGmNVNtvkhMNQYc6eIXA1MNsZcJSKDgBnAKKAHMBfoZ4wJNv86B5z0whYKWlMRBHzWrMjNb/5q676+CmoqrF1FtRXWLdTseocpPaw/sqx+1qeE7sOskYkmuyv3NwTZsrueTVV1bK6qY11FLcvL9lJaWYsxkOx2clbfLC4e1p3zBnXVSzGpFm2uquOdJeV8tLqC4h01AKQkujg1N52B3VMpyEqmT5aX3Iwkunjdhx6jWL0Nti6FyjXWh4nKtbBr3cECekBSZ/B2s46DTOoCyV3C952hUyZ4UsDtte49XqvwerxH3EV/Iuxozk6ktrX272pzpmKdMYaVW/fxyZqdzCveycqt1mCEQ6BvdgqFXb0UZHkpyEomJ6MT2UlOsv2b8Oz8BnZ8Yx1+UVUK+8qAJr2JOK29SSndIbW7VX86ZRx+S0yzDtlwJx+8j+Kmzq7mbAzwH8aYC8LP7wcwxvy2yTZzwtt8JSIuYAeQBfyy6bZNt2vp6x1LYdvx1s9IqFyDI+jDEfThDPrDj/04Dzw3jUf9d0I4aExIpT4xi/2eLPa7u1j3ns7UJXalypNLpas7tSEPvsYgvkAQX2MIX2OQWn+A3XUNVNU2sKe+gfqGQ/vOzsluhuakcWpuBqflpTMqP1MbMnXMynbX8/XG3Szdsoelm/ewobKOhmDou/UikJnkJivFQ3pSAl6Pi+TwzetxkZjgxC0hUgNVZDTuINW/nVR/BSm+7XRq2EViwx48Dbvx+PeQEKg5ap6QI4GAM4mQ003I4Sbk9Fg3R/je6cYx/hdkDjirTd+fTc3Zcdc200rB1eZMxZu99Q0sK9vLss17WLl1Hxt21VG2u55Qs/8F6UkJZCS5SUl0kZLoIiMhSG9HBT1CFWQEd5Ee2EVaYyUpjZV4GypJDFTjbtyH0wSO/IWbCDrcBF2dCDqTCDoTCTk9GIeLkCMB40iw6pDDFX6cgBFr3YH1RhwgTowIRpwgDow4MTgOW2fEiTu7L33GXt6mn09r9ct1pIUnSU+grMnzcuD0lrYxxgREZB/QObx8QbPX9mz+BURkKjAVoFevXs1Xt+jb0jIy6ivxGTc+PPjw4sON37jxk4APd3iddas2SVSTRLVJPuS+jkTwCbT4nhQAynAIJCY4rZvLQWKCE2+ii8xkN4VZXjKT3WR63eRkJNG7cxJ5mck6R5k6KXIzk8jNTOKKohzAOm6xfE89Gyrr2Lp3P5U1fnbW+Kms8VG9P8C2vT7qGgLU+QPU+YPsb3o1AhKB/PDtcAkEyKCGdKnFy36SxUcyPryyn2R8JLOfFNlPIg14aMQjjdY9jXhowCP78NBI4469ZA6I+I/mRJxIbdvVdKPjrWFKxYL0JDdn98/m7P7Z3y3zNQbZXFXP9n372VntZ2eNjx3VPvbWN1LrD1DjC7CuJsBSXxp1DV4ag/k0BkM0Bpt/rjEk4SedWtKlljSpI5U6kvCTJH464T/4uMFHEn46iR83ARIIkEADCbI//DiAi+DBdRLEQwA3ARwYHIRwEvru3iktD2otSf4etLE5a00km7MjnTPb/DtqaZu2vBZjzHPAc2B96mxrsPxbX2J/Q5BEAUEQsUYQBMEhB872DS/HugC1o8m2EN6+2fLwy7577nY5SHQ5SXCKXkJJRQWnQ8jrnExe5+Q2bW+MIRgyBEKGxmCIQNDQGApZy4LW8gODQQbrMLYD/1WNaboMDObgY3Po86byM6PjeLZWnEhtO3TBcdYwpWJVYoKT/t1S6N8t5ZheFwpZtacxaGgIhGgIhAgZgwmvA6uufLfMWPXFhJ8fWBdqYfA6BPjCt6ZaHOs2ITBBJBQEjHVvgmR36nRM31dLItmclQO5TZ7nANta2KY8PPSfBuxu42uPW0FW9J+FplQ0EBFcTsHlRC8FdtCJ1Dal1HFwOASPw4nHBXSA8+Aied7qIqCviOSLiBu4GpjdbJvZwE3hx1cA88LHZMwGrhYRj4jkA32BhRHMqpRSbXUitU0ppY4qYiNn4eMs7gbmYJ1u/qIxZpWIPAIsNsbMBv4CvCoiJVifKq8Ov3aViLwJrMY6cGtaa2dqKqVUezmR2qaUUm2hk9AqpWKWTkKrlIpVrdWvjjUdr1JKKaVUlNPmTCmllFIqimhzppRSSikVRbQ5U0oppZSKItqcKaWUUkpFEW3OlFJKKaWiiDZnSimllFJRJG7mORORSmCz3TnCutDsAscxQnO3L8194vKMMVl2hzgZoqiGRdPv91jFanbN3b6iJXeL9StumrNoIiKLY3FiTM3dvjS3ikax/PuN1eyau33FQm7dramUUkopFUW0OVNKKaWUiiLanEXGc3YHOE6au31pbhWNYvn3G6vZNXf7ivrcesyZUkoppVQU0ZEzpZRSSqkoos1ZhInIfSJiRKSL3VnaQkQeF5FiEflGRN4VkXS7M7VGRCaKyFoRKRGRX9qdpy1EJFdEPhWRNSKySkR+YnemYyEiThFZJiIf2J1FRZbWr8jS+tX+YqV+aXMWQSKSC5wHbLE7yzH4GBhijBkKrAPutzlPi0TECfwZuBAYBFwjIoPsTdUmAeBeY8xAYDQwLUZyH/ATYI3dIVRkaf2KLK1ftomJ+qXNWWT9Hvg5EDMH9hljPjLGBMJPFwA5duY5ilFAiTFmgzGmAZgJXGZzpqMyxmw3xiwNP67BKhQ97U3VNiKSA0wCXrA7i4o4rV+RpfWrncVS/dLmLEJE5FJgqzFmhd1ZTsAtwId2h2hFT6CsyfNyYqRIHCAivYHhwNf2JmmzP2C9YYfsDqIiR+tXu9D61f5ipn657A4Qy0RkLtDtCKseBB4Azm/fRG3TWm5jzHvhbR7EGr5+rT2zHSM5wrKY+ZQvIl7gHeAeY0y13XmORkQuBnYaY5aIyHi786gTo/XLdlq/2lGs1S9tzk6AMebcIy0XkVOAfGCFiIA1tL5UREYZY3a0Y8Qjain3ASJyE3AxcI6J7rlWyoHcJs9zgG02ZTkmIpKAVdheM8bMsjtPG40FLhWRi4BEIFVE/maMud7mXOo4aP2yndav9hVT9UvnOWsHIrIJGGGMiYYLrbZKRCYCTwLjjDGVdudpjYi4sA76PQfYCiwCrjXGrLI12FGI9Y73CrDbGHOP3XmOR/iT533GmIvtzqIiS+tXZGj9sk8s1C895kw19z9ACvCxiCwXkWfsDtSS8IG/dwNzsA5KfTPaC1vYWOAGYEL4Z7w8/GlOKXVitH5FntavdqAjZ0oppZRSUURHzpRSSimloog2Z0oppZRSUUSbM6WUUkqpKKLNmVJKKaVUFNHmTCmllFIqimhzppRSSikVRbQ5U0oppZSKItqcqZglIiNF5BsRSRSRZBFZJSJD7M6llFJHo/VLtUYnoVUxTUR+g3WdtE5AuTHmtzZHUkqpNtH6pVqizZmKaSLixromnQ84wxgTtDmSUkq1idYv1RLdraliXSbgxbqeXqLNWZRS6lho/VJHpCNnKqaJyGxgJpAPdDfG3G1zJKWUahOtX6olLrsDKHW8RORGIGCMeV1EnMCXIjLBGDPP7mxKKdUarV+qNTpyppRSSikVRfSYM6WUUkqpKKLNmVJKKaVUFNHmTCmllFIqimhzppRSSikVRbQ5U0oppZSKItqcKaWUUkpFEW3OlFJKKaWiiDZnSimllFJR5P8BIMlRhMLV6gwAAAAASUVORK5CYII=\n",
=======
      "image/png": "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\n",
>>>>>>> upstream/master
      "text/plain": [
       "<Figure size 720x360 with 2 Axes>"
      ]
     },
     "metadata": {
      "needs_background": "light"
     },
     "output_type": "display_data"
    }
   ],
   "source": [
<<<<<<< HEAD
    "# your code goes here:\n",
    "\n",
    "\n",
    "\n",
=======
>>>>>>> upstream/master
    "# You can evaluate what P(X > x) is with the survival function i.e. (1 -  CDF(X))\n",
    "fig = figure(figsize=(10, 5))\n",
    "x = np.arange(-3, 3.01, 0.01)\n",
    "pdf = st.norm.pdf(x)\n",
    "sf = st.norm.sf(x)\n",
    "\n",
    "\n",
    "pdf2 = st.t.pdf(x,8)\n",
    "sf2 = st.t.sf(x,8)\n",
    "\n",
    "ax1 = fig.add_subplot(121)\n",
    "ax2 = fig.add_subplot(122)\n",
    "ax1.plot(x, pdf)\n",
    "ax1.plot(x,pdf2)\n",
    "ax2.plot(x, sf)\n",
    "ax2.plot(x,sf2)\n",
    "\n",
    "ax1.set_xlabel('x')\n",
    "ax1.set_ylabel('p(x)')\n",
    "\n",
    "ax2.set_xlabel('x')\n",
    "ax2.set_ylabel('SF(x)')\n",
    "\n",
    "# DO THIS FOR A T-DISTRIBUTION WITH Nu=8\n",
    "# your code goes here\n",
    "pdf2 = st.t.pdf(x, 8)\n",
    "sf2 = st.t.sf(x, 8)\n",
    "\n",
    "ax1.plot(x, pdf2, color='C1')\n",
    "ax2.plot(x, sf2, color='C1')\n",
    "\n",
    "# If you have just a few samples, you might not be able to tell that your data is t-distributed\n",
    "# rather than normally distributed - the PDFs are pretty similar\n",
    "# but if you look at the tails of the distribution, the t-clearly has more outliers\n",
    "\n",
    "# whereas for a Normal distribution 3 sigma corresponds to 99.7% of the data\n",
    "print(\"Total probability of being between +/- 3 sigma for N(0,1)\", st.norm.cdf(3) - st.norm.cdf(-3))\n",
    "print(\"Therefore probability of being a 3 sigma outlier for N(0,1)\" , 1- (st.norm.cdf(3) - st.norm.cdf(-3)))\n",
    "print(\"Total probability of being between +/- 3 sigma for t8\", st.t.cdf(3, 8) - st.t.cdf(-3, 8))\n",
    "print(\"Therefore probability of being a 3 sigma outlier for t8\" , 1- (st.t.cdf(3, 8) - st.t.cdf(-3, 8)))\n",
    "\n",
    "# i.e. an order of magnitude more likely to get an outlier with a t8.\n",
    "\n",
    "\n",
    "# another thing you can try is the interval function to ask what interval encloses % of the total probability\n",
    "# this is better for assymetric distributions\n",
    "print(\"0.997 probability intervals for N(0,1)\", st.norm.interval(0.9973))\n",
    "print(\"0.997 probability intervals for t8\", st.t.interval(0.9973, 8))"
   ]
  },
  {
   "cell_type": "markdown",
   "metadata": {
    "slideshow": {
     "slide_type": "slide"
    }
   },
   "source": [
    "The issue with the method of moments and classical hypothesis testing is they are not very **robust** to outliers in the data.\n",
    "\n",
    "Particularly if the outlier fraction is significant relative to the total sample size."
   ]
  },
  {
   "cell_type": "code",
   "execution_count": 5,
   "metadata": {
    "slideshow": {
     "slide_type": "skip"
    }
   },
   "outputs": [],
   "source": [
    "# Run this cell \n",
    "\n",
    "samp_size = 200\n",
    "\n",
    "# you can control the outlier fraction\n",
    "outlier_fraction1 = 0.1\n",
    "outlier_fraction2 = 0.05\n",
    "\n",
    "# simulate something like the magnitudes you might measure on a detector\n",
    "samp1 = -2.5*np.log10(st.poisson.rvs(2000, size=samp_size)) + 25\n",
    "\n",
    "# except now we're going to add a small distribution on the wings - if this was magnitudes\n",
    "# maybe this is a second fainter source in a close binary\n",
    "samp2 = -2.5*np.log10(st.poisson.rvs(1850, size=max(int(outlier_fraction1*samp_size), 1))) + 25\n",
    "\n",
    "# and we'll add some large, easy to see outliers - these might be cosmic rays\n",
    "samp3 = -2.5*np.log10(st.poisson.rvs(3700, size=max(int(outlier_fraction2*samp_size), 1))) + 25\n",
    "\n",
    "# let's combine all three samples together\n",
    "samp = np.concatenate((samp1, samp2, samp3), axis=-1)\n",
    "\n",
    "# and shuffle our measurements, so you can't do outlier rejection 4\n",
    "# by simply clipping the first/last N elements of the array\n",
    "np.random.shuffle(samp)"
   ]
  },
  {
   "cell_type": "code",
   "execution_count": 6,
   "metadata": {
    "slideshow": {
     "slide_type": "slide"
    }
   },
   "outputs": [
    {
     "data": {
<<<<<<< HEAD
      "image/png": "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\n",
=======
      "image/png": "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\n",
>>>>>>> upstream/master
      "text/plain": [
       "<Figure size 576x288 with 2 Axes>"
      ]
     },
     "metadata": {
      "needs_background": "light"
     },
     "output_type": "display_data"
    }
   ],
   "source": [
    "# sample moments\n",
    "mu_samp = samp.mean()\n",
    "sig_samp = samp.std()\n",
    "\n",
    "fig = figure(figsize=(8, 4))\n",
    "ax1 = fig.add_subplot(1,2,1)\n",
    "ax2 = fig.add_subplot(1,2,2)\n",
    "\n",
    "# histogram the sample \n",
    "ahist(samp, bins='freedman', density=True, ax=ax1)\n",
    "xmin, xmax = ax1.get_xlim()\n",
    "xval = np.arange(xmin, xmax+0.01, 0.001)\n",
    "\n",
    "# plot the methods of moments estimator assuming a normal distribtuion\n",
    "estpdf  = st.norm.pdf(xval, loc=mu_samp, scale=sig_samp)\n",
    "ax1.plot(xval, estpdf, color='r', lw=2, label=fr'Est $\\mu=${mu_samp:.3f}, $\\sigma$={sig_samp:.3f}')\n",
    "ax1.legend(frameon=False)\n",
    "\n",
    "# and make a QQ plot of the sample \n",
    "sm.qqplot(samp, line='r', ax=ax2, marker='.')\n",
    "\n",
    "# note that all the regression line (i.e. the line = \"r\" option is doing) above is doing\n",
    "# is computing the sample mean and standard deviation\n",
    "# and plotting Y = mean + sigma*X\n",
    "\n",
    "# you can verify this by plotting the same line yourself\n",
    "qq = np.arange(-3, 3, 0.01)\n",
    "y = mu_samp + sig_samp*qq\n",
    "ax2.plot(qq, y, 'g-.')\n",
    "\n",
    "\n",
    "# this is cosmetic and just tidies up the plot\n",
    "tight_layout()"
   ]
  },
  {
   "cell_type": "markdown",
   "metadata": {
    "slideshow": {
     "slide_type": "slide"
    }
   },
   "source": [
    "## In class exercise 2\n",
    "### Robust Statistics - Alternative 1: Eliminating Outliers (i.e. clean your data)\n",
    "\n",
    "In your homework, you have encountered one way to cleanup your data, using the QQ-plot.\n",
    "* using a line defined through some quartiles\n",
    "* using $Y = \\mu + \\sigma\\cdot x$ \n",
    "\n",
    "Both of these methods are fundamentally assuming the data is normally distributed."
   ]
  },
  {
   "cell_type": "markdown",
   "metadata": {
    "slideshow": {
     "slide_type": "subslide"
    }
   },
   "source": [
    "astropy.stats has a sigma_clip method that also assumes the data is normally distributed, but you can control around where. In particular you can use the median.\n",
    "\n",
    "Try eliminating the outliers with it, and check if the method of moments estimator gives you something reasonable."
   ]
  },
  {
   "cell_type": "code",
   "execution_count": 11,
   "metadata": {},
   "outputs": [
    {
     "data": {
      "text/plain": [
       "\u001b[0;31mSignature:\u001b[0m\n",
       "\u001b[0msigma_clip\u001b[0m\u001b[0;34m(\u001b[0m\u001b[0;34m\u001b[0m\n",
       "\u001b[0;34m\u001b[0m    \u001b[0mdata\u001b[0m\u001b[0;34m,\u001b[0m\u001b[0;34m\u001b[0m\n",
       "\u001b[0;34m\u001b[0m    \u001b[0msigma\u001b[0m\u001b[0;34m=\u001b[0m\u001b[0;36m3\u001b[0m\u001b[0;34m,\u001b[0m\u001b[0;34m\u001b[0m\n",
       "\u001b[0;34m\u001b[0m    \u001b[0msigma_lower\u001b[0m\u001b[0;34m=\u001b[0m\u001b[0;32mNone\u001b[0m\u001b[0;34m,\u001b[0m\u001b[0;34m\u001b[0m\n",
       "\u001b[0;34m\u001b[0m    \u001b[0msigma_upper\u001b[0m\u001b[0;34m=\u001b[0m\u001b[0;32mNone\u001b[0m\u001b[0;34m,\u001b[0m\u001b[0;34m\u001b[0m\n",
       "\u001b[0;34m\u001b[0m    \u001b[0mmaxiters\u001b[0m\u001b[0;34m=\u001b[0m\u001b[0;36m5\u001b[0m\u001b[0;34m,\u001b[0m\u001b[0;34m\u001b[0m\n",
       "\u001b[0;34m\u001b[0m    \u001b[0mcenfunc\u001b[0m\u001b[0;34m=\u001b[0m\u001b[0;34m'median'\u001b[0m\u001b[0;34m,\u001b[0m\u001b[0;34m\u001b[0m\n",
       "\u001b[0;34m\u001b[0m    \u001b[0mstdfunc\u001b[0m\u001b[0;34m=\u001b[0m\u001b[0;34m'std'\u001b[0m\u001b[0;34m,\u001b[0m\u001b[0;34m\u001b[0m\n",
       "\u001b[0;34m\u001b[0m    \u001b[0maxis\u001b[0m\u001b[0;34m=\u001b[0m\u001b[0;32mNone\u001b[0m\u001b[0;34m,\u001b[0m\u001b[0;34m\u001b[0m\n",
       "\u001b[0;34m\u001b[0m    \u001b[0mmasked\u001b[0m\u001b[0;34m=\u001b[0m\u001b[0;32mTrue\u001b[0m\u001b[0;34m,\u001b[0m\u001b[0;34m\u001b[0m\n",
       "\u001b[0;34m\u001b[0m    \u001b[0mreturn_bounds\u001b[0m\u001b[0;34m=\u001b[0m\u001b[0;32mFalse\u001b[0m\u001b[0;34m,\u001b[0m\u001b[0;34m\u001b[0m\n",
       "\u001b[0;34m\u001b[0m    \u001b[0mcopy\u001b[0m\u001b[0;34m=\u001b[0m\u001b[0;32mTrue\u001b[0m\u001b[0;34m,\u001b[0m\u001b[0;34m\u001b[0m\n",
       "\u001b[0;34m\u001b[0m\u001b[0;34m)\u001b[0m\u001b[0;34m\u001b[0m\u001b[0;34m\u001b[0m\u001b[0m\n",
       "\u001b[0;31mDocstring:\u001b[0m\n",
       "Perform sigma-clipping on the provided data.\n",
       "\n",
       "The data will be iterated over, each time rejecting values that are\n",
       "less or more than a specified number of standard deviations from a\n",
       "center value.\n",
       "\n",
       "Clipped (rejected) pixels are those where::\n",
       "\n",
       "    data < cenfunc(data [,axis=int]) - (sigma_lower * stdfunc(data [,axis=int]))\n",
       "    data > cenfunc(data [,axis=int]) + (sigma_upper * stdfunc(data [,axis=int]))\n",
       "\n",
       "Invalid data values (i.e. NaN or inf) are automatically clipped.\n",
       "\n",
       "For an object-oriented interface to sigma clipping, see\n",
       ":class:`SigmaClip`.\n",
       "\n",
       ".. note::\n",
       "    `scipy.stats.sigmaclip\n",
       "    <https://docs.scipy.org/doc/scipy/reference/generated/scipy.stats.sigmaclip.html>`_\n",
       "    provides a subset of the functionality in this class.  Also, its\n",
       "    input data cannot be a masked array and it does not handle data\n",
       "    that contains invalid values (i.e.  NaN or inf).  Also note that\n",
       "    it uses the mean as the centering function.\n",
       "\n",
       "    If your data is a `~numpy.ndarray` with no invalid values and\n",
       "    you want to use the mean as the centering function with\n",
       "    ``axis=None`` and iterate to convergence, then\n",
       "    `scipy.stats.sigmaclip` is ~25-30% faster than the equivalent\n",
       "    settings here (``sigma_clip(data, cenfunc='mean', maxiters=None,\n",
       "    axis=None)``).\n",
       "\n",
       "Parameters\n",
       "----------\n",
       "data : array_like or `~numpy.ma.MaskedArray`\n",
       "    The data to be sigma clipped.\n",
       "\n",
       "sigma : float, optional\n",
       "    The number of standard deviations to use for both the lower and\n",
       "    upper clipping limit.  These limits are overridden by\n",
       "    ``sigma_lower`` and ``sigma_upper``, if input.  The default is\n",
       "    3.\n",
       "\n",
       "sigma_lower : float or `None`, optional\n",
       "    The number of standard deviations to use as the lower bound for\n",
       "    the clipping limit.  If `None` then the value of ``sigma`` is\n",
       "    used.  The default is `None`.\n",
       "\n",
       "sigma_upper : float or `None`, optional\n",
       "    The number of standard deviations to use as the upper bound for\n",
       "    the clipping limit.  If `None` then the value of ``sigma`` is\n",
       "    used.  The default is `None`.\n",
       "\n",
       "maxiters : int or `None`, optional\n",
       "    The maximum number of sigma-clipping iterations to perform or\n",
       "    `None` to clip until convergence is achieved (i.e., iterate\n",
       "    until the last iteration clips nothing).  If convergence is\n",
       "    achieved prior to ``maxiters`` iterations, the clipping\n",
       "    iterations will stop.  The default is 5.\n",
       "\n",
       "cenfunc : {'median', 'mean'} or callable, optional\n",
       "    The statistic or callable function/object used to compute the\n",
       "    center value for the clipping.  If set to ``'median'`` or\n",
       "    ``'mean'`` then having the optional `bottleneck`_ package\n",
       "    installed will result in the best performance.  If using a\n",
       "    callable function/object and the ``axis`` keyword is used, then\n",
       "    it must be callable that can ignore NaNs (e.g. `numpy.nanmean`)\n",
       "    and has an ``axis`` keyword to return an array with axis\n",
       "    dimension(s) removed.  The default is ``'median'``.\n",
       "\n",
       "    .. _bottleneck:  https://github.com/pydata/bottleneck\n",
       "\n",
       "stdfunc : {'std'} or callable, optional\n",
       "    The statistic or callable function/object used to compute the\n",
       "    standard deviation about the center value.  If set to ``'std'``\n",
       "    then having the optional `bottleneck`_ package installed will\n",
       "    result in the best performance.  If using a callable\n",
       "    function/object and the ``axis`` keyword is used, then it must\n",
       "    be callable that can ignore NaNs (e.g. `numpy.nanstd`) and has\n",
       "    an ``axis`` keyword to return an array with axis dimension(s)\n",
       "    removed.  The default is ``'std'``.\n",
       "\n",
       "axis : `None` or int or tuple of int, optional\n",
       "    The axis or axes along which to sigma clip the data.  If `None`,\n",
       "    then the flattened data will be used.  ``axis`` is passed to the\n",
       "    ``cenfunc`` and ``stdfunc``.  The default is `None`.\n",
       "\n",
       "masked : bool, optional\n",
       "    If `True`, then a `~numpy.ma.MaskedArray` is returned, where the\n",
       "    mask is `True` for clipped values.  If `False`, then a\n",
       "    `~numpy.ndarray` and the minimum and maximum clipping thresholds\n",
       "    are returned.  The default is `True`.\n",
       "\n",
       "return_bounds : bool, optional\n",
       "    If `True`, then the minimum and maximum clipping bounds are also\n",
       "    returned.\n",
       "\n",
       "copy : bool, optional\n",
       "    If `True`, then the ``data`` array will be copied.  If `False`\n",
       "    and ``masked=True``, then the returned masked array data will\n",
       "    contain the same array as the input ``data`` (if ``data`` is a\n",
       "    `~numpy.ndarray` or `~numpy.ma.MaskedArray`).  The default is\n",
       "    `True`.\n",
       "\n",
       "Returns\n",
       "-------\n",
       "result : flexible\n",
       "    If ``masked=True``, then a `~numpy.ma.MaskedArray` is returned,\n",
       "    where the mask is `True` for clipped values.  If\n",
       "    ``masked=False``, then a `~numpy.ndarray` is returned.\n",
       "\n",
       "    If ``return_bounds=True``, then in addition to the (masked)\n",
       "    array above, the minimum and maximum clipping bounds are\n",
       "    returned.\n",
       "\n",
       "    If ``masked=False`` and ``axis=None``, then the output array is\n",
       "    a flattened 1D `~numpy.ndarray` where the clipped values have\n",
       "    been removed.  If ``return_bounds=True`` then the returned\n",
       "    minimum and maximum thresholds are scalars.\n",
       "\n",
       "    If ``masked=False`` and ``axis`` is specified, then the output\n",
       "    `~numpy.ndarray` will have the same shape as the input ``data``\n",
       "    and contain ``np.nan`` where values were clipped.  If\n",
       "    ``return_bounds=True`` then the returned minimum and maximum\n",
       "    clipping thresholds will be be `~numpy.ndarray`\\s.\n",
       "\n",
       "See Also\n",
       "--------\n",
       "SigmaClip, sigma_clipped_stats\n",
       "\n",
       "Examples\n",
       "--------\n",
       "This example uses a data array of random variates from a Gaussian\n",
       "distribution.  We clip all points that are more than 2 sample\n",
       "standard deviations from the median.  The result is a masked array,\n",
       "where the mask is `True` for clipped data::\n",
       "\n",
       "    >>> from astropy.stats import sigma_clip\n",
       "    >>> from numpy.random import randn\n",
       "    >>> randvar = randn(10000)\n",
       "    >>> filtered_data = sigma_clip(randvar, sigma=2, maxiters=5)\n",
       "\n",
       "This example clips all points that are more than 3 sigma relative to\n",
       "the sample *mean*, clips until convergence, returns an unmasked\n",
       "`~numpy.ndarray`, and does not copy the data::\n",
       "\n",
       "    >>> from astropy.stats import sigma_clip\n",
       "    >>> from numpy.random import randn\n",
       "    >>> from numpy import mean\n",
       "    >>> randvar = randn(10000)\n",
       "    >>> filtered_data = sigma_clip(randvar, sigma=3, maxiters=None,\n",
       "    ...                            cenfunc=mean, masked=False, copy=False)\n",
       "\n",
       "This example sigma clips along one axis::\n",
       "\n",
       "    >>> from astropy.stats import sigma_clip\n",
       "    >>> from numpy.random import normal\n",
       "    >>> from numpy import arange, diag, ones\n",
       "    >>> data = arange(5) + normal(0., 0.05, (5, 5)) + diag(ones(5))\n",
       "    >>> filtered_data = sigma_clip(data, sigma=2.3, axis=0)\n",
       "\n",
       "Note that along the other axis, no points would be clipped, as the\n",
       "standard deviation is higher.\n",
       "\u001b[0;31mFile:\u001b[0m      ~/Applications/miniconda3/envs/fds/lib/python3.7/site-packages/astropy/stats/sigma_clipping.py\n",
       "\u001b[0;31mType:\u001b[0m      function\n"
      ]
     },
     "metadata": {},
     "output_type": "display_data"
    }
   ],
   "source": [
    "sigma_clip?"
   ]
  },
  {
   "cell_type": "code",
   "execution_count": 34,
   "metadata": {
    "slideshow": {
     "slide_type": "fragment"
    }
   },
   "outputs": [
    {
     "name": "stdout",
     "output_type": "stream",
     "text": [
<<<<<<< HEAD
      "230 210\n"
=======
      "Done\n"
>>>>>>> upstream/master
     ]
    },
    {
     "data": {
<<<<<<< HEAD
      "image/png": "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\n",
=======
      "image/png": "iVBORw0KGgoAAAANSUhEUgAAAeAAAAEGCAYAAAC9yUYKAAAABHNCSVQICAgIfAhkiAAAAAlwSFlzAAALEgAACxIB0t1+/AAAADh0RVh0U29mdHdhcmUAbWF0cGxvdGxpYiB2ZXJzaW9uMy4xLjEsIGh0dHA6Ly9tYXRwbG90bGliLm9yZy8QZhcZAAAgAElEQVR4nO3deZxU5Z3v8c+vurpZpIGWJihC0yLggiKbCdFJBLcYJXozZjObMXqZZBKXTBwTr4lLcnNjlsmYiVlexi0LIWHUSaImxqioWQSlERVEjKy2oLTYLNLQW/3uH+cUFEVXd9FV1ae66vt+verFqadOnfOrgu4vz1mex9wdERER6VuxqAsQEREpRwpgERGRCCiARUREIqAAFhERiYACWEREJALxvtxZbW2t19fX9+UuRfqlhoaGN9x9ZNR1ZKKfZZHsdPez3KcBXF9fz9KlS/tylyL9kpltiLqG7uhnWSQ73f0s6xC0iIhIBBTAIiIiEVAAi4iIREABLCIiEgEFsIiISAQUwCIiIhFQAIuIiORBw4ZmfrjoZRo2NGe1fp/eBywiIlKKGjY087HbFtPWkaAqHmP+pbOYMa6m2/eoBywiIpKjxWu30taRIOHQ3pFg8dqtPb5HASyla9E3g4eISIHNGj+CqniMCoPKeIxZ40f0+B4dghYREcnRjHE1zL90FovXbmXW+BE9Hn4GBbCIiMh+GjY0HxCkXbWlmzGuJqvgTVIAi4iIhLq6mAo46AussqFzwCIiUrbSbx3q6mKq3lxglQ31gEVEpCx11dtNXkzV3pHY72KqrtpypQAWEZGy1FXP9nNzJnR5MdXBXmCVDQWwiIiUleQFVTWDq7rs2XZ1MdXBXmCVjR4D2MzuAOYCW9z9+JT2y4DPAx3AA+5+dV4rExERybP0w87XzZ1Mc0tbXnu22cqmB3wXcAvw82SDmc0BzgemuHurmb2tMOWJiIjkLtnr3bRt936HnZtb2vjcnAn52cn2Rti2EYbXwbAxPa7eYwC7+xNmVp/W/FngJndvDdfZ0otSRURE8qJhQzP3LGvEgMmjh+3t1QLcs6yRuxsa6ehMMCb2JrMqmtjYWUs8bpwxeA1sH7gvMLsK0WyCdXsjPHYTJDogFofZX+4xhHt7DngS8C4z+wawB7jK3Z/uakUzmwfMA6irq+vl7kRERPZJPY+7YtN2Fi59hY5O3/t6zGBM7E3GWBMtHRWcaB20eZyP2qNMGDmQIfEEtUOqGLGpGl67LwhMODBEu2rrKli3bQzWGT4Otm0InhcogONADTALOAlYaGbj3d3TV3T3W4FbAWbOnHnA6yIiItlIhu7O3e3c9td1dCYcBww4jK2MsSbaPE5VGLYX2qNU08IxVRt5MVHHQNpojw3g8HEnMnrnCmAPDD9+X2DCgSHaVVtXwTq8LgjobRuCP4f33OHsbQA3AveGgfuUmSWAWqCpl9sTERHJKHnxVGt7gvSe3GFs5Yr4PQyhhWNj+8K2zQbQYoOoIMGe2CDG1gyirrqC4b4FBg4L3pwemF2FaDbBOmxM0DvO5zngDH4LnAY8ZmaTgCrgjV5uS0REpFv3LmvsMnwPZytnVSxlmO1m6LAahrU2cszbDifR+hYjBzqJigGwZSBz3jaYQw+thRkXQWf7viBND8yuQjTbYB02JqvgTcrmNqQFwGyg1swageuBO4A7zGwF0AZc1NXhZ5Eo3fzIS8Gff3qA9TedG3E1ItJbv1qykV8/tXG/8DVgemwNN418kMoYjOrcwqBRw2DrYGqHAQNG7wvbisp9oZsekF09z6YtD7K5CvrCDC99PM+1iIiI7KdhQzPX/W4FyeurDDjjuFH808g9nP/qIobvehUGDIXqiTDhTDh1WuawLTIaCUtERIrWvcsa6Ujs6/tWxIzLZgxiylvL4M04dAyF1h1QfTgcc07Rh24qBbBICchlxDoz+wJwKeDA88DF7r6nTwoXyaBhQzM/eXwNj6x6HQjO9dZVvMG/vn0EU5bfBThsXQsjxkP1YXDqv/er8AUFsEipuItejFhnZkcAlwPHuftuM1sIfCTcnkifSw3ehAfBO9ue4dyKJdTWVHPMy69ALAaDaoLwnXBmv+v5JimARUpAjiPWxYFBZtYODAY2FapOka4kR7F6+fWdvLrhZU7gZT7MTjCYXbGcE2LrqKaFSh8JloCKgf32sHMqBbBI6epxxDp3f9XMvgtsBHYDD7n7Q11tTKPaST51FbrT2cxVFcs5ItZENbvZ7QMA2MVADq3qZKC3QqwKRhwVbKQfHnZOpQAWKV09jlhnZjUEh6mPBLYB/21mH3f3X6ZvTKPaSW8lDyu/9fo6ZsTXUbNnIx07tzLUhzAd9obucHZhOJ3ESBCjzeJUVyQYPtAYUDUcauph1meCw8/94CrnniiARUpXNiPWnQGsc/cmADO7FzgZOCCARQ7Wr5Zs5I6/ruWQpmd5b2wxs2IvcFismUPZgcWDq/46qcAxOonRiWEYcTqxGIw8ZBADjzgeJr4HBo+AMTP6feimUgCLlK5sRqzbCMwys8EEh6BPB5b2aZVSMho2NPObR55k8OvPMKB9G7Z7G/9qr/DuqucZTCuVdNBBBQa4GYaDQycx4nRCrII98aH4oWMZesJcOHRCyYVuKgWwSAk4mBHrzGw0cJu7n+PuS8zsbmAZwa1KzxAeZhbJxq+WbORvj/2RY3YvZWjrVv53fCWH2k4G0U5lZTuGY0C7xXA3jAQA5sFECsQq6EgJ3UElHrqpFMAiJeBgRqxz903AOSnPrycIbJFuJcP2HbufYATNJICatt3cGH+JwbQyoLI9WNEguNLA6DQjjhN3pz1WSWNFHSuqpuKJTo6sG8u0SUcyqAQPL2dDASwiIhk1bGjmwT/dz+hND3JY2ya+Hn+RalqoCF/3MEU6zdg7N2DyNZyYx2iLxWHYGAbN/AQTT/wwE8ssaDNRAIuIyF5/evB+ti39DYM7tpLocIYmdvD5+D8YTBuxeHDxux+YtcTCi+sTbnTGKng1dgTLqmYy+bAhHHfCVJh4Vtn1cHuiABYRKTOrnn6Ulx79BdbyOoOslcHsYVdiAAMSbcyKBYeTKwBi4QOCw8rhYiztJrQ24myK1fJcfCpHHzGK406YylETz+IoBW63FMAiIqVqeyPP3P8TdvzjSVoTQZ91ZGIrE2KvMoG2IGRTwzQlbA/gQXMrcV63GtbaONpsMIMOqWbcCSdz1Kz/pcA9SApgEZFSsL2R9U/+D5ufexRattCWMCbyCiewbW+uAt2HbFJaD7cTaGEAz1RMYdCxZ/OO93yEeoVtzhTAIiL90YsPsG7Rz9jwejOW2MOxrOcwdnDAIKGZgjbDWGbJsF3uk9huQ4nHoGLoaOre9VFmn3Ra/uqXngM40zRn4WtXAd8BRrp7+g3+IiKSL41Ps+Xx23l13Qt4+04m+zrqcMalrpNl2DqwiyoaOibRXjmQQyw4B9waG0hLZS3DZ3yI95w9tzCfQ/bKpgd8F2nTnAGY2VjgTIKRdEREJJ/CwN2y8UVaW/cwydcwwtuoTV0nw7na1MV2jG2JalZTR2tsIIPYw5bYKFaPfj/vec9cZoyrKeznkIx6DOAM05wB/CdwNfC7PNckUjD1X35g7/L6m86NsBIpa9sb4aWHYP3f2bRpIy81OzsSlVgsOEVbzU6mJV5kBD0Ebhfnarcmqlnvh7PdqtkWG85LsfEcOm0un3v/7EJ+IumFXp0DNrPzgFfd/Vmz7s7kawozESkzjU/Dit9B2w42tQ3kpfWN7Nm1g05P7F3lGNZxBK9R5QkOczgs+UIibVvdBG4n0EYlyzuO5K3YECrjsNKO5u9Dz+B973o7H32Hft8Wu4MO4HDQ9muBs7JZX1OYiUjJ2N4IjQ2w9WVoaYaKGJubW1jWuIPOljep8e2c0LmSQ2ghhjMqAaPYP0f3+yVoZH01ciewmype7jyC1/1QNlUcxmPxU5g86zS+fM6xQDDzxmV5+qhSeL3pAR9FMHdosvc7BlhmZm9399fyWZyISCSSQduydV9b83r4x0Ps3vYa8fbtQIIYUJuAs9PevnekqJ7CtZsuSVeB+3DFO+kcPYMvvfdY3juuhkt69+mkSBx0ALv788Dbks/NbD0wU1dBi0i/lzw3u+xnsK0R2ncF7Z6gs7Mdx4kng9MM8C5DNubdZisJjLd8IDt8EJu9lmavpi02gFjciBEcid6SqGFRbBavDZ/Cp085kkveUafALTHZ3IZ0wDRn7n57oQsTESmIZO8WYNho2L4p6OnuboZ/PAhb19DZ0ry3g5qgAnAs4STMqPBEMJ9tmLDpYyK3EWdzoobliYls9kMZZrsYzB4qq2LEgN0MZJO9jcbYaFbaRFoHj+bTpxzZ5TlbBW5py+Yq6EzTnCVfr89bNSIi+bC9EbZthIrKIGAhCNvNz8NzC2Dna+Eh4E72tHfC7m3hPLVOAqMiAeAYToIYToxKEnR6nO0M5MH2t7PHqujwGHFL0OExhtkuhgysZHXsSJ5gGq9bLQPiFUw+fCj/cupRut1HDqCRsESkf0sP25atsP4vkOiATc+C+d6wJdEOe3bSbnF2MpiKjhZaOisYEk4a78SooJMOKtjlA2n0Wv7UeRLbGcIw3iJuCf6SmMKzTGBczWAqK4xDD6li4qhqZk0fszdkvxTpFyL9hQJYRPqP1LDtbA/+bPgZ7Nm+L2w72yFWCUdMh85WqBwUHCPe8xZ7YoPo7IhhiT20eYx2qyK2996fGDt8MI1ey6LOqazncJ71CWxmxL79O7y9voZ73nuserSSMwWwlJUr43enPNNAHP3K9kZ47KYgbF9/AQ6bDO27g4Ctqt4XtgMGQutbsOsNqBgQ9Hwd9tgAmna2kfBBvOZH8NvOf+IFr+dw20oNOwFopnpv6BowumYQbx82kOGDqxhZPYB/TunliuRKASwi0Ur2aofXBRO2Z3r+VlNwWLmqGrwDqoYEV0K17wn+TIZtwuDwKXDiR1nVUs2yFSsxnPXtNWxs/gfAfj3bZ30CMYOZ42oYPriKE4DTFLbSBxTAItI30oM12fbYTUGwxuIw46LgkHJXzztag/ckOsDi0PYWDBwWrJM8HB1ecPUcE/j1SwkWLn2Fjs7xKUW8Y+9SMnQnjqpW2EokFMAikruuwjX99dSgnf3lYL1tG4O24eNg2wZ49Znun096LwwZue8ccPr+xsCvlmzkut+toDPhGe/FPXHMMK5732SFrkRKASwiuckUrqnSg3bbxmCd4XXBe7ZtCP48Yhq89lzm52NmdB3woYYNzVz3uxV0JLqO3phBVTym8JWioAAWkdxkCtdU6UE7PBx0YtiYILBTe8/Vh3f/vBuL126lMyV8KwxOP3YUI6sHMHn0MJpb2pg1foTCV4qCAlhEcpMpXFN1FbSprx3M827MGj+CAZUx2toTxGLG184/XrMCSdFSAItIbroL1/T1sgzS3poxrob5l85i8dqt6ulK0VMAi0ju+iBcszVjXI2CV/qFWNQFiIiIlCMFsIiISAQUwCIiIhFQAIsUkTVr1tDaGoz4ZGazzexyMxsecVkiUgA9BrCZ3WFmW8xsRUrbd8zsRTN7zsz+R78gRPLjggsuoKKiAmAAcDtwJPCrSIsSkYLIpgd8F3B2WtufgePdfQrwEnBNnusSKUuxWIx4PA4wHLjZ3b8AHB5tVSJSCD0GsLs/AbyZ1vaQu3eETxcDxXH/gUg/V1lZyYIFCwBqgfuTzdFVJCKFko9zwJ8G/pjpRTObZ2ZLzWxpU1NTHnYnUrruvPNOnnzySYDN7r7OzI4EfhlxWSJSADkFsJldC3QA8zOt4+63uvtMd585cuTIXHYnUvKOO+44vvWtbwHsAnD3de5+U7RViUgh9DqAzewiYC7wMXfPNOuXiByE++67j6lTpwJMAjCzqWb2+2irEpFC6FUAm9nZwJeA89y9Jb8liZSvG264gaeeegqgE8DdlxNcCS0iJSab25AWAE8CR5tZo5ldAtwCVAN/NrPlZvaTAtcpUhbi8TjDhg1Lb9YRJpES1ONkDO5+YRfNtxegFpGyd/zxx/OrXwW3/ZrZROBy4O+RFiUiBaGRsESKyA9+8ANWrlwJQa93AbADuLKn93U1YE7YfpmZrTazlWb27QzvHW5md4eD66wys3fm4aOISA8UwCJFZPDgwXzjG98AWBXePXCtu+/J4q13kTZgjpnNAc4Hprj7ZOC7Gd77feBBdz8GOBFY1dv6RSR7mg9YpAi8733vw8xSmyakXv3s7ud19353f8LM6tOaPwvc5O6t4Tpb0t9nZkOBdwOfCtdpA9oO/hOIyMFSAIsUgauuumq/5/fdd99rwH/kuNlJwLvM7BvAHuAqd386bZ3xQBNwp5mdCDQAV7j7rvSNmdk8YB5AXV1djqWJiAJYpAiceuqp6U1vufvjOW42DtQAs4CTgIVmNj7tvv04MB24zN2XmNn3gS8DX03fmLvfCtwKMHPmTF2ZLZIjnQMWKQIf+tCHADjhhBOYMmUKwHHhbGPPmdlzvdxsI3CvB54CEgRjTKev0+juS8LndxMEsogUmHrAIkXg+9//PgD33x/Mv1BfX/8y8L4cN/tb4DTgMTObBFQBb6Su4O6vmdkrZna0u68GTgdeyHG/IpIF9YBFisDhhwczDv7oRz9i3LhxAG3uvsHdNwD/2tP7MwyYcwcwPrw16dfARe7uZjbazP6Q8vbLgPlhT3sq8P/y+dlEpGvqAYsUkT//+c/JyRhSvZdg6NeMMgyYA/DxLtbdBJyT8nw5MPPgKhWRXCmApeRdGb8bFvX2NGrf+PGPf8yPfvQj1q5du985YIIhX/8WbXUiUgg6BC1SBD760Y9y3333cd5553HfffcBJM8Bz3D3A3qxItL/qQcsUgSGDRvGsGHDWLBgAZ2dwURI4WOImQ1x943RVigi+aYesEgRueWWWxg1ahQEg2g8ED7uj7QoESkI9YBFisjNN9/M6tWrqa2tXenuujBKpISpByxSRMaOHdvVfMAiUoJ6DOCupjkzs0PN7M9m9o/wz5rClilSHsaPH8/s2bMBDjOzf0s+Ii5LRAogmx7wXaRNc0YwVuwj7j4ReCR8LiI5qqur48wzzwQwgluQkg8RKTE9ngPOMM3Z+cDscPlnwGP0MFCAiPTs+uuvB+CGG27Y7O43RlyOiBRQby/CGuXumwHcfbOZvS2PNYmUraamJr797W9DMB/wo8l2dz8tuqpEpBAKfhGWmc0zs6VmtrSpqanQuxPp1z72sY9xzDHHAAwAbgTWA+lz+IpICehtAL9uZocDhH9uybSiu9/q7jPdfebIkSN7uTuR8rB161YuueQSAHf3x9390wTz+YpIieltAP8euChcvgj4XX7KESlvlZWVycV2MzvXzKYBYyIsSUQKpMdzwOE0Z7OBWjNrBK4HbgIWhlOebQQ+WMgiRcrFV77yFbZv3w7wCnAVMBT4QqRFiUhBZHMVdKZpzk7Pcy0iZW/u3LnJxT3uPifKWkSksDQUpUgRufjiizEzgHozuyPZHp4LFpESogCWsnDzIy9FXUJWkj3gO++8cxvBIDfvBzZFWZOIFIYCWMrXom/uW55zTXR1pLjggguSi9vcfX54DcbDEZYkIgWiyRhEittEoC7qIkQk/9QDFiki1dXVyXPA08xsB/AaGuZVpCQpgEWKyM6dOwEws2c0H7BIaVMAixSJ3bt3M3/+fF544QWAMWb2UeBud2+LuDQRKQCdAxYpAs8//zzHHnssf/nLX6ivrwdoA94D/M3MhpvZ/420QBHJO/WARYrA5Zdfzk9/+tPkXMBcccUVW9z9IjM7A1gBrIy0QBHJO/WARYrA5s2b94ZvKnd/GGgnuB9YREqIAlikCCQSCVpbWw9oN7OBQLu7t/R9VSJSSApgkSLwyU9+kgsuuID169fvbTOzemAh8ItoqhKRQlIAixSBr3zlK5x99tm8+93vpra2FuBE4HHgz+7+9WirE5FCUACLFInPf/7zbNy4kXXr1gE87+7j3P0HUdclIoWhABYpMtXV1QCJqOsQkcJSAIuIiEQgpwA2sy+Y2UozW2FmC8IrNkVERKQHvQ5gMzsCuByY6e7HAxXAR/JVmEg5amlp4etf/zrAOAAzm2hmc6OtSkQKIddD0HFgkJnFgcFo4nCRnFx88cUMGDAAYEjY1AhoGEqREtTrAHb3V4HvAhuBzcB2d38ofT0zm2dmS81saVNTU+8rFSkDa9as4eqrrwZwAHffDVikRYlIQeRyCLoGOB84EhgNHGJmH09fz91vdfeZ7j5z5MiRva9UpAxUVVWxe/duCAPYzI4CDhwiS0T6vVwmYzgDWOfuTQBmdi9wMvDLfBQmUmg3P/LS3uUr50RYSIobb7yRs88+G6DKzOYDpwCfirQoESmIXAJ4IzDLzAYDu4HTgaV5qUqkTJ155plMnz6d2tra9cAC4Ap3fyPiskSkAHodwO6+xMzuBpYBHcAzwK35KkyknCxbtiy9qZ3gosY6M6tz9wNWSGVmdwBzgS3hXQnJ9suAzxP8jD7g7ldneH8FwX+gX3V3XXUt0gdymg/Y3a8Hrs9TLSJl64tf/GJ60xjgP8JlB07rYRN3AbcAP082mNkcgus0prh7q5m9rZv3XwGsAoZmX7WI5CKnABaR/Fi0aNF+z83sJXfP+sy0uz8Rzp6U6rPATe7eGq6zpav3mtkY4FzgG8C/ZV+1iORCQ1GKFJE9e/bwve99D+AoM7vHzK7MYYS5ScC7zGyJmT1uZidlWO9m4Gp6GH9atxSK5JcCWKSIfPKTn2TlypUAWwgOKR9H7+cDjgM1wCzg34GFZrbfPcXhKFtb3L2hp43plkKR/FIAixSR1atXc/vttwPsdPdF7j6PoCfbG43AvR54iqCHW5u2zinAeWa2Hvg1cJqZ6VZCkT6gABYpItOmTWPx4sV7n5vZO4C/9XJzvyW8eMvMJgFVwH63NLn7Ne4+xt3rCcZyf9TdDxhQR0TyTwEsUkSWLFnCySefDHBC2Ct9EjjVzJ43s+cyvc/MFoTrHm1mjWZ2CXAHMN7MVhD0bi9ydzez0Wb2h4J/GBHplq6CFikiDz74IAD19fWrgfdl+z53vzDDS10ND7sJOKeL9seAx7Ldp4jkRgEsUkTGjRtHc3MzBNN7jki29zQQh4j0PwpgkSLy1a9+lbvuugugjoMbiENE+hkFsEgRWbhwIWvWrGHAgAGrD2YgDhHpf3QRlkgROf7449m2bVvUZYhIH1APWKSIXHPNNUybNg1gopn9Ptnu7udFV5WIFIJ6wCJF5KKLLuJLX/oSwGsE54CTDxEpMQpgkSJSW1vL5ZdfDsFIWI8nH1HXJSL5p0PQIkVkxowZXHPNNQCHmNn0ZLtuQxIpPTkFsJkNB24Djie4VeLT7v5kPgoTKUfPPPNMcvEIdBuSSEnLtQf8feBBd/+AmVUBg/NQk0jZSs4LfLDzAYtI/9PrADazocC7gU8BuHsb0JafskR6adE3o64gZw888ADAKDO7Ltnm7l+LriIRKYRcesDjgSbgTjM7EWgArnD3Xakrmdk8YB5AXV1dDrsTKX2f+cxnaGlpARgFGPAB4KlIixKRgsjlKug4MB34sbtPA3YBX05fSZN4i2Tv73//Oz//+c8BOtz9RuCdwNhoqxKRQsglgBuBRndfEj6/myCQRaSXBg0alFxMmNlooB04MrqKRKRQeh3A7v4a8IqZHR02nQ68kJeqRMrU3Llzk0NRvgYsA9YDC6KsSUQKI9eroC8D5odXQK8FLs69JJHy9dWvfjW5uA2YDAx09+3RVSQihZJTALv7cmBmnmoRKVtPP/00Y8eO5bDDDks2jQAWAhvM7AZ3fzO66kSkEDQSlpSUmx95KeoSeuVf/uVfePjhhwF44oknIBiI4ypgKnArwdXQIlJCFMAiRaCzs5NDDz0UgN/85jcAb7j7PcA9ZrY8ytpEpDAUwCKw/wAec67p8913dnbS0dFBPB7nkUceAdiR8rJ+TkVKkH6wRYrAhRdeyKmnnkptbW3yVqS3AMxsAqCLsERKkAJYpAhce+21nH766WzevJmzzjqLIUOGJF+KEdxtICIlRgEsUiRmzZp1QJu798+rykSkRwpgkXQRnw8WkfKQy1CUIiIi0kvqAYuw//3DV54+KcJKRKRcqAcsIiISAQWwiIhIBBTAIiIiEVAAi4iIREABLCIiEgEFsIiISAQUwCIiIhHIOYDNrMLMnjGz+/NRkIiISDnIRw/4CmBVHrYjIiJSNnIKYDMbA5wL3JafckRERMpDrj3gm4GrgUSmFcxsnpktNbOlTU1NOe5ORESkNPQ6gM1sLrDF3Ru6W8/db3X3me4+c+TIkb3dnYiISEnJpQd8CnCema0Hfg2cZma/zEtVInJQzOwOM9tiZivS2i8zs9VmttLMvt3F+8aa2SIzWxWuc0XfVS1S3nodwO5+jbuPcfd64CPAo+7+8bxVJiIH4y7g7NQGM5sDnA9McffJwHe7eF8H8EV3PxaYBXzOzI4rcK0igu4DFikJ7v4E8GZa82eBm9y9NVxnSxfv2+zuy8LlnQR3NBxR4HJFhDzNB+zujwGP5WNbIlHbb27gOREWkrtJwLvM7BvAHuAqd38608pmVg9MA5b0SXUiZS4vASwiRSkO1BAcWj4JWGhm493d01c0syHAPcCV7r6jq42Z2TxgHkBdXV3BihYpFzoELVK6GoF7PfAUwe2CtekrmVklQfjOd/d7M21MdzSI5JcCWKR0/RY4DcDMJgFVwBupK5iZAbcDq9z9e31eoUgZ0yFo6f8WfTPqCiJnZguA2UCtmTUC1wN3AHeEtya1ARe5u5vZaOA2dz+H4HbCTwDPm9nycHP/x93/0OcfQqTMKIBFSoC7X5jhpQNuDXT3TcA54fJfAStgaSKSgQ5Bi4iIREABLCIiEgEdgpZ+L/W+3b5S/+UH9i6vv+ncPt+/iPR/6gGLiIhEQAEsIiISAQWwiIhIBBTAIiIiEVAAi4iIREABLCIiEgEFsIiISAR6HcBmNtbMFpnZKjNbaWZX5LMwERGRUpbLQBwdwBfdfZmZVQMNZvZnd38hT7WJiIiUrF73gN19s7svC5d3AquAI/JVmIiISDX5iKkAAAu1SURBVCnLyzlgM6sHpgFLunhtnpktNbOlTU1N+didiMgBGjY088NFL9OwoTnqUkSykvNY0GY2BLgHuNLdd6S/7u63ArcCzJw503vansbYFZGD1bChmY/dtpi2jgRV8RjzL53FjHE1UZcl0q2cesBmVkkQvvPd/d78lCQikr2GDc3c/PBLtHUkSDi0dyRYvHZr1GWJ9KjXPWAzM+B2YJW7fy9/JYlkYdE3I933lfFgBqabOz4QXR1lrmFDM/csa+TuhkbaOxI4EDOojMeYNX5E1OWJ9CiXQ9CnAJ8Anjez5WHb/3H3P+RelohIZslDzq3tQfBCcDjvlAm1XHnGJB1+ln6h1wHs7n8FLI+1iGQtijmApXgsXruVto594WtAVWVM4Sv9Ss4XYYmI9LVZ40dQFY/R3pGgImZ8cOZY/nn6GIWv9CsKYJHuJM81z7mmy5evjN8Ni57rdh3Jvxnjaph/6SwWr93KrPEjFLzSLymARaRfadjQvDd4PzdnQtTliPSaAlhE+g3d7yulRLMhiUi/oPt9pdSoBywiRSP18PKMcTV7n9cMruJr96/ce9uR7veVUqAAFpGCSw/WrtqB/Q4vXzd3Ml+7fyVtHQliZiTcg/BF9/tKaVAAi3Qjeb/xzX96QGOTZ5ApXFNf7+q8bXr7BdPH7Hd4+Y8rNu99jjuxmGE4lXHd7yulQQEsIr2WzUVRyUEzUs/bzhhXc0C7w957eyvjMd57/OE8vf7Nvc+vmzuZ5pY23XYkJUMBLCK9lilcU6UOmpF63ja9/YLpY7hg+pj9etNHH1ate32lZCmARbKw34AbslemcE2VadCM7tpT36vglVLVLwNYcwZLFA52/Oly+Hea7YhUmYJUASvlrF8GsIgUD4WoSO9oIA4REZEIKIBFREQiUNSHoLM5h1YO59mkuKXeK5yJ/p2KSLqcesBmdraZrTazl83sy/kqSkREpNT1OoDNrAL4IfBe4DjgQjM7Ll+FiYiIlLJcesBvB15297Xu3gb8Gjg/P2WJiIiUNnP33r3R7APA2e5+afj8E8A73P3zaevNA+aFT48GVve+3IKrBd6IuoiDoHoLL6qax7n7yAj2mxUzawI29OEui/HfjmrKTrnXlPFnOZeLsKyLtgPS3N1vBW7NYT99xsyWuvvMqOvIluotvP5Yc1/o6/8cFOPfg2rKjmrKLJdD0I3A2JTnY4BNuZUjIiJSHnIJ4KeBiWZ2pJlVAR8Bfp+fskREREpbrw9Bu3uHmX0e+BNQAdzh7ivzVlk0+sWh8hSqt/D6Y82lqBj/HlRTdlRTBr2+CEtERER6T0NRioiIREABLCIiEoGyCGAzu8PMtpjZirT2y8KhNFea2be7eN9YM1tkZqvCda4o5npT1qsws2fM7P7CV5tbvWY23MzuNrMXw+/5nf2g5i+Er68wswVmNrAvai5nZvad8N/Ic2b2P2Y2vAhq+mD47yBhZpHe0lKMwwJn+hmLUlS/0zNy95J/AO8GpgMrUtrmAA8DA8Lnb+vifYcD08PlauAl4LhirTdl3X8DfgXcX8zfb9j+M+DScLkKGF7MNQNHAOuAQeHzhcCn+qLmcn4AZwHxcPlbwLeKoKZjCQYXegyYGWEdFcAaYHz4M/RsX/yeyqKuA37Gon5E9Ts906MsesDu/gTwZlrzZ4Gb3L01XGdLF+/b7O7LwuWdwCqCX8AF1dt6AcxsDHAucFtBi0zR23rNbCjBD+nt4Tpt7r6twOUS7qvX3zHB3QODzCwODEb3vxecuz/k7h3h08UE4w5Eyt1XuXsxjOxXlMMCZ/gZi1RUv9MzKYsAzmAS8C4zW2Jmj5vZSd2tbGb1wDRgSR/U1pVs670ZuBpI9F1pXcqm3vFAE3BneMj8NjM7pG/L3E+PNbv7q8B3gY3AZmC7uz/Ux3WWu08Df4y6iCJyBPBKyvNGIgyV/qIIfqeXdQDHgRpgFvDvwEIz62p4TcxsCHAPcKW77+i7EvfTY71mNhfY4u4NEdSXLpvvN05wiOrH7j4N2AVEef4qm++4hqB3cSQwGjjEzD7e14WWIjN7ODyvnv44P2Wda4EOYH6x1FQEshoWWPYpkt/pOY0F3d81Avd6cDLgKTNLEAzQ3ZS6kplVEvxFzXf3e/u+zL2yqfcU4DwzOwcYCAw1s1+6exQBkU29jUCjuyf/B3o30QZwNjWfAaxz9yYAM7sXOBn4ZV8XW2rc/YzuXjezi4C5wOnh31HkNRUJDQt8EIrod3pZ94B/C5wGYGaTCC5e2G92jLD3czuwyt2/1+cV7q/Het39Gncf4+71BEODPhpR+EJ29b4GvGJmR4dNpwMv9GWRaXqsmeDQ8ywzGxz++zid4DySFJCZnQ18CTjP3VuirqfIaFjgLBXZ7/SyuQp6AcH5unaC/y1eQvDL9ZfACmAZcFq47mjgD+HyPxEcynkOWB4+zinWetO2MZu+uwq61/UCU4Gl4Xf8W6CmH9R8I/BiuN4vCK+a1qOgf18vE5znTP4c/qQIanp/+G+nFXgd+FOEtZxDcEXvGuDaqL+bsKYDfsaKoKZIfqdnemgoShERkQiU8yFoERGRyCiARUREIqAAFhERiYACWEREJAIKYBERkQgogEWk7JjZCDNbHj5eM7NXw+VtZtan96Kb2dRw8Jzk8/N6O6ORma03s9ou2oeZ2c/NbE34mB+O6pZX3X0WM7vBzK7K9z77MwWwiJQdd9/q7lPdfSrwE+A/w+WpFGAc9XDijkymEtzHm6zt9+5+U55LuB1Y6+5HuftRBPdV35XnfUDffJaSoQAWEdlfhZn9NJwv9iEzGwRgZkeZ2YNm1mBmfzGzY8L2cWb2iAVzFT9iZnVh+11m9j0zWwR8y8wOsWCO3KfDyUfOD0eu+hrw4bAH/mEz+5SZ3RJuY5QF8x8/Gz5ODtt/G9ax0szmdfdhzGwCMAP4ekrz14ATzexoM5ttKXOHm9ktZvapcPm6sN4VZnZrcmx0M3vMzL5lZk+Z2Utm9q6ePktaTZm+yw+G+3rWzJ44+L+6/kUBLCKyv4nAD919MrANuCBsvxW4zN1nAFcBPwrbbwF+7u5TCCaJ+K+UbU0CznD3LwLXEgwPexLB3NPfASqB64DfhD3y36TV8l/A4+5+IsHEJSvD9k+HdcwELjezEd18nuOA5e7emWwIl58hmNO4O7e4+0nufjwwiGAs7qS4u78duBK43oOpELv7LKkyfZfXAe8JP+95PdTW75XzZAwiIl1Z5+7Lw+UGoD6cPedk4L9t3wRZA8I/3wn8c7j8C+DbKdv675TgO4tgspTkedCBQF0PtZwGfBL2hub2sP1yM3t/uDyW4D8NWzNsw+h6dqQuZ39LM8fMriaY9/pQgv8A3Be+lpzIoAGoz2JbwU67/y7/BtxlZgtTtl+yFMAiIvtrTVnuJOj5xYBt4XninqSG3a6UZQMucPfVqSub2TsOpjgzm00wK9c73b3FzB4jCPNMVgLTzCzm7olwGzFgCsGY53XsfzR0YLjOQIKe6Ux3f8XMbkjbT/J76uTgsiTjd+nunwm/j3OB5WY21d0z/cei39MhaBGRHngwZ+w6M/sgBLPqmNmJ4ct/J5iBCOBjwF8zbOZPwGUp51Gnhe07geoM73kE+Gy4foWZDQWGAc1h+B5DMH91d7W/THC4+SspzV8BHnH3jcAG4DgzG2Bmwwhm+IJ9YftG2Gv9QHf7yeKzJOvJ+F2a2VHuvsTdryOYiWxsN5vq9xTAIiLZ+RhwiZk9S9CrPD9svxy42MyeAz4BXJHh/V8nOOf7nJmtYN9FUYsIAnC5mX047T1XEBwGfp7gUO9k4EEgHu7v68DiLGr/NMGUhS+bWRNBaH8GwN1fARYSzBA0nyCscfdtwE+B5wlmKns6i/1091lSZfouv2Nmz4ffzxPAs1nss9/SbEgiImXEgvm3/0BwEdQfoq6nnCmARUREIqBD0CIiIhFQAIuIiERAASwiIhIBBbCIiEgEFMAiIiIRUACLiIhE4P8DgqPK0OPY3fwAAAAASUVORK5CYII=\n",
>>>>>>> upstream/master
      "text/plain": [
       "<Figure size 576x288 with 2 Axes>"
      ]
     },
     "metadata": {
      "needs_background": "light"
     },
     "output_type": "display_data"
    }
   ],
   "source": [
<<<<<<< HEAD
    "# your code goes here - don't overwrite samp\n",
    "from astropy.stats import sigma_clip\n",
    "\n",
    "clipped_samp = sigma_clip(samp, cenfunc='mean', sigma_lower=3,masked=False)\n",
    "print (len(samp), len(clipped_samp) )\n",
    "fig = figure(figsize=(8, 4))\n",
    "ax1 = fig.add_subplot(1,2,1)\n",
    "ax2 = fig.add_subplot(1,2,2)\n",
    "ahist(clipped_samp, bins='freedman', density=True, ax=ax1)\n",
    "xmin, xmax = ax1.get_xlim()\n",
    "xval = np.arange(xmin, xmax+0.01, 0.001)\n",
    "estpdf  = st.norm.pdf(xval, loc=mu_samp, scale=sig_samp)\n",
    "ax1.plot(xval, estpdf, color='r', lw=2 ) #, label=fr'Est $\\mu=${mu_samp:.3f}, $\\sigma$={sig_samp:.3f}')\n",
    "#ax1.legend(frameon=False)\n",
    "sm.qqplot(clipped_samp, line='r', ax=ax2, marker='.')\n",
    "tight_layout()\n",
    "\n"
=======
    "from astropy.stats import sigma_clip\n",
    "# your code goes here - don't overwrite samp\n",
    "\n",
    "# you can change the threshold for sigma clipping - note that sigma is fairly large \n",
    "# with the methods of moments estimator, so you might have to make this small \n",
    "\n",
    "# the method is a bit ad hoc because of this threshold that you can tune\n",
    "# at 4-5 sigma, you may not see much of an effect at all\n",
    "# at 2-3 sigma, you might be clipping useful data\n",
    "clipped_samp = sigma_clip(samp, sigma=3, stdfunc='std', masked=False)\n",
    "\n",
    "fig = figure(figsize=(8, 4))\n",
    "ax1 = fig.add_subplot(1,2,1)\n",
    "ax2 = fig.add_subplot(1,2,2)\n",
    "\n",
    "# plot the sample and the sigma-clipped sample\n",
    "ahist(samp, bins='freedman', density=True, ax=ax1)\n",
    "ahist(clipped_samp, bins='freedman', density=True, ax=ax1, color='C1', alpha=0.5)\n",
    "\n",
    "# and the QQ plots\n",
    "sm.qqplot(samp, marker='.', color='C0', ax=ax2)\n",
    "sm.qqplot(clipped_samp, marker='.', color='C1', ax=ax2, alpha=0.5)\n",
    "\n",
    "print(\"Done\") # this is just to suppress Jupyter from making two plots "
>>>>>>> upstream/master
   ]
  },
  {
   "cell_type": "markdown",
   "metadata": {
    "slideshow": {
     "slide_type": "slide"
    }
   },
   "source": [
    "$\\sigma$-clipping is probably the most widely used outlier rejection method in the astronomy literature.\n",
    "\n",
    "However it is *ad hoc* - $\\sigma$ itself is changing each clipping iteration, but you cannot know how unless you know the underlying PDF that the sample was drawn from, including the outliers.\n",
    "\n",
    "It's also painfully slow with large quantities of data. "
   ]
  },
  {
   "cell_type": "markdown",
   "metadata": {
    "slideshow": {
     "slide_type": "slide"
    }
   },
   "source": [
    "## Alternative 2: L-estimators\n",
    "\n",
    "It's useful to have some summary statistics that describe distributions, which are robust to outliers, and can be computed fast.\n",
    "\n",
    "We assumed a form for the empirical PDF $f(x; \\theta)$, and used some moments as estimators. But there are other quantities that you can get from the empirical PDF that are more robust. "
   ]
  },
  {
   "cell_type": "markdown",
   "metadata": {
    "slideshow": {
     "slide_type": "subslide"
    }
   },
   "source": [
    "The quantile estimators we looked at in week 1 already have this behavior.\n",
    "\n",
    "### $$ p = \\int_{-\\infty}^{x_p} f(x) dx $$\n",
    "\n",
    "### and the median: $$ \\frac{1}{2} = \\int_{-\\infty}^{x_{\\frac{1}{2}} } f(x) dx $$"
   ]
  },
  {
   "cell_type": "markdown",
   "metadata": {
    "slideshow": {
     "slide_type": "subslide"
    }
   },
   "source": [
    "You can also define measures of the variance of the data. This was one - you've used it on your homework implicitly.\n",
    "\n",
    "### <center> $ \\text{IQR} = x_{\\frac{3}{4}} - x_{\\frac{1}{4}} $</center>\n",
    "\n",
    "For a normal distribution, $\\sigma = \\text{IQR}/2\\sqrt{2}\\cdot\\text{erf}^{-1}(\\frac{1}{2}) \\;\\; (\\approx1.349)$. This is another common L-estimator called the **Median Absolute Deviation**\n",
    "\n",
    "### <center> $ \\text{MAD}  = \\left| x_i - x_{\\frac{1}{2}} \\right| $ </center>\n",
    "\n",
    "For a normal distribution, $\\sigma = 1.4826\\cdot\\text{MAD}$\n"
   ]
  },
  {
   "cell_type": "code",
   "execution_count": 8,
   "metadata": {
    "slideshow": {
     "slide_type": "slide"
    }
   },
   "outputs": [
    {
     "data": {
      "image/png": "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\n",
      "text/plain": [
       "<Figure size 576x288 with 2 Axes>"
      ]
     },
     "metadata": {
      "needs_background": "light"
     },
     "output_type": "display_data"
    }
   ],
   "source": [
    "# if we repeat the exercise with robust estimators\n",
    "\n",
    "# these are just the robust estimators we discussed above in functional form\n",
    "# you can write your own functions from scratch if you like, but scipy.stats already has them\n",
    "# you should remember how to call MAD at least - it'll be something you use a lot\n",
    "median = np.median(samp)\n",
    "sig_robust = 1.4826*st.median_absolute_deviation(samp)\n",
    "sig_robust2 = st.iqr(samp)/1.349\n",
    "\n",
    "\n",
    "# same sort of plots we've been making\n",
    "fig = figure(figsize=(8, 4))\n",
    "ax1 = fig.add_subplot(1,2,1)\n",
    "ax2 = fig.add_subplot(1,2,2)\n",
    "\n",
    "# sample\n",
    "ahist(samp, bins='freedman', density=True, ax=ax1, alpha=0.5)\n",
    "xmin, xmax = ax1.get_xlim()\n",
    "xval = np.arange(xmin, xmax+0.01, 0.001)\n",
    "\n",
    "# this time, instead of applying the method of moments using the sample moments, we're using the L-estimators\n",
    "estpdf  = st.norm.pdf(xval, loc=median, scale=sig_robust)\n",
    "estpdf2  = st.norm.pdf(xval, loc=median, scale=sig_robust2)\n",
    "\n",
    "# overplot the estimated PDFs\n",
    "ax1.plot(xval, estpdf, color='C1', lw=2, label=fr'Est $\\mu=${median:.3f}, $\\sigma$ MAD={sig_robust:.3f}')\n",
    "ax1.plot(xval, estpdf2, color='C2', lw=2, label=fr'Est $\\mu=${median:.3f}, $\\sigma$ IQR={sig_robust2:.3f}')\n",
    "ax1.legend(frameon=False)\n",
    "\n",
    "# and the QQ plot\n",
    "sm.qqplot(samp, line='r', ax=ax2, marker='.')\n",
    "\n",
    "# and the trend lines\n",
    "nmin, nmax = ax2.get_xlim()\n",
    "nvals = np.arange(nmin, nmax+0.01, 0.01)\n",
    "y = median + sig_robust*nvals\n",
    "y2 = median + sig_robust2*nvals\n",
    "ax2.plot(nvals, y, '--', color='C1', lw=2, label='Using MAD')\n",
    "ax2.plot(nvals, y2, '-.', color='C2', lw=2, label='Using IQR')\n",
    "\n",
    "\n",
    "ax2.legend(frameon=False)\n",
    "tight_layout()"
   ]
  },
  {
   "cell_type": "markdown",
   "metadata": {
    "slideshow": {
     "slide_type": "slide"
    }
   },
   "source": [
    "L-estimators work well when:\n",
    "   * the data has outliers\n",
    "   * the data has no (or at least very small) uncertainties associated with it\n",
    "       * notice that we computed them from the sample, but made no mention/use of sample uncertainties"
   ]
  },
  {
   "cell_type": "markdown",
   "metadata": {
    "slideshow": {
     "slide_type": "slide"
    }
   },
   "source": [
    "## Alternative 3: M-estimators\n",
    "\n",
    "* As before, assume a form for the empirical PDF $f(x; \\theta)$\n",
    "* Define a **loss function** $\\rho(u)$ for some quantity $u$ e.g. $x - \\mu$\n",
    "* Minimize this loss over the sample\n",
    "    * $\\sum_{i=1}^{N} \\rho(u_i) $ "
   ]
  },
  {
   "cell_type": "markdown",
   "metadata": {
    "slideshow": {
     "slide_type": "slide"
    }
   },
   "source": [
    "### OK, so what the heck is a loss function now?\n",
    "\n",
    "If $(x_1, x_2..., x_N)$ is a set of i.i.d random variables from some distribution p(x) which we don't know, but want to estimate. \n",
    "\n",
    "What we're trying to do is to build an estimator for moments out of the sample.\n",
    "\n",
    "If we define\n",
    "\n",
    "## <center> $ \\rho(x, \\theta=\\mu) = \\frac{(x - \\mu)^2}{2} $ </center>\n",
    "\n",
    "How do you go about minimizing this with respect to $\\theta$?"
   ]
  },
  {
   "cell_type": "markdown",
   "metadata": {
    "slideshow": {
     "slide_type": "subslide"
    }
   },
   "source": [
    "For $u = x-\\mu$, there's several potential cost functions:\n",
    "\n",
    "## <center> $\\rho(u) = u^2$ </center>\n",
    "    \n",
    "is an old friend to all of you. It's the **sum of squared residuals** or what we sometimes call the $L_2$ norm.\n",
    "\n",
    "Of the loss functions, this is the nicest behaved - it's **convex** and **differentiable**"
   ]
  },
  {
   "cell_type": "markdown",
   "metadata": {
    "slideshow": {
     "slide_type": "slide"
    }
   },
   "source": [
    "### In class exercise\n",
    "\n",
    "Let's use the sum of least squares M-estimator to evaluate the mean of our sample in the previous section\n",
    "\n",
    "If you are starting here on Thursday, make sure you execute previous cells in the notebook (might be easiest to \"Restart and Run All\" from the Kernel menu)"
   ]
  },
  {
   "cell_type": "code",
   "execution_count": 9,
   "metadata": {
    "slideshow": {
     "slide_type": "subslide"
    }
   },
   "outputs": [],
   "source": [
    "# first we need to define a the loss function that returns the sum of squared residuals for some value of theta=mu\n",
    "\n",
    "def sum_of_squared_residuals(mu):\n",
    "        \"\"\"\n",
    "        This is a simple sum of squared residuals function\n",
    "        \"\"\"\n",
    "        # samp is in the Namespace for this function\n",
    "        # we could make a more general function by passing the data in as an argument\n",
    "\n",
    "        residual = samp - mu\n",
    "        return np.sum(residual**2.)"
   ]
  },
  {
   "cell_type": "code",
   "execution_count": 10,
   "metadata": {
    "slideshow": {
     "slide_type": "subslide"
    }
   },
   "outputs": [],
   "source": [
    "# next lets evaluate this function over the range of the sample\n",
    "# there are numerical ways to do this, but we'll brute force it\n",
    "\n",
    "\n",
    "# we'll create a grid of points in x and evaluate the loss function at each position\n",
    "# we can get the limits from the plot in the previous section\n",
    "xmin, xmax = ax1.get_xlim()\n",
    "x_grid = np.arange(xmin, xmax, 0.01)\n",
    "\n",
    "# and then we want to evaluate the loss function\n",
    "ssr = [sum_of_squared_residuals(x) for x in x_grid]"
   ]
  },
  {
   "cell_type": "code",
   "execution_count": 11,
   "metadata": {
    "slideshow": {
     "slide_type": "subslide"
    }
   },
   "outputs": [
    {
     "data": {
      "text/plain": [
       "Text(0, 0.5, 'Sum of Squared Residuals')"
      ]
     },
     "execution_count": 11,
     "metadata": {},
     "output_type": "execute_result"
    },
    {
     "data": {
      "image/png": "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\n",
      "text/plain": [
       "<Figure size 576x576 with 2 Axes>"
      ]
     },
     "metadata": {
      "needs_background": "light"
     },
     "output_type": "display_data"
    }
   ],
   "source": [
    "# finally histogram the sample and overplot the loss function and sample\n",
    "\n",
    "# the sample is easy - we've done that a bunch already\n",
    "fig = figure(figsize=(8,8))\n",
    "ax1 = fig.add_subplot(111)\n",
    "ahist(samp, ax=ax1, bins=\"freedman\")\n",
    "ax1.set_xlabel('x')\n",
    "ax1.set_ylabel('#')\n",
    "\n",
    "# if you have a matplotlib axis, you can create a twin axis with the same x axis but a different y axis with\n",
    "ax2 = ax1.twinx()\n",
    "ax2.set_ylabel('Sum of Squared Residuals')\n",
    "\n",
    "# Now plot the loss function you evaluated as a function of x - use a different color than the default\n",
    "# YOUR CODE GOES HERE:\n",
    "\n",
    "# find the minimum of the LOSS FUNCTION and plot a vertical line at the location of the minimum\n",
    "# use the came color as above\n",
    "# YOUR CODE GOES HERE:"
   ]
  },
  {
   "cell_type": "markdown",
   "metadata": {
    "slideshow": {
     "slide_type": "subslide"
    }
   },
   "source": [
    "**Differentiability implies continuity. Continuity does not guarantee differentiability.**\n",
    "\n",
    "Most M-estimators aren't nicely differentiable, but often have other properties - such as resistance to outliers.\n",
    "\n",
    "You've already seen another loss function:\n",
    "\n",
    "### <center> $\\rho(u) = \\left|u \\right|$ </center>\n",
    "\n",
    "This is the sum of absolute residuals and is related directly to the MAD. You might see it called the $L_1$ norm, particularly in machine learning literature. "
   ]
  },
  {
   "cell_type": "markdown",
   "metadata": {
    "slideshow": {
     "slide_type": "subslide"
    }
   },
   "source": [
    "### Other loss functions you'll see\n",
    "\n",
    "<center> <img src=\"./figures/loss_functions.jpg\"> </center>"
   ]
  },
  {
   "cell_type": "markdown",
   "metadata": {
    "slideshow": {
     "slide_type": "slide"
    }
   },
   "source": [
    "### M-estimators and The Likelihood Function\n",
    "\n",
    "If we know the distribution from which our data were drawn (or make a hypothesis about it), then we can compute the **probability** of our data being generated.\n",
    "\n",
    "For example, for the Gaussian distribution probablity of getting a specific value of $x$ is given by:\n",
    "\n",
    "## $$p(x|\\mu,\\sigma) = \\frac{1}{\\sigma\\sqrt{2\\pi}} \\exp\\left(\\frac{-(x-\\mu)^2}{2\\sigma^2}\\right).$$"
   ]
  },
  {
   "cell_type": "markdown",
   "metadata": {
    "slideshow": {
     "slide_type": "subslide"
    }
   },
   "source": [
    "### The Likelihood Function\n",
    "\n",
    "If we want to know the total probability of our *entire* data set (as opposed to one measurement) then we must compute the *product* of all the individual probabilities:\n",
    "\n",
    "## $$L \\equiv p(\\{x_i\\}|H(\\theta)) = \\prod_{i=1}^n p(x_i|H(\\theta)),$$\n",
    "\n",
    "where $H$ refers to the *hypothesis* and $\\theta$ refers collectively to the $k$ parameters of the model, which can generally be multi-dimensional. \n",
    "\n",
    "\n",
    "In words, this is ***the probability of the data given the model parameters***. "
   ]
  },
  {
   "cell_type": "markdown",
   "metadata": {
    "slideshow": {
     "slide_type": "skip"
    }
   },
   "source": [
    "Note that this implicitly assumes that the measurements in your sample are, as always, i.i.d\n",
    "\n",
    "\n",
    "Recall (from the axioms of probability) that:\n",
    "\n",
    "## $$ P(A \\cap B)  = P(A|B)\\cdot P(B) = P(B|A)\\cdot P(A)$$\n",
    "and iff:\n",
    "## $$ P(A \\cap B) = P(A) \\cdot P(B) $$ then $A$ and $B$ are **independent**.\n"
   ]
  },
  {
   "cell_type": "markdown",
   "metadata": {
    "slideshow": {
     "slide_type": "subslide"
    }
   },
   "source": [
    "\n",
    "We can write this out as:\n",
    "### $$L = \\prod_{i=1}^n \\frac{1}{\\sigma\\sqrt{2\\pi}} \\exp\\left(\\frac{-(x_i-\\mu)^2}{2\\sigma^2}\\right),$$\n",
    "\n",
    "This can simplify to\n",
    "### $$L = \\left( \\prod_{i=1}^n \\frac{1}{\\sigma\\sqrt{2\\pi}} \\right) \\exp\\left( -\\frac{1}{2} \\sum \\left[\\frac{-(x_i-\\mu)}{\\sigma} \\right]^2 \\right),$$\n",
    "\n",
    "where we have written the product of the exponentials as the exponential of the sum of the arguments, which will make things easier to deal with later.\n",
    "\n",
    "i.e. we have done this: \n",
    "### $$\\prod_{i=1}^n A_i \\exp(-B_i) = (A_iA_{i+1}\\ldots A_n) \\exp[-(B_i+B_{i+1}+\\ldots+B_n)]$$"
   ]
  },
  {
   "cell_type": "markdown",
   "metadata": {
    "slideshow": {
     "slide_type": "subslide"
    }
   },
   "source": [
    "The argument of the exponential is just\n",
    "\n",
    "### $$\\exp \\left(-\\frac{\\chi^2}{2}\\right).$$\n",
    "\n",
    "where, for our Gaussian distribution\n",
    "### $$\\chi^2 = \\sum_{i=1}^n \\left ( \\frac{x_i-\\mu}{\\sigma}\\right)^2.$$"
   ]
  },
  {
   "cell_type": "markdown",
   "metadata": {
    "slideshow": {
     "slide_type": "subslide"
    }
   },
   "source": [
    "At some specific values of the model parameters, $\\theta$, we can evaluate the likelihood of our data, given the model (you did this with the sum of squared residuals) i.e \n",
    "\n",
    "### $$p(D | \\theta)$$"
   ]
  },
  {
   "cell_type": "markdown",
   "metadata": {
    "slideshow": {
     "slide_type": "skip"
    }
   },
   "source": [
    "**Note**\n",
    "\n",
    "For multidimensional distributions, as we will see later in the course, the uncertainties come in the form of a covariance matrix where there uncertainties can be correlated. This still assumes Gaussianity\n",
    "\n",
    "## $$ L = p(D\\; | \\;  \\pmb \\theta\\;) =  \\prod_{k=1}^{n} \\; \\frac{1}{(2\\pi)^{d/2} \\; |\\Sigma|^{1/2}} exp \\bigg[ -\\frac{1}{2}(\\pmb x - \\pmb \\mu)^t \\Sigma^{-1}(\\pmb x - \\pmb \\mu) \\bigg]$$\n",
    "\n",
    "where $\\Sigma$ is the covariance matrix and $d$ is the dimensionality"
   ]
  },
  {
   "cell_type": "markdown",
   "metadata": {
    "slideshow": {
     "slide_type": "subslide"
    }
   },
   "source": [
    "For practical reasons, it's better to work with the natural logarithm of the likelihood (we'll get to why in a few slides)\n",
    "\n",
    "We define the *log-likelihood function* as ${\\rm lnL} = \\ln[L(\\theta)]$.  The maximum of this function happens at the same place as the maximum of $L$. Given all that, we have:\n",
    "\n",
    "## $${\\rm lnL} = {\\rm constant} - \\sum_{i=1}^N \\frac{(x_i - \\mu)^2}{2\\sigma^2}.$$"
   ]
  },
  {
   "cell_type": "markdown",
   "metadata": {
    "slideshow": {
     "slide_type": "subslide"
    }
   },
   "source": [
    "We then determine the maximum in the same way that we always do.  It is the parameter set for which the derivative of ${\\rm lnL}$ is zero:\n",
    "\n",
    "$$\\frac{d\\;{\\rm lnL}(\\mu)}{d\\mu}\\Biggr\\rvert_{\\hat \\mu} \\equiv 0.$$\n",
    "\n",
    "That gives $$ \\sum_{i=1}^N \\frac{(x_i - \\hat \\mu)}{\\sigma^2} = 0.$$\n",
    "\n",
    "(note: we should also check that the $2^{\\rm nd}$ derivative is negative, to ensure this is the *maximum* of $L$)\n",
    "\n",
    "(also note: any constants in $\\ln L$ disappear when differentiated, so constant terms can typically be ignored.)"
   ]
  },
  {
   "cell_type": "markdown",
   "metadata": {
    "slideshow": {
     "slide_type": "subslide"
    }
   },
   "source": [
    "So, maximizing the likelihood is the same as minimizing $\\chi^2$:\n",
    "\n",
    "Maximizing the likelihood is solving for the extremum of:\n",
    "### $$ L \\sim \\exp \\left(-\\frac{\\chi^2}{2}\\right).$$\n",
    "\n",
    "is the same as Maximizing the natural logarithm of the likelihood:\n",
    "(because the log is a monotonically increasing function)\n",
    "\n",
    "### $$ \\ln (L) \\sim -\\frac{\\chi^2}{2}$$\n",
    "\n",
    "and therefore is the same as **minimizing** the negative log likelihood:\n",
    "\n",
    "### $$ -\\ln(L) \\sim \\frac{\\chi^2}{2}$$\n",
    "\n",
    "\n",
    "i.e. maximum likelihood estimation - and $\\chi^2$ minimization are just a special case of M-estimators. "
   ]
  },
  {
   "cell_type": "markdown",
   "metadata": {
    "slideshow": {
     "slide_type": "subslide"
    }
   },
   "source": [
    "Since $\\sigma = {\\rm constant}$, that says \n",
    "## $$\\sum_{i=1}^N x_i = \\sum_{i=1}^N \\hat \\mu = N \\hat \\mu.$$\n",
    "\n",
    "Thus we find that\n",
    "## $$\\hat \\mu = \\frac{1}{N}\\sum_{i=1}^N x_i,$$\n",
    "which is just the arithmetic mean of all the measurements."
   ]
  },
  {
   "cell_type": "markdown",
   "metadata": {
    "slideshow": {
     "slide_type": "subslide"
    }
   },
   "source": [
    "## This is how we started the week with the method of moments.\n"
   ]
  },
  {
   "cell_type": "markdown",
   "metadata": {
    "slideshow": {
     "slide_type": "subslide"
    }
   },
   "source": [
    "### The Sample Mean is an ML Estimator\n",
    "\n",
    "The mean of observations drawn from a $N(\\mu, \\sigma=const)$ distribution is a maximum-likelihood estimator of the distribution's $\\mu$ parameter.\n",
    "\n",
    "We'd used this and guessed this intuitively, but this derivation clarifies our choice: as an estimator of the real value of $\\mu$, we adopt the value $\\hat \\mu$ with which it's maximally likely for the measured data set to occur.\n",
    "\n",
    "It also exposes the ***assumptions*** behind this conclusion; namely homoscedasticity and gaussianity of uncertainties. For example, if our uncertainties were Cauchy-distributed the mean (or any higher moment) is not define"
   ]
  },
  {
   "cell_type": "markdown",
   "metadata": {
    "slideshow": {
     "slide_type": "subslide"
    }
   },
   "source": [
    "## The Core Idea Behind Maximum Likelihood Estimators\n",
    "\n",
    "Let's say that we know that some data were drawn from a Gaussian distribution, but we don't know the $\\theta = (\\mu,\\sigma)$ values of that distribution (i.e., the parameters).\n",
    "\n",
    "Then Maximum Likelihood Estimation method tells us to think of the likelihood as a ***function of the unknown model parameters***, and ***find those that maximize the value of $L$***. Those will be our Maximum Likelihood Estimators for for the true values of the model."
   ]
  },
  {
   "cell_type": "markdown",
   "metadata": {
    "slideshow": {
     "slide_type": "subslide"
    }
   },
   "source": [
    "**NOTE**\n",
    "\n",
    "The Likelihood function is the joint **probability density** of all measurements. \n",
    "\n",
    "For each measurment we have a probablity density. These probability densities have **units**. \n",
    "\n",
    "They are the reciprical of the units of the measurement (as the integrated probability does not have units but the interval over which we are integrating does)."
   ]
  },
  {
   "cell_type": "markdown",
   "metadata": {
    "slideshow": {
     "slide_type": "subslide"
    }
   },
   "source": [
    "You will generally see people minimizing the negative log likelihood rather than maximizing the likelihood directly\n",
    "\n",
    "The reason is fairly simple:\n",
    "\n",
    "While the components of $L$ may be normalized pdfs, their *product* is not. \n",
    "\n",
    "The PDFs often yield verys small numbers, which you are then multiplying together, making even smaller numbers.\n",
    "\n",
    "### $$10^{-24}$$ is pretty small\n",
    "\n",
    "### $$ \\log_{10}(10^{-24}) = -24$$ is not!"
   ]
  },
  {
   "cell_type": "markdown",
   "metadata": {
    "slideshow": {
     "slide_type": "subslide"
    }
   },
   "source": [
    "### Properties of ML Estimators\n",
    "\n",
    "Assuming the data truly are drawn from the model, ML estimators have the following useful properties:\n",
    "\n",
    "* **They are consistent estimators**; that is, they can be proven to converge to the true parameter value as the number of data points increases.\n",
    "\n",
    "* **They are asymptotically normal estimators**. The distribution of the parameter estimate, as the number of data points increases to infinity, approaches a normal distribution, centered at the MLE, with a certain spread. \n",
    "\n",
    "* **This spread can often be easily calculated and used as a confidence band around the estimate**"
   ]
  },
  {
   "cell_type": "markdown",
   "metadata": {
    "slideshow": {
     "slide_type": "subslide"
    }
   },
   "source": [
    "Estimators (L-, M-, and the special case of MLE) are themselves random variables \n",
    "\n",
    "They can only be determined given the data after all and the observations are themselves random variables\n",
    "\n",
    "So it's reasonable to ask how confident we are in our estimate - what is the uncertainty."
   ]
  },
  {
   "cell_type": "markdown",
   "metadata": {
    "slideshow": {
     "slide_type": "subslide"
    }
   },
   "source": [
    "## Quantifying Estimate Uncertainty\n",
    "\n",
    "We *define* the uncertainty on our MLEs using the second (partial) derivatives of log-likelihood:\n",
    "\n",
    "## $$\\sigma_{jk} = \\left( - \\frac{d^2}{d\\theta_j} \\frac{\\ln L}{d\\theta_k} \\Biggr\\rvert_{\\theta=\\hat \\theta}\\right)^{-1/2}.$$\n",
    "\n",
    "Taken together, these entries (more accurately, their squares) are know as the **covariance matrix**. We'd defined this in terms on samples from a bivariate distribution last week. Now we're redefining it in terms of the likelihood!\n",
    "\n",
    "This is also called the **Fisher-information matrix, $I(\\theta)$** \n",
    "\n",
    "The marginal error bars for each parameter, $\\theta_i$ are given by the diagonal elements, $\\sigma_{ii}$. These are the \"error bars\" that are typically quoted with each measurement. Off diagonal elements, $\\sigma_{ij}$, arise from any correlation between the parameters in the model."
   ]
  },
  {
   "cell_type": "markdown",
   "metadata": {
    "slideshow": {
     "slide_type": "subslide"
    }
   },
   "source": [
    "In our example with Gaussian likelihoods, the uncertainly on the mean is \n",
    "## $$\\sigma_{\\mu} = \\left( - \\frac{d^2\\ln L(\\mu)}{d\\mu^2}\\Biggr\\rvert_{\\hat \\mu}\\right)^{-1/2}$$\n",
    "\n",
    "We find\n",
    "## $$\\frac{d^2\\ln L(\\mu)}{d\\mu^2}\\Biggr\\rvert_{\\hat \\mu} = - \\sum_{i=1}^N\\frac{1}{\\sigma^2} = -\\frac{N}{\\sigma^2},$$\n",
    "since, again, $\\sigma = {\\rm constant}$.  \n",
    "\n",
    "Then \n",
    "## $$\\sigma_{\\mu} = \\frac{\\sigma}{\\sqrt{N}}.$$\n",
    "\n",
    "So, our estimator of $\\mu$ is $\\overline{x}\\pm\\frac{\\sigma}{\\sqrt{N}}$, which is a result that you should be familiar with."
   ]
  },
  {
   "cell_type": "markdown",
   "metadata": {
    "slideshow": {
     "slide_type": "subslide"
    }
   },
   "source": [
    "### Connecting Uncertainty back to Geometry\n",
    "\n",
    "OK, so we're happy with the second derivative of the log likelihood at the MLE looking like an uncertainty for a Gaussian.\n",
    "\n",
    "\n",
    "But it's reasonable to ask why this works for any general likelihood function?\n",
    "\n",
    "The result for $\\sigma_{\\mu}$ has been derived by expanding $\\ln L$ in a Taylor series and retaining terms up to second order (essentially, $\\ln L$ is approximated by a parabola, or an ellipsoidal surface in multidimensional cases, around its maximum)."
   ]
  },
  {
   "cell_type": "markdown",
   "metadata": {
    "slideshow": {
     "slide_type": "subslide"
    }
   },
   "source": [
    "If this expansion is exact (as is the case for a Gaussian error distribution), then we've completely captured the error information.\n",
    "\n",
    "In general, this is not the case and the likelihood surface can significantly deviate from a smooth elliptical surface. \n",
    "\n",
    "Furthermore, it often happens in practice that the likelihood surface is multimodal. \n",
    "\n",
    "It is always a good idea to visualize the likelihood surface when in doubt.\n",
    "\n",
    "### i.e. LOOK AT YOUR DATA"
   ]
  },
  {
   "cell_type": "markdown",
   "metadata": {
    "slideshow": {
     "slide_type": "subslide"
    }
   },
   "source": [
    "### The Cramer-Rao bound\n",
    "\n",
    "If you have an unbiased estimator of a parameter $T(\\theta)$, such as a ML estimator with a large number of samples, this estimator has a minimum possible uncertainty.\n",
    "\n",
    "That variance of the estimator is bounded by \n",
    "\n",
    "## $$ \\text{Var}(T(\\theta)) \\geq \\frac{1}{I(\\theta)} $$\n",
    "\n",
    "where $I(\\theta)$ is the Fisher information matrix."
   ]
  },
  {
   "cell_type": "markdown",
   "metadata": {
    "slideshow": {
     "slide_type": "subslide"
    }
   },
   "source": [
    "### This is why the Fisher information is used in error analysis\n",
    "\n",
    "* If you have an estimate of the likelihood (assuming some model) of the data, you can compute the maximum.\n",
    "\n",
    "* If you can compute the maximum, you can also compute how the likelihood changes near the maximum, approximating it with a parabola/n-dimensional ellipsoid.\n",
    "\n",
    "* This lets you compute the Fisher information.\n",
    "\n",
    "* The Cramer-Rao bound says that this is the best case you can do if your estimator is unbiased. \n",
    "\n",
    "* If your estimator actually attains this limit, it is said to be *efficient*"
   ]
  },
  {
   "cell_type": "markdown",
   "metadata": {
    "slideshow": {
     "slide_type": "subslide"
    }
   },
   "source": [
    "## Goodness of Fit\n",
    "\n",
    "The MLE approach tells us what the \"best\" model parameters are, but not how good the fit actually is.  \n",
    "(You already know the MLE estimate can be poor if there are outliers).\n",
    "\n",
    "If the model is wrong, \"best\" might not be particularly revealing!  \n",
    "\n",
    "We can describe the **goodness of fit** as whether or not it is likely to have obtained $\\ln L_0$ by randomly drawing from the data.  That means that we need to know the *distribution* of $\\ln L$. "
   ]
  },
  {
   "cell_type": "markdown",
   "metadata": {
    "slideshow": {
     "slide_type": "subslide"
    }
   },
   "source": [
    "## Goodness of Fit\n",
    "\n",
    "For the Gaussian case, we can write\n",
    "\n",
    "### $$z_i = (x_i-\\mu)/\\sigma,$$ \n",
    "then\n",
    "### $$\\ln L = {\\rm constant} - \\frac{1}{2}\\sum_{i=1}^N z^2 = {\\rm constant} - \\frac{1}{2}\\chi^2.$$\n",
    "\n",
    "So **$\\ln L$ is distributed as $\\chi^2$ (with $N-k$ degrees of freedom).**"
   ]
  },
  {
   "cell_type": "markdown",
   "metadata": {
    "slideshow": {
     "slide_type": "subslide"
    }
   },
   "source": [
    "## Goodness of Fit\n",
    "\n",
    "\n",
    "The expectation value for the $\\chi^2$ distribution is $N − k$ and its standard deviation is $\\sqrt{2(N − k)}$. We typically have $N \\gg k$ (where $N$ is the number of data points, and $k$ is the number of parameters in the model). When that holds, it becomes useful to define **$\\chi^2$ per degree of freedom, $\\chi^2_{dof}$**, as:\n",
    "\n",
    "## $$\\chi^2_{dof} = \\frac{1}{N-k}\\sum_{i=1}^N z^2_i.$$\n",
    "\n",
    "Therefore, for a good fit we would expect that $\\chi^2_{dof}\\approx 1$ (the expectation value).  If $\\chi^2_{dof}$ is significantly larger than 1, then it is likely that we are not using the correct model.\n",
    "\n",
    "We can also get overly high or low values of $\\chi^2_{dof}$ if our uncertainties are under- or over-estimated. This is particularly interesting when we have correlated uncertainties"
   ]
  },
  {
   "cell_type": "markdown",
   "metadata": {
    "slideshow": {
     "slide_type": "subslide"
    }
   },
   "source": [
    "\n",
    "![Ivezic, Figure 4.1](http://www.astroml.org/_images/fig_chi2_eval_1.png)"
   ]
  }
 ],
 "metadata": {
  "celltoolbar": "Slideshow",
  "kernelspec": {
   "display_name": "Python 3",
   "language": "python",
   "name": "python3"
  },
  "language_info": {
   "codemirror_mode": {
    "name": "ipython",
    "version": 3
   },
   "file_extension": ".py",
   "mimetype": "text/x-python",
   "name": "python",
   "nbconvert_exporter": "python",
   "pygments_lexer": "ipython3",
   "version": "3.7.6"
  }
 },
 "nbformat": 4,
 "nbformat_minor": 4
}
