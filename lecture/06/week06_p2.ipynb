{
 "cells": [
  {
   "cell_type": "code",
   "execution_count": 1,
   "metadata": {
    "slideshow": {
     "slide_type": "skip"
    }
   },
   "outputs": [],
   "source": [
    "from notebook.services.config import ConfigManager\n",
    "cm = ConfigManager()\n",
    "cm.update('livereveal', {\n",
    "        'width': 1920,\n",
    "        'height': 1080,\n",
    "        'scroll': True,\n",
    "})\n",
    "%config InlineBackend.figure_format = 'retina'"
   ]
  },
  {
   "cell_type": "markdown",
   "metadata": {
    "slideshow": {
     "slide_type": "slide"
    }
   },
   "source": [
    "# Week 06, ASTR 596: Fundamentals of Data Science\n",
    "\n",
    "\n",
    "## Effective Sampling Techniques, Credible Regions, Posterior Predictive Checks\n",
    "\n",
    "### Gautham Narayan \n",
    "##### <gsn@illinois.edu>\n",
    "\n",
    "Borrowing heavily from David Kirkby and Adam Mantz this week"
   ]
  },
  {
   "cell_type": "markdown",
   "metadata": {
    "slideshow": {
     "slide_type": "slide"
    }
   },
   "source": [
    "# <center> HW4 Solutions Posted </center>\n",
    "\n",
    "### We're going to talk about the solution I posted. Nevertheless you should review.\n",
    "\n",
    "### Reviewer/Coder pairs already set on github (check your email)! Work with each other! \n",
    "\n",
    "### It is OK if you don't have a solution to a particular problem - that's the point! See how someone else approached the same problem, and if you and they get different results try to figure out why\n",
    "\n",
    "### Not doing this because new fangled pedagogical practice - this is literally how we science works\n"
   ]
  },
  {
   "cell_type": "markdown",
   "metadata": {
    "slideshow": {
     "slide_type": "slide"
    }
   },
   "source": [
    "## Recap: MCMC\n",
    "\n",
    "* We're focusing on how to sample the posterior distribution, having written down our model, likelihood and priors\n",
    "* You've seen two ways to sample:\n",
    "    * Metropolis-Hastings (simple rejection sampling applied to MCMC)\n",
    "    * ensemble sampling/affine-invariant (Many correlated Markov Chains being generated independently)\n",
    "\n",
    "* One big advantage is that you don't need derivative information for either of these\n",
    "    * this is helpful since we started down this path because the real functions we encounter in research are too complicated to be evaluated analytically - which means getting a derivative is a numerical exercise\n",
    "    \n",
    "* Another advantage is that since you are sampling the posterior fully, you can get reasonable credible regions for your parameters (as opposed to confidence intervals from your data!) "
   ]
  },
  {
   "cell_type": "markdown",
   "metadata": {
    "slideshow": {
     "slide_type": "slide"
    }
   },
   "source": [
    "* These MCMC methods work much better than local or global optimizers when the number of dimensions in your problem is high (they're often the only thing you can do).\n",
    "* They don't completely escape the curse of dimensionality:\n",
    "    * with MH, you need to specify the proposal distribution \"just right\" in all the dimensions, or mixing will be slow\n",
    "    * with affine-invariant MCMC, the number of walkers you use scales linearly, but the volume they have to traverse scales as a power of the number of dimensions\n",
    "\n",
    "* **Advice:** It's very unlikely you will use MH directly for research. \n",
    "    * Use an ensemble method or one of the samplers we discuss today.\n",
    "    * MCMC is not a magic bullet - just because you sampled the posterior, doesn't mean your samples are useful\n",
    "        * Minimally, check traceplot and autocorrelation, discard burn-in and thin \n",
    "        * Ideally, start multiple chains and check Gelman-Rubin statistic, run for several autocorrelation lengths\n",
    "        * **No substitute for visual inspection**\n",
    "        * As with the datasaurus, simple stats like Gelman-Rubin may not be informative/useful"
   ]
  },
  {
   "cell_type": "markdown",
   "metadata": {
    "slideshow": {
     "slide_type": "slide"
    }
   },
   "source": [
    "## Recall \n",
    "\n",
    "<table>\n",
    "    <tr>\n",
    "        <td>\n",
    "            Markov Chains are specified by two things: Starting Position and Transition Probability<br>\n",
    "            <img src=\"ReversibleMarkovChain.png\" width=100%>\n",
    "        </td>\n",
    "    </tr>\n",
    "</table>\n",
    "\n",
    "## Other samplers are just different strategies for starting position and transition probability\n",
    "\n",
    "* Affine-invariant MCMC (i.e. emcee/Goodman-Weare) starts many walkers (i.e. different starting positions) and transition probability set by ensemble of walkers\n"
   ]
  },
  {
   "cell_type": "markdown",
   "metadata": {
    "slideshow": {
     "slide_type": "slide"
    }
   },
   "source": [
    "## We want samples even if our function is fairly pathological \n",
    "\n",
    "<table>\n",
    "    <tr>\n",
    "        <td>\n",
    "            Cosmology is bananas<br>\n",
    "            <img src=\"mc2_banana_eg.png\" width=100%>\n",
    "        </td>\n",
    "        <td></td>\n",
    "        <td>\n",
    "            The Rosenbrock function<br>\n",
    "           <img src=\"mc2_rosenbrock.png\" width=100%>\n",
    "        </td>\n",
    "    </tr>\n",
    "</table>\n",
    "\n",
    "MH can be very ineffective here because there is **no one right step size.**\n",
    "Affine-invariant is good for figuring out the step size that works with **linear transformations** of the posterior, but the posterior here can't be transformed linearly."
   ]
  },
  {
   "cell_type": "markdown",
   "metadata": {
    "slideshow": {
     "slide_type": "slide"
    }
   },
   "source": [
    "# In Class Exercise:\n",
    "\n",
    "Here are some simple functions. Use my MH sampling code to sample them, and compare to what you get on a grid of x, y"
   ]
  },
  {
   "cell_type": "code",
   "execution_count": 10,
   "metadata": {
    "slideshow": {
     "slide_type": "slide"
    }
   },
   "outputs": [],
   "source": [
    "import numpy as np\n",
    "\n",
    "def Rosenbrock_lnP(x, y, a=1.0, b=100.0):\n",
    "    if y < 0.0: return -np.inf\n",
    "    return -( (a-x)**2 + b*(y-x**2)**2 )\n",
    "\n",
    "def eggbox_lnP(x, y):\n",
    "    return (2.0 + np.cos(0.5*x)*np.cos(0.5*y))**3\n",
    "\n",
    "def sphshell_lnP(x, y, s=0.1):\n",
    "    return -(np.sqrt(x**2+y**2) - 1)**2/(2.0*s**2)\n"
   ]
  },
  {
   "cell_type": "code",
   "execution_count": 7,
   "metadata": {
    "slideshow": {
     "slide_type": "slide"
    }
   },
   "outputs": [],
   "source": [
    "def metropolis_hastings(p, x0, sigma, *args, nsamp=1000):\n",
    "    \n",
    "    ndim = len(x0)\n",
    "    try:\n",
    "        test_val = p(*x0, *args)\n",
    "        if not np.isfinite(test_val):\n",
    "            raise ValueError('Function at starting position is not finite')\n",
    "        \n",
    "        if test_val == 0.:\n",
    "             raise ValueError('Function at starting position must be non-zero')\n",
    "                \n",
    "    except Exception as e:\n",
    "        message = f'{e}\\nCannot initialize sampler at this position'\n",
    "        raise ValueError(message)\n",
    "    \n",
    "        \n",
    "    # we need something to save the samples we want\n",
    "    samples = np.zeros((nsamp, ndim))    \n",
    "\n",
    "    x = np.array(x0)\n",
    "    sigma = np.array(sigma)\n",
    "    \n",
    "    # the position and step size arrays had better be the same \n",
    "    assert x.shape == sigma.shape, 'Shape of x and shape of sigma must be the same'\n",
    "    \n",
    "    # while we want more samples\n",
    "    for i in range(nsamp):\n",
    "\n",
    "        # now we adjust the initial position a little\n",
    "        # instead of explictly definition g(x|x') and g(x'|x)\n",
    "        # we can recognize that a Gaussian is a stationary kernel\n",
    "        # as we discussed in class, this is nice because \n",
    "        # all that matters is the absolute difference between x' and x\n",
    "        # and if that's the case, then g(x'|x) = g(x|x')\n",
    "        x_prime = x + sigma*np.random.randn(ndim)\n",
    "\n",
    "\n",
    "        if np.random.rand() < (p(*x_prime, *args) / p(*x, *args)):\n",
    "            x = x_prime\n",
    "            \n",
    "        # we save the sample to the chain\n",
    "        samples[i] = x\n",
    "    return samples\n",
    "\n",
    "\n",
    "\n",
    "\n",
    "def mh_demo(p, x0, sigma, nsamp=1000):\n",
    "    samples = metropolis_hastings(p, x0, sigma, nsamp=nsamp)\n",
    "\n",
    "    \n",
    "    # create some axes\n",
    "    fig, axs = plt.subplots(nrows=1, ncols=3, figsize=(12, 4))\n",
    "    ax0, ax1, ax2 = axs\n",
    "    \n",
    "    # plot all the data in grey\n",
    "    ax0.scatter(samples[:, 0], samples[:, 1], color='grey', alpha=0.1, marker='.')\n",
    "    ax1.plot(samples[:, 0], marker='.', color='grey', alpha=0.1, ls='-')\n",
    "    ax2.plot(samples[:, 1], marker='.', color='grey', alpha=0.1, ls='-')\n",
    "    return fig\n",
    "    "
   ]
  },
  {
   "cell_type": "code",
   "execution_count": 12,
   "metadata": {
    "slideshow": {
     "slide_type": "slide"
    }
   },
   "outputs": [
    {
     "data": {
      "image/png": "[encoded data removed]",
      "text/plain": [
       "<Figure size 1200x400 with 3 Axes>"
      ]
     },
     "execution_count": 12,
     "metadata": {},
     "output_type": "execute_result"
    }
   ],
   "source": [
    "# Your code here"
   ]
  },
  {
   "cell_type": "markdown",
   "metadata": {
    "slideshow": {
     "slide_type": "slide"
    }
   },
   "source": [
    "## Speeding things up\n",
    "\n",
    "Broadly speaking, we can try to\n",
    "1. tailor algorithms to specific classes of PDF\n",
    "2. look for ways to make the general samplers more intelligent\n",
    "\n",
    "We can also use different samplers for different subsets of parameters - the only rule is that every parameter must get updated somehow."
   ]
  },
  {
   "cell_type": "markdown",
   "metadata": {
    "slideshow": {
     "slide_type": "slide"
    }
   },
   "source": [
    "## Gibbs Sampling\n",
    "is a specialization of Metropolis-Hastings:\n",
    "* Instead of making a general proposal in all dimensions, we cycle through the parameters proposing changes to **one at a time**\n",
    "* A proposal for $\\theta_i$ is into the **fully conditional posterior** $p(\\theta_i|\\theta_{-i},x)$, where $-i$ means all subscripts other than $i$."
   ]
  },
  {
   "cell_type": "markdown",
   "metadata": {
    "slideshow": {
     "slide_type": "slide"
    }
   },
   "source": [
    "Gibbs sampling:\n",
    "```\n",
    "while we want more samples\n",
    "    propose theta1 | theta2, theta3, ..., data\n",
    "    accept/reject theta1\n",
    "    propose theta2 | theta1, theta3, ..., data\n",
    "    accept/reject theta2\n",
    "    ...\n",
    "```"
   ]
  },
  {
   "cell_type": "markdown",
   "metadata": {
    "slideshow": {
     "slide_type": "slide"
    }
   },
   "source": [
    "### Example: normal PDF\n",
    "\n",
    "25 Metropolis iterations (left) vs. 25 Gibbs transitions (right)\n",
    "\n",
    "Color goes blue$\\rightarrow$red with time (step number)\n",
    "\n",
    "<table>\n",
    "    <tr>\n",
    "        <td>\n",
    "            <img src=\"mc2_metro.png\" width=100%>\n",
    "        </td>\n",
    "        <td></td>\n",
    "        <td>\n",
    "            <img src=\"mc2_gibbs.png\" width=100%>\n",
    "        </td>\n",
    "    </tr>\n",
    "</table>"
   ]
  },
  {
   "cell_type": "markdown",
   "metadata": {
    "slideshow": {
     "slide_type": "slide"
    }
   },
   "source": [
    "In general, this is not obviously an improvement to proposing changes to all $\\theta$ simultaneously.\n",
    "\n",
    "Why is a random drunk walking in one specific direction at a time better than just taking a random step???"
   ]
  },
  {
   "cell_type": "markdown",
   "metadata": {
    "slideshow": {
     "slide_type": "slide"
    }
   },
   "source": [
    "Something interesting happens if the fully conditional likelihood and prior are **conjugate** \n",
    "\n",
    "For some likelihood functions, if you choose a certain prior, *the posterior ends up being in the same distribution as the prior.* Such a prior then is called a **Conjugate Prior.**\n",
    "\n",
    "i.e. \n",
    "\n",
    "# $$ P(\\theta) \\mathrm{\\; such\\; that\\; } P(\\theta|D) = P(\\theta) $$\n",
    "\n",
    "\n",
    "i.e. we know the conditional posterior exactly!"
   ]
  },
  {
   "cell_type": "markdown",
   "metadata": {
    "slideshow": {
     "slide_type": "slide"
    }
   },
   "source": [
    "If we use independent samples of the conditional posterior as proposals, then the Metropolis-Hastings acceptance ratio becomes\n",
    "\n",
    "## $$\\frac{p(x')g(x|x')}{p(x)g(x'|x)} = \\frac{p(x')p(x)}{p(x)p(x')} = 1$$\n",
    "\n",
    "**and every proposal is automatically accepted!**"
   ]
  },
  {
   "cell_type": "markdown",
   "metadata": {
    "slideshow": {
     "slide_type": "slide"
    }
   },
   "source": [
    "Conjugate Gibbs Sampling:\n",
    "```\n",
    "while we want more samples\n",
    "    draw th1 from p(th1|th2,th3,...,data)\n",
    "    draw th2 from p(th2|th1,th3,...,data)\n",
    "    ...\n",
    "```"
   ]
  },
  {
   "cell_type": "markdown",
   "metadata": {
    "slideshow": {
     "slide_type": "slide"
    }
   },
   "source": [
    "* Beta posterior\n",
    "\n",
    "    * Beta prior * Bernoulli likelihood → Beta posterior\n",
    "    * Beta prior * Binomial likelihood → Beta posterior\n",
    "    * Beta prior * Negative Binomial likelihood → Beta posterior\n",
    "    * Beta prior * Geometric likelihood → Beta posterior\n",
    "\n",
    "* Gamma posterior\n",
    "   * Gamma prior * Poisson likelihood → Gamma posterior\n",
    "   * Gamma prior * Exponential likelihood → Gamma posterior\n",
    "\n",
    "* Normal posterior\n",
    "    * Normal prior * Normal likelihood (mean) → Normal posterior"
   ]
  },
  {
   "cell_type": "markdown",
   "metadata": {
    "slideshow": {
     "slide_type": "slide"
    }
   },
   "source": [
    "Gibbs Sampling Pros:\n",
    "* No cycles \"wasted\" on rejected proposals\n",
    "* No pesky tuning of the proposal scale\n",
    "\n",
    "Gibbs Sampling Cons:    \n",
    "* Only works for conjugate or partially conjugate models (hence must choose conjugate priors)\n",
    "* Occasionally still slower than proposing multi-parameter Metropolis updates (e.g. when degeneracies are strong)"
   ]
  },
  {
   "cell_type": "markdown",
   "metadata": {
    "slideshow": {
     "slide_type": "slide"
    }
   },
   "source": [
    "Some multiple modes:\n",
    "<table>\n",
    "    <tr>\n",
    "        <td>\n",
    "            Some spectral model<br>\n",
    "            <img src=\"mc2_multimode_eg2.png\" width=100%>\n",
    "        </td>\n",
    "        <td></td>\n",
    "        <td>\n",
    "            The eggbox function<br>\n",
    "            <img src=\"mc2_eggbox.png\" width=100%>\n",
    "        </td>\n",
    "    </tr>\n",
    "</table>"
   ]
  },
  {
   "cell_type": "markdown",
   "metadata": {
    "slideshow": {
     "slide_type": "slide"
    }
   },
   "source": [
    "In these cases, when we were talking about optimizers (as opposed to samplers) that used gradient descent, we found that local optimizers got stuck\n",
    "\n",
    "<table>\n",
    "    <tr>\n",
    "        <td>\n",
    "            Some spectral model<br>\n",
    "            <img src=\"global_vs_local.png\" width=100%>\n",
    "        </td>\n",
    "    </tr>\n",
    "</table>\n",
    "\n",
    "We talked about **simulated annealing** and **basin hopping** as examples of *global optimizers* that can get out of these local minima.\n",
    "\n",
    "With MH, you'd have to make a large step size, but that has a major downside - your acceptance ratio goes down and your autocorrelation time goes up.\n",
    "\n",
    "So, it's reasonable to ask if there's an analog for MCMC."
   ]
  },
  {
   "cell_type": "markdown",
   "metadata": {
    "slideshow": {
     "slide_type": "slide"
    }
   },
   "source": [
    "## Tempering\n",
    "Consider the function $[p(x)]^{1/T}$, where $p(x)$ is the target PDF.\n",
    "* We say a chain sampling this function has temperature $T$. For $T>1$, $p^{1/T}$ is smoothed out compared with $p$.\n",
    "    * This is the same sort of thing that we saw with **simulated annealing** - start with sampling at a high temperature and then gradually lower the temperature with some schedule\n",
    "* This allows chains to move among multiple peaks more easily.\n",
    "* Of course, we're only actually interested in $T=1$..."
   ]
  },
  {
   "cell_type": "markdown",
   "metadata": {
    "slideshow": {
     "slide_type": "slide"
    }
   },
   "source": [
    "### Parallel tempering\n",
    "\n",
    "With parallel tempering, we run one chain with $T=1$ and several more chains with $T>1$. A modified Metropolis-Hastings update occasionally allows the chains to exchange positions, giving the $T=1$ chain a mechanism for sampling regions of parameter space it might otherwise have low probability of proposing. Samples from the $T=1$ chain can be used for inference."
   ]
  },
  {
   "cell_type": "markdown",
   "metadata": {
    "slideshow": {
     "slide_type": "slide"
    }
   },
   "source": [
    "## In Class Exercise: think\n",
    "\n",
    "Recall the ugly PDF features we were motivated by, namely strong/nonlinear degeneracies and multiple modes.\n",
    "For each of the methods above, do you expect an improvement compared with standard Metropolis in these situations. \n",
    "\n",
    "Why and for which methods?\n",
    "\n",
    "<table>\n",
    "    <tr>\n",
    "        <td>\n",
    "            <img src=\"mc2_rosenbrock.png\" width=80%>\n",
    "        </td>\n",
    "        <td></td>\n",
    "        <td>\n",
    "            <img src=\"mc2_eggbox.png\" width=80%>\n",
    "        </td>\n",
    "    </tr>\n",
    "</table>"
   ]
  },
  {
   "cell_type": "markdown",
   "metadata": {
    "slideshow": {
     "slide_type": "slide"
    }
   },
   "source": [
    "## Coping with multiple modes\n",
    "\n",
    "Multiple, well separated posterior modes are a serious challenge for many samplers.\n",
    "* In general, the only way to discover that they exist is by exploring the parameter space with many widely dispersed chains.\n",
    "* To do inference, our chains need to be able to efficiently transition between modes - so far the most reliable general method we've seen for this is parallel tempering. "
   ]
  },
  {
   "cell_type": "markdown",
   "metadata": {
    "slideshow": {
     "slide_type": "slide"
    }
   },
   "source": [
    "## Implementations of other samplers that are commonly used in research:\n",
    "\n",
    "1. Gibbs Sampling ([pymc3](https://docs.pymc.io/))\n",
    "2. Parallel Tempering (now in [ptemcee](https://pypi.org/project/ptemcee/))\n",
    "3. Hamiltonian Monte Carlo/No U-turn Sampling (also [pymc3](https://docs.pymc.io/))\n",
    "\n",
    "And this is also a sampler, but is not actually a Markov Chain method (Monte Carlo is logically separate from Markov Chain Monte Carlo)\n",
    "4. Nested Sampling ([dynesty](https://dynesty.readthedocs.io/en/latest/index.html) or [Multinest](https://johannesbuchner.github.io/PyMultiNest/))\n",
    "\n",
    "\n",
    "We can't cover all of these, but you should have a good idea on how to start with any of them by now, and which one to pick for a particular problem."
   ]
  }
 ],
 "metadata": {
  "anaconda-cloud": {},
  "celltoolbar": "Slideshow",
  "kernelspec": {
   "display_name": "Python [conda env:fds] *",
   "language": "python",
   "name": "conda-env-fds-py"
  },
  "language_info": {
   "codemirror_mode": {
    "name": "ipython",
    "version": 3
   },
   "file_extension": ".py",
   "mimetype": "text/x-python",
   "name": "python",
   "nbconvert_exporter": "python",
   "pygments_lexer": "ipython3",
   "version": "3.7.6"
  },
  "livereveal": {
   "scroll": true,
   "start_slideshow_at": "selected"
  }
 },
 "nbformat": 4,
 "nbformat_minor": 1
}
